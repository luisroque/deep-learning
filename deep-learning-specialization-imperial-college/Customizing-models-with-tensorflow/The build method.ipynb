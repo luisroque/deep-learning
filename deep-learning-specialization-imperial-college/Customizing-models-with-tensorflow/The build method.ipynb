{
 "cells": [
  {
   "cell_type": "markdown",
   "id": "canadian-jefferson",
   "metadata": {},
   "source": [
    "# Flexible input shapes for custom layers\n",
    "In this reading you will learn how to use the build method to allow custom layers to work with flexible sized inputs."
   ]
  },
  {
   "cell_type": "code",
   "execution_count": 1,
   "id": "civic-bullet",
   "metadata": {},
   "outputs": [
    {
     "name": "stdout",
     "output_type": "stream",
     "text": [
      "2.0.0\n"
     ]
    }
   ],
   "source": [
    "import tensorflow as tf\n",
    "print(tf.__version__)"
   ]
  },
  {
   "cell_type": "markdown",
   "id": "appreciated-telescope",
   "metadata": {},
   "source": [
    "## Fix the input shape in the custom layer"
   ]
  },
  {
   "cell_type": "markdown",
   "id": "accompanied-footwear",
   "metadata": {},
   "source": [
    "Previously, you have created custom layers by initialising all variables in the `__init__` method. For instance, you defined a dense layer called `MyLayer` as follows:"
   ]
  },
  {
   "cell_type": "code",
   "execution_count": 2,
   "id": "corporate-payday",
   "metadata": {},
   "outputs": [],
   "source": [
    "# Create a custom layer\n",
    "\n",
    "from tensorflow.keras.layers import Layer\n",
    "\n",
    "class MyLayer(Layer):\n",
    "\n",
    "    def __init__(self, units, input_dim, **kwargs):\n",
    "        super(MyLayer, self).__init__(**kwargs)\n",
    "        self.w = self.add_weight(shape=(input_dim, units),\n",
    "                             initializer='random_normal')\n",
    "        self.b = self.add_weight(shape=(units,),\n",
    "                             initializer='zeros')\n",
    "        \n",
    "    def call(self, inputs):\n",
    "        return tf.matmul(inputs, self.w)+self.b"
   ]
  },
  {
   "cell_type": "markdown",
   "id": "rental-disability",
   "metadata": {},
   "source": [
    "Notice that the required arguments for the `__init__` method are the number of units in the dense layer (`units`) and the input size (`input_dim`). This means that you need to fix these two arguments when you instantiate the layer."
   ]
  },
  {
   "cell_type": "code",
   "execution_count": 3,
   "id": "southeast-metabolism",
   "metadata": {},
   "outputs": [],
   "source": [
    "#  Create a custom layer with 3 units and input dimension of 5\n",
    "\n",
    "dense_layer = MyLayer(3, 5) "
   ]
  },
  {
   "cell_type": "markdown",
   "id": "brutal-mercury",
   "metadata": {},
   "source": [
    "Since the input size has been fixed to be 5, this custom layer can only take inputs of that size. For example, we can call the layer as follows:"
   ]
  },
  {
   "cell_type": "code",
   "execution_count": 4,
   "id": "statutory-gravity",
   "metadata": {},
   "outputs": [
    {
     "name": "stdout",
     "output_type": "stream",
     "text": [
      "tf.Tensor([[ 0.1919778   0.02285921 -0.05144972]], shape=(1, 3), dtype=float32)\n"
     ]
    }
   ],
   "source": [
    "# Call the custom layer on a Tensor input of ones\n",
    "\n",
    "x = tf.ones((1,5))\n",
    "print(dense_layer(x))"
   ]
  },
  {
   "cell_type": "markdown",
   "id": "developed-portsmouth",
   "metadata": {},
   "source": [
    "However, forcing the input shape (and therefore the shape of the weights) to be fixed when the layer is instantiated is unnecessary, and it may be more convenient to only do this later on, after the model has been defined. \n",
    "\n",
    "For example, in some cases you may not know the input shape at the model building time. We have come across this concept before when building models with the Sequential API. If the `input_shape` argument is omitted, the weights will only be created when an input is passed into the model."
   ]
  },
  {
   "cell_type": "markdown",
   "id": "portuguese-beauty",
   "metadata": {},
   "source": [
    "## Allow a flexible input shape in the custom layer"
   ]
  },
  {
   "cell_type": "markdown",
   "id": "appropriate-satellite",
   "metadata": {},
   "source": [
    "You can delay the weight creation by using the `build` method to define the weights. The `build` method is executed when the `__call__` method is called, meaning the weights are only created only the layer is called with a specific input.\n",
    "\n",
    "The `build` method has a required argument `input_shape`, which can be used to define the shapes of the layer weights."
   ]
  },
  {
   "cell_type": "code",
   "execution_count": 5,
   "id": "laden-royal",
   "metadata": {},
   "outputs": [],
   "source": [
    "# Rewrite the custom layer with lazy weight creation\n",
    "\n",
    "class MyLayer(Layer):\n",
    "\n",
    "    def __init__(self, units, **kwargs):\n",
    "        super(MyLayer, self).__init__(**kwargs)\n",
    "        self.units = units\n",
    "    \n",
    "    def build(self, input_shape):\n",
    "        self.w = self.add_weight(shape=(input_shape[-1], self.units),\n",
    "                                 initializer='random_normal')\n",
    "        self.b = self.add_weight(shape=(self.units,),\n",
    "                                 initializer='zeros')\n",
    "    def call(self, inputs):\n",
    "        return tf.matmul(inputs, self.w)+self.b"
   ]
  },
  {
   "cell_type": "markdown",
   "id": "important-seating",
   "metadata": {},
   "source": [
    "Now, when you instantiate the layer, you only need to specify the number of units in the dense layer (`units`), and not the input size (`input_dim`)."
   ]
  },
  {
   "cell_type": "markdown",
   "id": "latter-theme",
   "metadata": {},
   "source": [
    "### Create a custom layer with flexible input size"
   ]
  },
  {
   "cell_type": "code",
   "execution_count": 6,
   "id": "unauthorized-anthropology",
   "metadata": {},
   "outputs": [],
   "source": [
    "#  Create a custom layer with 3 units\n",
    "\n",
    "dense_layer = MyLayer(3) "
   ]
  },
  {
   "cell_type": "markdown",
   "id": "italic-envelope",
   "metadata": {},
   "source": [
    "This layer can now be called on an input of any size, at which point the layer weights will be created and the input size will be fixed."
   ]
  },
  {
   "cell_type": "code",
   "execution_count": 7,
   "id": "weighted-stick",
   "metadata": {},
   "outputs": [
    {
     "name": "stdout",
     "output_type": "stream",
     "text": [
      "tf.Tensor([[-0.08579091 -0.07406563 -0.059096  ]], shape=(1, 3), dtype=float32)\n"
     ]
    }
   ],
   "source": [
    "# Call the custom layer on a Tensor input of ones of size 5\n",
    "\n",
    "x = tf.ones((1,5))\n",
    "print(dense_layer(x))"
   ]
  },
  {
   "cell_type": "code",
   "execution_count": 8,
   "id": "missing-franchise",
   "metadata": {},
   "outputs": [
    {
     "data": {
      "text/plain": [
       "[<tf.Variable 'my_layer_1/Variable:0' shape=(5, 3) dtype=float32, numpy=\n",
       " array([[ 0.00151641,  0.01391528,  0.03198516],\n",
       "        [ 0.01831857,  0.05281392,  0.04196347],\n",
       "        [ 0.00789549, -0.08967363,  0.01392545],\n",
       "        [-0.08034652, -0.02847882, -0.00573527],\n",
       "        [-0.03317486, -0.02264237, -0.14123482]], dtype=float32)>,\n",
       " <tf.Variable 'my_layer_1/Variable:0' shape=(3,) dtype=float32, numpy=array([0., 0., 0.], dtype=float32)>]"
      ]
     },
     "execution_count": 8,
     "metadata": {},
     "output_type": "execute_result"
    }
   ],
   "source": [
    "# Print the layer weights\n",
    "\n",
    "dense_layer.weights"
   ]
  },
  {
   "cell_type": "markdown",
   "id": "damaged-borough",
   "metadata": {},
   "source": [
    "### Create a new custom layer and pass in a different sized input"
   ]
  },
  {
   "cell_type": "code",
   "execution_count": 9,
   "id": "coupled-harbor",
   "metadata": {},
   "outputs": [],
   "source": [
    "#  Create a new custom layer with 3 units\n",
    "\n",
    "dense_layer = MyLayer(3) "
   ]
  },
  {
   "cell_type": "code",
   "execution_count": 10,
   "id": "seeing-ceiling",
   "metadata": {},
   "outputs": [
    {
     "name": "stdout",
     "output_type": "stream",
     "text": [
      "tf.Tensor([[-0.01215556  0.10278672  0.0308079 ]], shape=(1, 3), dtype=float32)\n"
     ]
    }
   ],
   "source": [
    "# Call the custom layer on a Tensor input of ones of size 4\n",
    "\n",
    "x = tf.ones((1,4))\n",
    "print(dense_layer(x))"
   ]
  },
  {
   "cell_type": "code",
   "execution_count": 11,
   "id": "automatic-voluntary",
   "metadata": {},
   "outputs": [
    {
     "data": {
      "text/plain": [
       "[<tf.Variable 'my_layer_2/Variable:0' shape=(4, 3) dtype=float32, numpy=\n",
       " array([[ 0.0095851 ,  0.04111781, -0.05885183],\n",
       "        [-0.02296829, -0.00647697,  0.04073662],\n",
       "        [ 0.01363536,  0.05014886,  0.0272902 ],\n",
       "        [-0.01240773,  0.01799703,  0.02163292]], dtype=float32)>,\n",
       " <tf.Variable 'my_layer_2/Variable:0' shape=(3,) dtype=float32, numpy=array([0., 0., 0.], dtype=float32)>]"
      ]
     },
     "execution_count": 11,
     "metadata": {},
     "output_type": "execute_result"
    }
   ],
   "source": [
    "# Print the layer weights\n",
    "\n",
    "dense_layer.weights"
   ]
  },
  {
   "cell_type": "markdown",
   "id": "declared-elephant",
   "metadata": {},
   "source": [
    "Note that the code for creating a custom layer object is identical, but the shape of the weights in the layer depend on the size of the input passed to the layer."
   ]
  },
  {
   "cell_type": "markdown",
   "id": "enhanced-locking",
   "metadata": {},
   "source": [
    "## Flexible input shapes in models"
   ]
  },
  {
   "cell_type": "markdown",
   "id": "occasional-professional",
   "metadata": {},
   "source": [
    "Deferring the weight creation until the layer is called is also useful when using the custom layer as an intermediate layer inside a larger model. In this case you may want to create several custom layer objects in the model, and it is tedious to keep track of the input shape that each of the custom layers needs. \n",
    "\n",
    "By deferring the weight creation as above, the input shape can be inferred from the output of the previous layer."
   ]
  },
  {
   "cell_type": "code",
   "execution_count": 12,
   "id": "referenced-scientist",
   "metadata": {},
   "outputs": [],
   "source": [
    "# Create a model using the custom layer\n",
    "\n",
    "from tensorflow.keras.models import Model\n",
    "from tensorflow.keras.layers import Softmax\n",
    "\n",
    "class MyModel(Model):\n",
    "\n",
    "    def __init__(self, units_1, units_2, **kwargs):\n",
    "        super(MyModel, self).__init__(**kwargs)\n",
    "        self.layer_1 = MyLayer(units_1)\n",
    "        self.layer_2 = MyLayer(units_2)\n",
    "\n",
    "    def call(self, inputs):\n",
    "        x = self.layer_1(inputs)\n",
    "        x = tf.nn.relu(x)\n",
    "        x = self.layer_2(x)\n",
    "        return Softmax()(x)"
   ]
  },
  {
   "cell_type": "markdown",
   "id": "pacific-dancing",
   "metadata": {},
   "source": [
    "In the above model definition, the custom layer `MyLayer` is used twice. Notice that each instance of the custom layer object can have a different input size, depending on the arguments used to create the model and the inputs passed into the model"
   ]
  },
  {
   "cell_type": "code",
   "execution_count": 13,
   "id": "disabled-baseball",
   "metadata": {},
   "outputs": [],
   "source": [
    "# Create a custom model object\n",
    "\n",
    "model = MyModel(units_1=32, units_2=10)"
   ]
  },
  {
   "cell_type": "markdown",
   "id": "documented-cartoon",
   "metadata": {},
   "source": [
    "We can create and initialise all of the weights of the model by passing in an example Tensor input."
   ]
  },
  {
   "cell_type": "code",
   "execution_count": 14,
   "id": "capable-paper",
   "metadata": {},
   "outputs": [],
   "source": [
    "# Create and initialize all of the model weights\n",
    "\n",
    "_ = model(tf.ones((1, 100)))"
   ]
  },
  {
   "cell_type": "code",
   "execution_count": 15,
   "id": "charitable-hunger",
   "metadata": {},
   "outputs": [
    {
     "name": "stdout",
     "output_type": "stream",
     "text": [
      "Model: \"my_model\"\n",
      "_________________________________________________________________\n",
      "Layer (type)                 Output Shape              Param #   \n",
      "=================================================================\n",
      "my_layer_3 (MyLayer)         multiple                  3232      \n",
      "_________________________________________________________________\n",
      "my_layer_4 (MyLayer)         multiple                  330       \n",
      "=================================================================\n",
      "Total params: 3,562\n",
      "Trainable params: 3,562\n",
      "Non-trainable params: 0\n",
      "_________________________________________________________________\n"
     ]
    }
   ],
   "source": [
    "# Print the model summary\n",
    "\n",
    "model.summary()"
   ]
  },
  {
   "cell_type": "markdown",
   "id": "romantic-grain",
   "metadata": {},
   "source": [
    "## Further reading and resources \n",
    "* https://www.tensorflow.org/guide/keras/custom_layers_and_models#best_practice_deferring_weight_creation_until_the_shape_of_the_inputs_is_known"
   ]
  },
  {
   "cell_type": "code",
   "execution_count": null,
   "id": "wireless-singer",
   "metadata": {},
   "outputs": [],
   "source": []
  }
 ],
 "metadata": {
  "kernelspec": {
   "display_name": "Python 3",
   "language": "python",
   "name": "python3"
  },
  "language_info": {
   "codemirror_mode": {
    "name": "ipython",
    "version": 3
   },
   "file_extension": ".py",
   "mimetype": "text/x-python",
   "name": "python",
   "nbconvert_exporter": "python",
   "pygments_lexer": "ipython3",
   "version": "3.7.6"
  }
 },
 "nbformat": 4,
 "nbformat_minor": 5
}
