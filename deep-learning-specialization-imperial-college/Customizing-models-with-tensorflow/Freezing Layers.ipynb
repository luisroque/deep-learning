{
 "cells": [
  {
   "cell_type": "code",
   "execution_count": 2,
   "id": "broken-segment",
   "metadata": {},
   "outputs": [],
   "source": [
    "import numpy as np\n",
    "import matplotlib.pyplot as plt\n",
    "%matplotlib inline"
   ]
  },
  {
   "cell_type": "markdown",
   "id": "fundamental-blues",
   "metadata": {},
   "source": [
    "### Build the model"
   ]
  },
  {
   "cell_type": "code",
   "execution_count": 20,
   "id": "protecting-argentina",
   "metadata": {},
   "outputs": [],
   "source": [
    "# Build a small sequential model\n",
    "\n",
    "from tensorflow.keras.models import Sequential\n",
    "from tensorflow.keras import layers\n",
    "\n",
    "model = Sequential([\n",
    "    layers.Dense(4, input_shape=(4,), activation='relu', kernel_initializer='random_uniform', bias_initializer='ones'),\n",
    "    layers.Dense(2, activation='relu', kernel_initializer='lecun_normal', bias_initializer='ones'),\n",
    "    layers.Dense(4, activation='softmax')\n",
    "])"
   ]
  },
  {
   "cell_type": "code",
   "execution_count": 21,
   "id": "spanish-semiconductor",
   "metadata": {},
   "outputs": [
    {
     "name": "stdout",
     "output_type": "stream",
     "text": [
      "Model: \"sequential_2\"\n",
      "_________________________________________________________________\n",
      "Layer (type)                 Output Shape              Param #   \n",
      "=================================================================\n",
      "dense_7 (Dense)              (None, 4)                 20        \n",
      "_________________________________________________________________\n",
      "dense_8 (Dense)              (None, 2)                 10        \n",
      "_________________________________________________________________\n",
      "dense_9 (Dense)              (None, 4)                 12        \n",
      "=================================================================\n",
      "Total params: 42\n",
      "Trainable params: 42\n",
      "Non-trainable params: 0\n",
      "_________________________________________________________________\n"
     ]
    }
   ],
   "source": [
    "# Display the model summary\n",
    "\n",
    "model.summary()"
   ]
  },
  {
   "cell_type": "markdown",
   "id": "serial-scholarship",
   "metadata": {},
   "source": [
    "### Examine the weight matrix variation over training"
   ]
  },
  {
   "cell_type": "code",
   "execution_count": 22,
   "id": "sapphire-monster",
   "metadata": {},
   "outputs": [],
   "source": [
    "# Retrive the weights and biases\n",
    "\n",
    "W0_layers = [e.weights[0].numpy() for e in model.layers]\n",
    "b0_layers = [e.bias.numpy() for e in model.layers]"
   ]
  },
  {
   "cell_type": "code",
   "execution_count": 23,
   "id": "worth-cardiff",
   "metadata": {},
   "outputs": [],
   "source": [
    "# Construct a synthetic dataset\n",
    "\n",
    "x_train = np.random.random((100, 4))\n",
    "y_train = x_train\n",
    "\n",
    "x_test = np.random.random((20, 4))\n",
    "y_test = x_test"
   ]
  },
  {
   "cell_type": "code",
   "execution_count": 24,
   "id": "postal-interval",
   "metadata": {},
   "outputs": [],
   "source": [
    "# Compile and fit the model\n",
    "\n",
    "model.compile(optimizer='adam',\n",
    "            loss='mse',\n",
    "            metrics=['acc'])\n",
    "\n",
    "model.fit(x_train, y_train, epochs=50, verbose=False);"
   ]
  },
  {
   "cell_type": "code",
   "execution_count": 25,
   "id": "athletic-airport",
   "metadata": {},
   "outputs": [],
   "source": [
    "# Retrieve the weights and biases\n",
    "\n",
    "W1_layers = [e.weights[0].numpy() for e in model.layers]\n",
    "b1_layers = [e.bias.numpy() for e in model.layers]"
   ]
  },
  {
   "cell_type": "code",
   "execution_count": 27,
   "id": "upset-perspective",
   "metadata": {},
   "outputs": [
    {
     "name": "stdout",
     "output_type": "stream",
     "text": [
      "Layer 0: bias variation:  0.16677839\n",
      "Layer 1: bias variation:  0.16875759\n",
      "Layer 2: bias variation:  0.29948202\n"
     ]
    },
    {
     "data": {
      "image/png": "[encoded data removed]",
      "text/plain": [
       "<Figure size 576x576 with 4 Axes>"
      ]
     },
     "metadata": {
      "needs_background": "light"
     },
     "output_type": "display_data"
    }
   ],
   "source": [
    "# Plot the variation \n",
    "\n",
    "plt.figure(figsize=(8,8))\n",
    "for n in range(3):\n",
    "    delta_1 = W1_layers[n] - W0_layers[n]\n",
    "    print('Layer '+str(n)+': bias variation: ', np.linalg.norm(b1_layers[n] - b0_layers[n]))\n",
    "    ax = plt.subplot(1, 3, n+1)\n",
    "    plt.imshow(delta_1)\n",
    "    plt.title('Layer '+str(n))\n",
    "    plt.axis('off')\n",
    "plt.colorbar()\n",
    "plt.suptitle('Weight matrices variation');"
   ]
  },
  {
   "cell_type": "code",
   "execution_count": 31,
   "id": "welcome-hybrid",
   "metadata": {},
   "outputs": [],
   "source": [
    "def get_weights(model):\n",
    "    return [e.weights[0].numpy() for e in model.layers]\n",
    "\n",
    "def get_biases(model):\n",
    "    return [e.bias.numpy() for e in model.layers]\n",
    "\n",
    "def plot_delta_weights(W0_layers, W1_layers, b0_layers, b1_layers):\n",
    "    plt.figure(figsize=(8,8))\n",
    "    for n in range(3):\n",
    "        delta_1 = W1_layers[n] - W0_layers[n]\n",
    "        print('Layer '+str(n)+': bias variation: ', np.linalg.norm(b1_layers[n] - b0_layers[n]))\n",
    "        ax = plt.subplot(1, 3, n+1)\n",
    "        plt.imshow(delta_1)\n",
    "        plt.title('Layer '+str(n))\n",
    "        plt.axis('off')\n",
    "    plt.colorbar()\n",
    "    plt.suptitle('Weight matrices variation');"
   ]
  },
  {
   "cell_type": "markdown",
   "id": "floppy-assistant",
   "metadata": {},
   "source": [
    "### Freeze layers at build time"
   ]
  },
  {
   "cell_type": "code",
   "execution_count": 49,
   "id": "cheap-museum",
   "metadata": {},
   "outputs": [
    {
     "name": "stdout",
     "output_type": "stream",
     "text": [
      "2\n",
      "4\n"
     ]
    }
   ],
   "source": [
    "# Count the trainable and non trainable variables before the freezing\n",
    "\n",
    "n_trainable_variables = len(model.trainable_variables)\n",
    "n_non_trainable_variables = len(model.non_trainable_variables)\n",
    "\n",
    "print(n_trainable_variables)\n",
    "print(n_non_trainable_variables)"
   ]
  },
  {
   "cell_type": "code",
   "execution_count": 50,
   "id": "skilled-pendant",
   "metadata": {},
   "outputs": [],
   "source": [
    "model = Sequential([\n",
    "    layers.Dense(4, input_shape=(4,), activation='relu', kernel_initializer='random_uniform', bias_initializer='ones', trainable=False),\n",
    "    layers.Dense(2, activation='relu', kernel_initializer='lecun_normal', bias_initializer='ones'),\n",
    "    layers.Dense(4, activation='softmax')\n",
    "])"
   ]
  },
  {
   "cell_type": "code",
   "execution_count": 51,
   "id": "floating-storm",
   "metadata": {},
   "outputs": [
    {
     "name": "stdout",
     "output_type": "stream",
     "text": [
      "4\n",
      "2\n"
     ]
    }
   ],
   "source": [
    "# After freezing \n",
    "\n",
    "n_trainable_variables = len(model.trainable_variables)\n",
    "n_non_trainable_variables = len(model.non_trainable_variables)\n",
    "\n",
    "print(n_trainable_variables)\n",
    "print(n_non_trainable_variables)"
   ]
  },
  {
   "cell_type": "code",
   "execution_count": 52,
   "id": "modified-custody",
   "metadata": {},
   "outputs": [],
   "source": [
    "W0_layers = get_weights(model)\n",
    "b0_layers = get_biases(model)"
   ]
  },
  {
   "cell_type": "code",
   "execution_count": 53,
   "id": "leading-wedding",
   "metadata": {},
   "outputs": [],
   "source": [
    "# Compile and fit the model\n",
    "\n",
    "model.compile(optimizer='adam',\n",
    "            loss='mse',\n",
    "            metrics=['acc'])\n",
    "\n",
    "model.fit(x_train, y_train, epochs=50, verbose=False);"
   ]
  },
  {
   "cell_type": "code",
   "execution_count": 54,
   "id": "chicken-warren",
   "metadata": {},
   "outputs": [],
   "source": [
    "W1_layers = get_weights(model)\n",
    "b1_layers = get_biases(model)"
   ]
  },
  {
   "cell_type": "code",
   "execution_count": 55,
   "id": "selective-anchor",
   "metadata": {},
   "outputs": [
    {
     "name": "stdout",
     "output_type": "stream",
     "text": [
      "Layer 0: bias variation:  0.0\n",
      "Layer 1: bias variation:  0.06808269\n",
      "Layer 2: bias variation:  0.12554279\n"
     ]
    },
    {
     "data": {
      "image/png": "[encoded data removed]",
      "text/plain": [
       "<Figure size 576x576 with 4 Axes>"
      ]
     },
     "metadata": {
      "needs_background": "light"
     },
     "output_type": "display_data"
    }
   ],
   "source": [
    "plot_delta_weights(W0_layers, W1_layers, b0_layers, b1_layers)"
   ]
  },
  {
   "cell_type": "markdown",
   "id": "played-firmware",
   "metadata": {},
   "source": [
    "### Freeze layers of a pre-built model"
   ]
  },
  {
   "cell_type": "code",
   "execution_count": 56,
   "id": "dirty-peace",
   "metadata": {},
   "outputs": [],
   "source": [
    "model.layers[1].trainable=False"
   ]
  },
  {
   "cell_type": "code",
   "execution_count": 57,
   "id": "compound-validation",
   "metadata": {},
   "outputs": [
    {
     "name": "stdout",
     "output_type": "stream",
     "text": [
      "2\n",
      "4\n"
     ]
    }
   ],
   "source": [
    "n_trainable_variables = len(model.trainable_variables)\n",
    "n_non_trainable_variables = len(model.non_trainable_variables)\n",
    "\n",
    "print(n_trainable_variables)\n",
    "print(n_non_trainable_variables)"
   ]
  },
  {
   "cell_type": "code",
   "execution_count": 58,
   "id": "compliant-fifty",
   "metadata": {},
   "outputs": [],
   "source": [
    "# Compile and fit the model\n",
    "\n",
    "model.compile(optimizer='adam',\n",
    "            loss='mse',\n",
    "            metrics=['acc'])\n",
    "\n",
    "model.fit(x_train, y_train, epochs=50, verbose=False);"
   ]
  },
  {
   "cell_type": "code",
   "execution_count": 59,
   "id": "english-singapore",
   "metadata": {},
   "outputs": [],
   "source": [
    "W2_layers = get_weights(model)\n",
    "b2_layers = get_biases(model)"
   ]
  },
  {
   "cell_type": "code",
   "execution_count": 61,
   "id": "composed-publicity",
   "metadata": {},
   "outputs": [
    {
     "name": "stdout",
     "output_type": "stream",
     "text": [
      "Layer 0: bias variation:  0.0\n",
      "Layer 1: bias variation:  0.0\n",
      "Layer 2: bias variation:  0.026265144\n"
     ]
    },
    {
     "data": {
      "image/png": "[encoded data removed]",
      "text/plain": [
       "<Figure size 576x576 with 4 Axes>"
      ]
     },
     "metadata": {
      "needs_background": "light"
     },
     "output_type": "display_data"
    }
   ],
   "source": [
    "plot_delta_weights(W1_layers, W2_layers, b1_layers, b2_layers)"
   ]
  },
  {
   "cell_type": "code",
   "execution_count": null,
   "id": "liberal-anchor",
   "metadata": {},
   "outputs": [],
   "source": []
  }
 ],
 "metadata": {
  "kernelspec": {
   "display_name": "Python 3",
   "language": "python",
   "name": "python3"
  },
  "language_info": {
   "codemirror_mode": {
    "name": "ipython",
    "version": 3
   },
   "file_extension": ".py",
   "mimetype": "text/x-python",
   "name": "python",
   "nbconvert_exporter": "python",
   "pygments_lexer": "ipython3",
   "version": "3.8.5"
  }
 },
 "nbformat": 4,
 "nbformat_minor": 5
}
