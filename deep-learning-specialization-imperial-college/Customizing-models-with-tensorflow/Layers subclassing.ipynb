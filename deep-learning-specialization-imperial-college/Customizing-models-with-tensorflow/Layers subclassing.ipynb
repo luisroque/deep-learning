{
 "cells": [
  {
   "cell_type": "code",
   "execution_count": 8,
   "id": "alpine-passion",
   "metadata": {},
   "outputs": [],
   "source": [
    "import tensorflow as tf\n",
    "from tensorflow.keras.layers import Layer, Dense\n",
    "from tensorflow.keras.models import Model"
   ]
  },
  {
   "cell_type": "markdown",
   "id": "historical-milwaukee",
   "metadata": {},
   "source": [
    "Create our layer class that inherits from the Layer class of keras."
   ]
  },
  {
   "cell_type": "code",
   "execution_count": 9,
   "id": "revolutionary-insertion",
   "metadata": {},
   "outputs": [],
   "source": [
    "class LinearMap(Layer):\n",
    "    \n",
    "    def __init__(self, input_dim, units):\n",
    "        super(LinearMap, self).__init__()\n",
    "        # In the initializer we create the layer variables\n",
    "        # The values of the variable need to be initialized\n",
    "        # when the layer is created\n",
    "        w_init = tf.random_normal_initializer()\n",
    "        self.w = tf.Variable(initial_value=w_init(shape=(input_dim, units)))\n",
    "        \n",
    "    def call(self, inputs):\n",
    "        # The call method contains the layer computation\n",
    "        return tf.matmul(inputs, self.w)"
   ]
  },
  {
   "cell_type": "code",
   "execution_count": 10,
   "id": "cleared-merit",
   "metadata": {},
   "outputs": [],
   "source": [
    "linear_layer = LinearMap(3, 2)"
   ]
  },
  {
   "cell_type": "code",
   "execution_count": 11,
   "id": "scenic-globe",
   "metadata": {},
   "outputs": [
    {
     "name": "stdout",
     "output_type": "stream",
     "text": [
      "tf.Tensor([[0.10946511 0.13666469]], shape=(1, 2), dtype=float32)\n"
     ]
    }
   ],
   "source": [
    "inputs = tf.ones((1,3))\n",
    "print(linear_layer(inputs))"
   ]
  },
  {
   "cell_type": "code",
   "execution_count": 12,
   "id": "integral-saudi",
   "metadata": {},
   "outputs": [
    {
     "name": "stdout",
     "output_type": "stream",
     "text": [
      "[<tf.Variable 'Variable:0' shape=(3, 2) dtype=float32, numpy=\n",
      "array([[ 6.1863430e-02, -3.1352233e-02],\n",
      "       [ 4.7564600e-02,  1.9346509e-02],\n",
      "       [ 3.7081631e-05,  1.4867042e-01]], dtype=float32)>]\n"
     ]
    }
   ],
   "source": [
    "print(linear_layer.weights)"
   ]
  },
  {
   "cell_type": "markdown",
   "id": "palestinian-blank",
   "metadata": {},
   "source": [
    "Using the `add_weights method`:"
   ]
  },
  {
   "cell_type": "code",
   "execution_count": 13,
   "id": "designing-bones",
   "metadata": {},
   "outputs": [],
   "source": [
    "class LinearMap(Layer):\n",
    "    \n",
    "    def __init__(self, input_dim, units):\n",
    "        super(LinearMap, self).__init__()\n",
    "        self.w = self.add_weight(shape=(input_dim, units),\n",
    "                                 initializer='random_normal')\n",
    "        \n",
    "    def call(self, inputs):\n",
    "        # The call method contains the layer computation\n",
    "        return tf.matmul(inputs, self.w)"
   ]
  },
  {
   "cell_type": "markdown",
   "id": "apparent-church",
   "metadata": {},
   "source": [
    "Creating a model"
   ]
  },
  {
   "cell_type": "code",
   "execution_count": 14,
   "id": "joint-alpha",
   "metadata": {},
   "outputs": [],
   "source": [
    "class MyModel(Model):\n",
    "    \n",
    "    def __init__(self, hidden_units, outputs, **kwargs):\n",
    "        super(MyModel, self).__init__(**kwargs)\n",
    "        self.dense = Dense(hidden_units, activation='sigmoid')\n",
    "        self.linear = LinearMap(hidden_units, outputs)\n",
    "    \n",
    "    def call(self, inputs):\n",
    "        h = self.dense(inputs)\n",
    "        return self.linear(h)\n",
    "    \n",
    "\n",
    "my_model = MyModel(64, 12, name = 'my_custom_model')"
   ]
  },
  {
   "cell_type": "code",
   "execution_count": null,
   "id": "challenging-respondent",
   "metadata": {},
   "outputs": [],
   "source": []
  }
 ],
 "metadata": {
  "kernelspec": {
   "display_name": "Python 3",
   "language": "python",
   "name": "python3"
  },
  "language_info": {
   "codemirror_mode": {
    "name": "ipython",
    "version": 3
   },
   "file_extension": ".py",
   "mimetype": "text/x-python",
   "name": "python",
   "nbconvert_exporter": "python",
   "pygments_lexer": "ipython3",
   "version": "3.8.5"
  }
 },
 "nbformat": 4,
 "nbformat_minor": 5
}
