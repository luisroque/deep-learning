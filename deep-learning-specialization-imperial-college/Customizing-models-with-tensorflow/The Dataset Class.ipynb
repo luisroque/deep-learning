{
 "cells": [
  {
   "cell_type": "code",
   "execution_count": 1,
   "id": "dominant-privacy",
   "metadata": {},
   "outputs": [],
   "source": [
    "import tensorflow as tf\n",
    "import numpy as np\n",
    "import matplotlib.pyplot as plt\n",
    "import os"
   ]
  },
  {
   "cell_type": "markdown",
   "id": "proof-permit",
   "metadata": {},
   "source": [
    "### Create a simple dataset"
   ]
  },
  {
   "cell_type": "code",
   "execution_count": 2,
   "id": "settled-drama",
   "metadata": {},
   "outputs": [],
   "source": [
    "x = np.zeros((100, 10, 2, 2))"
   ]
  },
  {
   "cell_type": "code",
   "execution_count": 3,
   "id": "protecting-championship",
   "metadata": {},
   "outputs": [],
   "source": [
    "# Create a dataset from the tensor x\n",
    "\n",
    "dataset1 = tf.data.Dataset.from_tensor_slices(x)"
   ]
  },
  {
   "cell_type": "code",
   "execution_count": 4,
   "id": "crude-scanning",
   "metadata": {},
   "outputs": [
    {
     "name": "stdout",
     "output_type": "stream",
     "text": [
      "<TensorSliceDataset shapes: (10, 2, 2), types: tf.float64>\n",
      "TensorSpec(shape=(10, 2, 2), dtype=tf.float64, name=None)\n"
     ]
    }
   ],
   "source": [
    "# Inspect the Dataset object\n",
    "\n",
    "print(dataset1)\n",
    "print(dataset1.element_spec)"
   ]
  },
  {
   "cell_type": "code",
   "execution_count": 5,
   "id": "local-survey",
   "metadata": {},
   "outputs": [],
   "source": [
    "x2 = [np.zeros((10, 2, 2)), np.zeros((5, 2, 2))]"
   ]
  },
  {
   "cell_type": "code",
   "execution_count": 8,
   "id": "diagnostic-discount",
   "metadata": {},
   "outputs": [
    {
     "ename": "ValueError",
     "evalue": "Can't convert non-rectangular Python sequence to Tensor.",
     "output_type": "error",
     "traceback": [
      "\u001b[0;31m---------------------------------------------------------------------------\u001b[0m",
      "\u001b[0;31mValueError\u001b[0m                                Traceback (most recent call last)",
      "\u001b[0;32m<ipython-input-8-ae5dfc838fdb>\u001b[0m in \u001b[0;36m<module>\u001b[0;34m\u001b[0m\n\u001b[1;32m      1\u001b[0m \u001b[0;31m# Try creating a dataset from tensor x2\u001b[0m\u001b[0;34m\u001b[0m\u001b[0;34m\u001b[0m\u001b[0;34m\u001b[0m\u001b[0m\n\u001b[1;32m      2\u001b[0m \u001b[0;34m\u001b[0m\u001b[0m\n\u001b[0;32m----> 3\u001b[0;31m \u001b[0mdataset2\u001b[0m \u001b[0;34m=\u001b[0m \u001b[0mtf\u001b[0m\u001b[0;34m.\u001b[0m\u001b[0mdata\u001b[0m\u001b[0;34m.\u001b[0m\u001b[0mDataset\u001b[0m\u001b[0;34m.\u001b[0m\u001b[0mfrom_tensor_slices\u001b[0m\u001b[0;34m(\u001b[0m\u001b[0mx2\u001b[0m\u001b[0;34m)\u001b[0m\u001b[0;34m\u001b[0m\u001b[0;34m\u001b[0m\u001b[0m\n\u001b[0m",
      "\u001b[0;32m~/anaconda3/envs/tf/lib/python3.8/site-packages/tensorflow/python/data/ops/dataset_ops.py\u001b[0m in \u001b[0;36mfrom_tensor_slices\u001b[0;34m(tensors)\u001b[0m\n\u001b[1;32m    689\u001b[0m       \u001b[0mDataset\u001b[0m\u001b[0;34m:\u001b[0m \u001b[0mA\u001b[0m\u001b[0;31m \u001b[0m\u001b[0;31m`\u001b[0m\u001b[0mDataset\u001b[0m\u001b[0;31m`\u001b[0m\u001b[0;34m.\u001b[0m\u001b[0;34m\u001b[0m\u001b[0;34m\u001b[0m\u001b[0m\n\u001b[1;32m    690\u001b[0m     \"\"\"\n\u001b[0;32m--> 691\u001b[0;31m     \u001b[0;32mreturn\u001b[0m \u001b[0mTensorSliceDataset\u001b[0m\u001b[0;34m(\u001b[0m\u001b[0mtensors\u001b[0m\u001b[0;34m)\u001b[0m\u001b[0;34m\u001b[0m\u001b[0;34m\u001b[0m\u001b[0m\n\u001b[0m\u001b[1;32m    692\u001b[0m \u001b[0;34m\u001b[0m\u001b[0m\n\u001b[1;32m    693\u001b[0m   \u001b[0;32mclass\u001b[0m \u001b[0m_GeneratorState\u001b[0m\u001b[0;34m(\u001b[0m\u001b[0mobject\u001b[0m\u001b[0;34m)\u001b[0m\u001b[0;34m:\u001b[0m\u001b[0;34m\u001b[0m\u001b[0;34m\u001b[0m\u001b[0m\n",
      "\u001b[0;32m~/anaconda3/envs/tf/lib/python3.8/site-packages/tensorflow/python/data/ops/dataset_ops.py\u001b[0m in \u001b[0;36m__init__\u001b[0;34m(self, element)\u001b[0m\n\u001b[1;32m   3153\u001b[0m   \u001b[0;32mdef\u001b[0m \u001b[0m__init__\u001b[0m\u001b[0;34m(\u001b[0m\u001b[0mself\u001b[0m\u001b[0;34m,\u001b[0m \u001b[0melement\u001b[0m\u001b[0;34m)\u001b[0m\u001b[0;34m:\u001b[0m\u001b[0;34m\u001b[0m\u001b[0;34m\u001b[0m\u001b[0m\n\u001b[1;32m   3154\u001b[0m     \u001b[0;34m\"\"\"See `Dataset.from_tensor_slices()` for details.\"\"\"\u001b[0m\u001b[0;34m\u001b[0m\u001b[0;34m\u001b[0m\u001b[0m\n\u001b[0;32m-> 3155\u001b[0;31m     \u001b[0melement\u001b[0m \u001b[0;34m=\u001b[0m \u001b[0mstructure\u001b[0m\u001b[0;34m.\u001b[0m\u001b[0mnormalize_element\u001b[0m\u001b[0;34m(\u001b[0m\u001b[0melement\u001b[0m\u001b[0;34m)\u001b[0m\u001b[0;34m\u001b[0m\u001b[0;34m\u001b[0m\u001b[0m\n\u001b[0m\u001b[1;32m   3156\u001b[0m     \u001b[0mbatched_spec\u001b[0m \u001b[0;34m=\u001b[0m \u001b[0mstructure\u001b[0m\u001b[0;34m.\u001b[0m\u001b[0mtype_spec_from_value\u001b[0m\u001b[0;34m(\u001b[0m\u001b[0melement\u001b[0m\u001b[0;34m)\u001b[0m\u001b[0;34m\u001b[0m\u001b[0;34m\u001b[0m\u001b[0m\n\u001b[1;32m   3157\u001b[0m     \u001b[0mself\u001b[0m\u001b[0;34m.\u001b[0m\u001b[0m_tensors\u001b[0m \u001b[0;34m=\u001b[0m \u001b[0mstructure\u001b[0m\u001b[0;34m.\u001b[0m\u001b[0mto_batched_tensor_list\u001b[0m\u001b[0;34m(\u001b[0m\u001b[0mbatched_spec\u001b[0m\u001b[0;34m,\u001b[0m \u001b[0melement\u001b[0m\u001b[0;34m)\u001b[0m\u001b[0;34m\u001b[0m\u001b[0;34m\u001b[0m\u001b[0m\n",
      "\u001b[0;32m~/anaconda3/envs/tf/lib/python3.8/site-packages/tensorflow/python/data/util/structure.py\u001b[0m in \u001b[0;36mnormalize_element\u001b[0;34m(element, element_signature)\u001b[0m\n\u001b[1;32m    127\u001b[0m           \u001b[0mdtype\u001b[0m \u001b[0;34m=\u001b[0m \u001b[0mgetattr\u001b[0m\u001b[0;34m(\u001b[0m\u001b[0mspec\u001b[0m\u001b[0;34m,\u001b[0m \u001b[0;34m\"dtype\"\u001b[0m\u001b[0;34m,\u001b[0m \u001b[0;32mNone\u001b[0m\u001b[0;34m)\u001b[0m\u001b[0;34m\u001b[0m\u001b[0;34m\u001b[0m\u001b[0m\n\u001b[1;32m    128\u001b[0m           normalized_components.append(\n\u001b[0;32m--> 129\u001b[0;31m               ops.convert_to_tensor(t, name=\"component_%d\" % i, dtype=dtype))\n\u001b[0m\u001b[1;32m    130\u001b[0m   \u001b[0;32mreturn\u001b[0m \u001b[0mnest\u001b[0m\u001b[0;34m.\u001b[0m\u001b[0mpack_sequence_as\u001b[0m\u001b[0;34m(\u001b[0m\u001b[0mpack_as\u001b[0m\u001b[0;34m,\u001b[0m \u001b[0mnormalized_components\u001b[0m\u001b[0;34m)\u001b[0m\u001b[0;34m\u001b[0m\u001b[0;34m\u001b[0m\u001b[0m\n\u001b[1;32m    131\u001b[0m \u001b[0;34m\u001b[0m\u001b[0m\n",
      "\u001b[0;32m~/anaconda3/envs/tf/lib/python3.8/site-packages/tensorflow/python/profiler/trace.py\u001b[0m in \u001b[0;36mwrapped\u001b[0;34m(*args, **kwargs)\u001b[0m\n\u001b[1;32m    161\u001b[0m         \u001b[0;32mwith\u001b[0m \u001b[0mTrace\u001b[0m\u001b[0;34m(\u001b[0m\u001b[0mtrace_name\u001b[0m\u001b[0;34m,\u001b[0m \u001b[0;34m**\u001b[0m\u001b[0mtrace_kwargs\u001b[0m\u001b[0;34m)\u001b[0m\u001b[0;34m:\u001b[0m\u001b[0;34m\u001b[0m\u001b[0;34m\u001b[0m\u001b[0m\n\u001b[1;32m    162\u001b[0m           \u001b[0;32mreturn\u001b[0m \u001b[0mfunc\u001b[0m\u001b[0;34m(\u001b[0m\u001b[0;34m*\u001b[0m\u001b[0margs\u001b[0m\u001b[0;34m,\u001b[0m \u001b[0;34m**\u001b[0m\u001b[0mkwargs\u001b[0m\u001b[0;34m)\u001b[0m\u001b[0;34m\u001b[0m\u001b[0;34m\u001b[0m\u001b[0m\n\u001b[0;32m--> 163\u001b[0;31m       \u001b[0;32mreturn\u001b[0m \u001b[0mfunc\u001b[0m\u001b[0;34m(\u001b[0m\u001b[0;34m*\u001b[0m\u001b[0margs\u001b[0m\u001b[0;34m,\u001b[0m \u001b[0;34m**\u001b[0m\u001b[0mkwargs\u001b[0m\u001b[0;34m)\u001b[0m\u001b[0;34m\u001b[0m\u001b[0;34m\u001b[0m\u001b[0m\n\u001b[0m\u001b[1;32m    164\u001b[0m \u001b[0;34m\u001b[0m\u001b[0m\n\u001b[1;32m    165\u001b[0m     \u001b[0;32mreturn\u001b[0m \u001b[0mwrapped\u001b[0m\u001b[0;34m\u001b[0m\u001b[0;34m\u001b[0m\u001b[0m\n",
      "\u001b[0;32m~/anaconda3/envs/tf/lib/python3.8/site-packages/tensorflow/python/framework/ops.py\u001b[0m in \u001b[0;36mconvert_to_tensor\u001b[0;34m(value, dtype, name, as_ref, preferred_dtype, dtype_hint, ctx, accepted_result_types)\u001b[0m\n\u001b[1;32m   1538\u001b[0m \u001b[0;34m\u001b[0m\u001b[0m\n\u001b[1;32m   1539\u001b[0m     \u001b[0;32mif\u001b[0m \u001b[0mret\u001b[0m \u001b[0;32mis\u001b[0m \u001b[0;32mNone\u001b[0m\u001b[0;34m:\u001b[0m\u001b[0;34m\u001b[0m\u001b[0;34m\u001b[0m\u001b[0m\n\u001b[0;32m-> 1540\u001b[0;31m       \u001b[0mret\u001b[0m \u001b[0;34m=\u001b[0m \u001b[0mconversion_func\u001b[0m\u001b[0;34m(\u001b[0m\u001b[0mvalue\u001b[0m\u001b[0;34m,\u001b[0m \u001b[0mdtype\u001b[0m\u001b[0;34m=\u001b[0m\u001b[0mdtype\u001b[0m\u001b[0;34m,\u001b[0m \u001b[0mname\u001b[0m\u001b[0;34m=\u001b[0m\u001b[0mname\u001b[0m\u001b[0;34m,\u001b[0m \u001b[0mas_ref\u001b[0m\u001b[0;34m=\u001b[0m\u001b[0mas_ref\u001b[0m\u001b[0;34m)\u001b[0m\u001b[0;34m\u001b[0m\u001b[0;34m\u001b[0m\u001b[0m\n\u001b[0m\u001b[1;32m   1541\u001b[0m \u001b[0;34m\u001b[0m\u001b[0m\n\u001b[1;32m   1542\u001b[0m     \u001b[0;32mif\u001b[0m \u001b[0mret\u001b[0m \u001b[0;32mis\u001b[0m \u001b[0mNotImplemented\u001b[0m\u001b[0;34m:\u001b[0m\u001b[0;34m\u001b[0m\u001b[0;34m\u001b[0m\u001b[0m\n",
      "\u001b[0;32m~/anaconda3/envs/tf/lib/python3.8/site-packages/tensorflow/python/framework/constant_op.py\u001b[0m in \u001b[0;36m_constant_tensor_conversion_function\u001b[0;34m(v, dtype, name, as_ref)\u001b[0m\n\u001b[1;32m    337\u001b[0m                                          as_ref=False):\n\u001b[1;32m    338\u001b[0m   \u001b[0m_\u001b[0m \u001b[0;34m=\u001b[0m \u001b[0mas_ref\u001b[0m\u001b[0;34m\u001b[0m\u001b[0;34m\u001b[0m\u001b[0m\n\u001b[0;32m--> 339\u001b[0;31m   \u001b[0;32mreturn\u001b[0m \u001b[0mconstant\u001b[0m\u001b[0;34m(\u001b[0m\u001b[0mv\u001b[0m\u001b[0;34m,\u001b[0m \u001b[0mdtype\u001b[0m\u001b[0;34m=\u001b[0m\u001b[0mdtype\u001b[0m\u001b[0;34m,\u001b[0m \u001b[0mname\u001b[0m\u001b[0;34m=\u001b[0m\u001b[0mname\u001b[0m\u001b[0;34m)\u001b[0m\u001b[0;34m\u001b[0m\u001b[0;34m\u001b[0m\u001b[0m\n\u001b[0m\u001b[1;32m    340\u001b[0m \u001b[0;34m\u001b[0m\u001b[0m\n\u001b[1;32m    341\u001b[0m \u001b[0;34m\u001b[0m\u001b[0m\n",
      "\u001b[0;32m~/anaconda3/envs/tf/lib/python3.8/site-packages/tensorflow/python/framework/constant_op.py\u001b[0m in \u001b[0;36mconstant\u001b[0;34m(value, dtype, shape, name)\u001b[0m\n\u001b[1;32m    262\u001b[0m     \u001b[0mValueError\u001b[0m\u001b[0;34m:\u001b[0m \u001b[0;32mif\u001b[0m \u001b[0mcalled\u001b[0m \u001b[0mon\u001b[0m \u001b[0ma\u001b[0m \u001b[0msymbolic\u001b[0m \u001b[0mtensor\u001b[0m\u001b[0;34m.\u001b[0m\u001b[0;34m\u001b[0m\u001b[0;34m\u001b[0m\u001b[0m\n\u001b[1;32m    263\u001b[0m   \"\"\"\n\u001b[0;32m--> 264\u001b[0;31m   return _constant_impl(value, dtype, shape, name, verify_shape=False,\n\u001b[0m\u001b[1;32m    265\u001b[0m                         allow_broadcast=True)\n\u001b[1;32m    266\u001b[0m \u001b[0;34m\u001b[0m\u001b[0m\n",
      "\u001b[0;32m~/anaconda3/envs/tf/lib/python3.8/site-packages/tensorflow/python/framework/constant_op.py\u001b[0m in \u001b[0;36m_constant_impl\u001b[0;34m(value, dtype, shape, name, verify_shape, allow_broadcast)\u001b[0m\n\u001b[1;32m    274\u001b[0m       \u001b[0;32mwith\u001b[0m \u001b[0mtrace\u001b[0m\u001b[0;34m.\u001b[0m\u001b[0mTrace\u001b[0m\u001b[0;34m(\u001b[0m\u001b[0;34m\"tf.constant\"\u001b[0m\u001b[0;34m)\u001b[0m\u001b[0;34m:\u001b[0m\u001b[0;34m\u001b[0m\u001b[0;34m\u001b[0m\u001b[0m\n\u001b[1;32m    275\u001b[0m         \u001b[0;32mreturn\u001b[0m \u001b[0m_constant_eager_impl\u001b[0m\u001b[0;34m(\u001b[0m\u001b[0mctx\u001b[0m\u001b[0;34m,\u001b[0m \u001b[0mvalue\u001b[0m\u001b[0;34m,\u001b[0m \u001b[0mdtype\u001b[0m\u001b[0;34m,\u001b[0m \u001b[0mshape\u001b[0m\u001b[0;34m,\u001b[0m \u001b[0mverify_shape\u001b[0m\u001b[0;34m)\u001b[0m\u001b[0;34m\u001b[0m\u001b[0;34m\u001b[0m\u001b[0m\n\u001b[0;32m--> 276\u001b[0;31m     \u001b[0;32mreturn\u001b[0m \u001b[0m_constant_eager_impl\u001b[0m\u001b[0;34m(\u001b[0m\u001b[0mctx\u001b[0m\u001b[0;34m,\u001b[0m \u001b[0mvalue\u001b[0m\u001b[0;34m,\u001b[0m \u001b[0mdtype\u001b[0m\u001b[0;34m,\u001b[0m \u001b[0mshape\u001b[0m\u001b[0;34m,\u001b[0m \u001b[0mverify_shape\u001b[0m\u001b[0;34m)\u001b[0m\u001b[0;34m\u001b[0m\u001b[0;34m\u001b[0m\u001b[0m\n\u001b[0m\u001b[1;32m    277\u001b[0m \u001b[0;34m\u001b[0m\u001b[0m\n\u001b[1;32m    278\u001b[0m   \u001b[0mg\u001b[0m \u001b[0;34m=\u001b[0m \u001b[0mops\u001b[0m\u001b[0;34m.\u001b[0m\u001b[0mget_default_graph\u001b[0m\u001b[0;34m(\u001b[0m\u001b[0;34m)\u001b[0m\u001b[0;34m\u001b[0m\u001b[0;34m\u001b[0m\u001b[0m\n",
      "\u001b[0;32m~/anaconda3/envs/tf/lib/python3.8/site-packages/tensorflow/python/framework/constant_op.py\u001b[0m in \u001b[0;36m_constant_eager_impl\u001b[0;34m(ctx, value, dtype, shape, verify_shape)\u001b[0m\n\u001b[1;32m    299\u001b[0m \u001b[0;32mdef\u001b[0m \u001b[0m_constant_eager_impl\u001b[0m\u001b[0;34m(\u001b[0m\u001b[0mctx\u001b[0m\u001b[0;34m,\u001b[0m \u001b[0mvalue\u001b[0m\u001b[0;34m,\u001b[0m \u001b[0mdtype\u001b[0m\u001b[0;34m,\u001b[0m \u001b[0mshape\u001b[0m\u001b[0;34m,\u001b[0m \u001b[0mverify_shape\u001b[0m\u001b[0;34m)\u001b[0m\u001b[0;34m:\u001b[0m\u001b[0;34m\u001b[0m\u001b[0;34m\u001b[0m\u001b[0m\n\u001b[1;32m    300\u001b[0m   \u001b[0;34m\"\"\"Implementation of eager constant.\"\"\"\u001b[0m\u001b[0;34m\u001b[0m\u001b[0;34m\u001b[0m\u001b[0m\n\u001b[0;32m--> 301\u001b[0;31m   \u001b[0mt\u001b[0m \u001b[0;34m=\u001b[0m \u001b[0mconvert_to_eager_tensor\u001b[0m\u001b[0;34m(\u001b[0m\u001b[0mvalue\u001b[0m\u001b[0;34m,\u001b[0m \u001b[0mctx\u001b[0m\u001b[0;34m,\u001b[0m \u001b[0mdtype\u001b[0m\u001b[0;34m)\u001b[0m\u001b[0;34m\u001b[0m\u001b[0;34m\u001b[0m\u001b[0m\n\u001b[0m\u001b[1;32m    302\u001b[0m   \u001b[0;32mif\u001b[0m \u001b[0mshape\u001b[0m \u001b[0;32mis\u001b[0m \u001b[0;32mNone\u001b[0m\u001b[0;34m:\u001b[0m\u001b[0;34m\u001b[0m\u001b[0;34m\u001b[0m\u001b[0m\n\u001b[1;32m    303\u001b[0m     \u001b[0;32mreturn\u001b[0m \u001b[0mt\u001b[0m\u001b[0;34m\u001b[0m\u001b[0;34m\u001b[0m\u001b[0m\n",
      "\u001b[0;32m~/anaconda3/envs/tf/lib/python3.8/site-packages/tensorflow/python/framework/constant_op.py\u001b[0m in \u001b[0;36mconvert_to_eager_tensor\u001b[0;34m(value, ctx, dtype)\u001b[0m\n\u001b[1;32m     96\u001b[0m       \u001b[0mdtype\u001b[0m \u001b[0;34m=\u001b[0m \u001b[0mdtypes\u001b[0m\u001b[0;34m.\u001b[0m\u001b[0mas_dtype\u001b[0m\u001b[0;34m(\u001b[0m\u001b[0mdtype\u001b[0m\u001b[0;34m)\u001b[0m\u001b[0;34m.\u001b[0m\u001b[0mas_datatype_enum\u001b[0m\u001b[0;34m\u001b[0m\u001b[0;34m\u001b[0m\u001b[0m\n\u001b[1;32m     97\u001b[0m   \u001b[0mctx\u001b[0m\u001b[0;34m.\u001b[0m\u001b[0mensure_initialized\u001b[0m\u001b[0;34m(\u001b[0m\u001b[0;34m)\u001b[0m\u001b[0;34m\u001b[0m\u001b[0;34m\u001b[0m\u001b[0m\n\u001b[0;32m---> 98\u001b[0;31m   \u001b[0;32mreturn\u001b[0m \u001b[0mops\u001b[0m\u001b[0;34m.\u001b[0m\u001b[0mEagerTensor\u001b[0m\u001b[0;34m(\u001b[0m\u001b[0mvalue\u001b[0m\u001b[0;34m,\u001b[0m \u001b[0mctx\u001b[0m\u001b[0;34m.\u001b[0m\u001b[0mdevice_name\u001b[0m\u001b[0;34m,\u001b[0m \u001b[0mdtype\u001b[0m\u001b[0;34m)\u001b[0m\u001b[0;34m\u001b[0m\u001b[0;34m\u001b[0m\u001b[0m\n\u001b[0m\u001b[1;32m     99\u001b[0m \u001b[0;34m\u001b[0m\u001b[0m\n\u001b[1;32m    100\u001b[0m \u001b[0;34m\u001b[0m\u001b[0m\n",
      "\u001b[0;31mValueError\u001b[0m: Can't convert non-rectangular Python sequence to Tensor."
     ]
    }
   ],
   "source": [
    "# Try creating a dataset from tensor x2\n",
    "\n",
    "dataset2 = tf.data.Dataset.from_tensor_slices(x2)"
   ]
  },
  {
   "cell_type": "code",
   "execution_count": 9,
   "id": "correct-haven",
   "metadata": {},
   "outputs": [],
   "source": [
    "x2 = [np.zeros((10, 1)), np.zeros((10, 1)), np.zeros((10, 1))]"
   ]
  },
  {
   "cell_type": "code",
   "execution_count": 10,
   "id": "pressing-viewer",
   "metadata": {},
   "outputs": [],
   "source": [
    "# Create another dataset from the new x2 and inspect the Dataset object\n",
    "\n",
    "dataset2 = tf.data.Dataset.from_tensor_slices(x2)"
   ]
  },
  {
   "cell_type": "code",
   "execution_count": 11,
   "id": "exposed-knock",
   "metadata": {},
   "outputs": [
    {
     "name": "stdout",
     "output_type": "stream",
     "text": [
      "TensorSpec(shape=(10, 1), dtype=tf.float64, name=None)\n"
     ]
    }
   ],
   "source": [
    "# print the element_spec\n",
    "\n",
    "print(dataset2.element_spec)"
   ]
  },
  {
   "cell_type": "markdown",
   "id": "turkish-comparative",
   "metadata": {},
   "source": [
    "### Create a zipped dataset"
   ]
  },
  {
   "cell_type": "code",
   "execution_count": 12,
   "id": "victorian-surface",
   "metadata": {},
   "outputs": [],
   "source": [
    "# Combine the two datasets into one larget dataset\n",
    "\n",
    "dataset_zipped = tf.data.Dataset.zip((dataset1, dataset2))"
   ]
  },
  {
   "cell_type": "code",
   "execution_count": 13,
   "id": "convinced-configuration",
   "metadata": {},
   "outputs": [
    {
     "name": "stdout",
     "output_type": "stream",
     "text": [
      "(TensorSpec(shape=(10, 2, 2), dtype=tf.float64, name=None), TensorSpec(shape=(10, 1), dtype=tf.float64, name=None))\n"
     ]
    }
   ],
   "source": [
    "# Print the element_spec\n",
    "\n",
    "print(dataset_zipped.element_spec)"
   ]
  },
  {
   "cell_type": "code",
   "execution_count": 14,
   "id": "affecting-modeling",
   "metadata": {},
   "outputs": [],
   "source": [
    "# Define a function to find the number of batches in a dataset\n",
    "\n",
    "def get_batches(dataset):\n",
    "    iter_dataset = iter(dataset)\n",
    "    i = 0\n",
    "    try:\n",
    "        while next(iter_dataset):\n",
    "            i = i+1\n",
    "    except:\n",
    "        return i"
   ]
  },
  {
   "cell_type": "code",
   "execution_count": 15,
   "id": "restricted-hypothesis",
   "metadata": {},
   "outputs": [
    {
     "data": {
      "text/plain": [
       "3"
      ]
     },
     "execution_count": 15,
     "metadata": {},
     "output_type": "execute_result"
    }
   ],
   "source": [
    "# Find the number of batches in the zipped Dataset\n",
    "\n",
    "get_batches(dataset_zipped)"
   ]
  },
  {
   "cell_type": "markdown",
   "id": "final-claim",
   "metadata": {},
   "source": [
    "### Create a dataset from numpy arrays"
   ]
  },
  {
   "cell_type": "code",
   "execution_count": 16,
   "id": "global-adult",
   "metadata": {},
   "outputs": [
    {
     "name": "stdout",
     "output_type": "stream",
     "text": [
      "<class 'numpy.ndarray'> <class 'numpy.ndarray'>\n"
     ]
    }
   ],
   "source": [
    "# Load the MNIST dataset\n",
    "\n",
    "(train_features, train_labels), (test_features, test_labels) = tf.keras.datasets.mnist.load_data()\n",
    "\n",
    "print(type(train_features), type(train_labels))"
   ]
  },
  {
   "cell_type": "code",
   "execution_count": 17,
   "id": "pacific-holiday",
   "metadata": {},
   "outputs": [],
   "source": [
    "# Create a Dataset from the MNIST data\n",
    "\n",
    "mnist_dataset = tf.data.Dataset.from_tensor_slices((train_features, train_labels))"
   ]
  },
  {
   "cell_type": "code",
   "execution_count": 18,
   "id": "pressing-tragedy",
   "metadata": {},
   "outputs": [
    {
     "name": "stdout",
     "output_type": "stream",
     "text": [
      "(TensorSpec(shape=(28, 28), dtype=tf.uint8, name=None), TensorSpec(shape=(), dtype=tf.uint8, name=None))\n"
     ]
    }
   ],
   "source": [
    "# Inspect the Dataset object\n",
    "\n",
    "print(mnist_dataset.element_spec)"
   ]
  },
  {
   "cell_type": "code",
   "execution_count": 19,
   "id": "ultimate-little",
   "metadata": {},
   "outputs": [
    {
     "name": "stdout",
     "output_type": "stream",
     "text": [
      "2\n"
     ]
    }
   ],
   "source": [
    "# Inspect the length of an element using the take method\n",
    "\n",
    "element = next(iter(mnist_dataset.take(1)))\n",
    "print(len(element))"
   ]
  },
  {
   "cell_type": "code",
   "execution_count": 20,
   "id": "spare-artist",
   "metadata": {},
   "outputs": [
    {
     "name": "stdout",
     "output_type": "stream",
     "text": [
      "(28, 28)\n",
      "()\n"
     ]
    }
   ],
   "source": [
    "# Examine the shapes of the data\n",
    "\n",
    "print(element[0].shape)\n",
    "print(element[1].shape)"
   ]
  },
  {
   "cell_type": "markdown",
   "id": "acting-recorder",
   "metadata": {},
   "source": [
    "### Create a dataset from text data"
   ]
  },
  {
   "cell_type": "code",
   "execution_count": 25,
   "id": "technological-primary",
   "metadata": {},
   "outputs": [
    {
     "name": "stdout",
     "output_type": "stream",
     "text": [
      "[\"data/shakespeare-db/All's Well That Ends Well.txt\", 'data/shakespeare-db/Antony and Cleopatra.txt', 'data/shakespeare-db/As You Like It.txt', 'data/shakespeare-db/Comedy of Errors.txt', 'data/shakespeare-db/Coriolanus.txt', 'data/shakespeare-db/Cymbeline.txt', 'data/shakespeare-db/Hamlet.txt', 'data/shakespeare-db/Henry IV, part 1.txt', 'data/shakespeare-db/Henry IV, part 2.txt', 'data/shakespeare-db/Henry V.txt', 'data/shakespeare-db/Henry VI, part 1.txt', 'data/shakespeare-db/Henry VI, part 2.txt', 'data/shakespeare-db/Henry VI, part 3.txt', 'data/shakespeare-db/Henry VIII.txt', 'data/shakespeare-db/Julius Caesar.txt', 'data/shakespeare-db/King John.txt', 'data/shakespeare-db/King Lear.txt', \"data/shakespeare-db/Love's Labour's Lost.txt\", 'data/shakespeare-db/Macbeth.txt', 'data/shakespeare-db/Measure for Measure.txt', 'data/shakespeare-db/Merchant of Venice.txt', 'data/shakespeare-db/Merry Wives of Windsor.txt', \"data/shakespeare-db/Midsummer Night's Dream.txt\", 'data/shakespeare-db/Much Ado About Nothing.txt', 'data/shakespeare-db/Othello.txt', 'data/shakespeare-db/Pericles.txt', 'data/shakespeare-db/Richard II.txt', 'data/shakespeare-db/Richard III.txt', 'data/shakespeare-db/Romeo and Juliet.txt', 'data/shakespeare-db/Taming of the Shrew.txt', 'data/shakespeare-db/The Tempest.txt', 'data/shakespeare-db/Timon of Athens.txt', 'data/shakespeare-db/Titus Andronicus.txt', 'data/shakespeare-db/Troiles and Cressida.txt', 'data/shakespeare-db/Twelfth Night.txt', 'data/shakespeare-db/Two Gentlemen of Verona.txt']\n"
     ]
    }
   ],
   "source": [
    "# Print the list of text files\n",
    "\n",
    "text_files = sorted([f.path for f in os.scandir('data/shakespeare-db')])\n",
    "\n",
    "print(text_files)"
   ]
  },
  {
   "cell_type": "code",
   "execution_count": 27,
   "id": "burning-exchange",
   "metadata": {},
   "outputs": [
    {
     "name": "stdout",
     "output_type": "stream",
     "text": [
      "\n",
      "\n",
      "\n",
      "\n",
      "\n",
      "\n",
      "\n",
      "\n",
      "                           All's Well That Ends Well\n",
      "\n",
      "Shakespeare_homepage | All's_Well_That_Ends_Well | Entire play\n",
      "\n",
      "**** ACT I ****\n",
      "\n",
      "**** SCENE I. Rousillon. The COUNT's palace. ****\n",
      "\n",
      "     Enter BERTRAM, the COUNTESS of Rousillon, HELENA, and LAFEU, all in\n",
      "\n",
      "     black\n",
      "\n"
     ]
    }
   ],
   "source": [
    "# Load the first file using python and print the first 5 lines\n",
    "\n",
    "with open(text_files[0], 'r') as fil:\n",
    "    contents = [fil.readline() for i in range(10)]\n",
    "    for line in contents:\n",
    "        print(line)"
   ]
  },
  {
   "cell_type": "code",
   "execution_count": 28,
   "id": "employed-mouth",
   "metadata": {},
   "outputs": [],
   "source": [
    "# Load the lines from the files into a dataset using TextLineDataset\n",
    "\n",
    "shakespeare_dataset = tf.data.TextLineDataset(text_files)"
   ]
  },
  {
   "cell_type": "code",
   "execution_count": 30,
   "id": "aging-aerospace",
   "metadata": {},
   "outputs": [
    {
     "name": "stdout",
     "output_type": "stream",
     "text": [
      "tf.Tensor(b'', shape=(), dtype=string)\n",
      "tf.Tensor(b'', shape=(), dtype=string)\n",
      "tf.Tensor(b'', shape=(), dtype=string)\n",
      "tf.Tensor(b'', shape=(), dtype=string)\n",
      "tf.Tensor(b\"                           All's Well That Ends Well\", shape=(), dtype=string)\n",
      "tf.Tensor(b\"Shakespeare_homepage | All's_Well_That_Ends_Well | Entire play\", shape=(), dtype=string)\n",
      "tf.Tensor(b'**** ACT I ****', shape=(), dtype=string)\n",
      "tf.Tensor(b\"**** SCENE I. Rousillon. The COUNT's palace. ****\", shape=(), dtype=string)\n",
      "tf.Tensor(b'     Enter BERTRAM, the COUNTESS of Rousillon, HELENA, and LAFEU, all in', shape=(), dtype=string)\n",
      "tf.Tensor(b'     black', shape=(), dtype=string)\n"
     ]
    }
   ],
   "source": [
    "# Use the take method to get and print the first 5 lines of the dataset\n",
    "\n",
    "first_5_lines_dataset = iter(shakespeare_dataset.take(10))\n",
    "lines = [line for line in first_5_lines_dataset]\n",
    "for line in lines:\n",
    "    print(line)"
   ]
  },
  {
   "cell_type": "code",
   "execution_count": 31,
   "id": "changing-fitness",
   "metadata": {},
   "outputs": [
    {
     "name": "stdout",
     "output_type": "stream",
     "text": [
      "4032\n"
     ]
    }
   ],
   "source": [
    "# Compute the number of lines in the first file\n",
    "\n",
    "lines = []\n",
    "with open(text_files[0], 'r') as fil:\n",
    "    line = fil.readline()\n",
    "    while line:\n",
    "        lines.append(line)\n",
    "        line = fil.readline()\n",
    "    print(len(lines))"
   ]
  },
  {
   "cell_type": "code",
   "execution_count": 32,
   "id": "critical-queen",
   "metadata": {},
   "outputs": [
    {
     "name": "stdout",
     "output_type": "stream",
     "text": [
      "142180\n"
     ]
    }
   ],
   "source": [
    "# Compute the number of lines in the shakespeare dataset we created\n",
    "\n",
    "shakespeare_dataset_iterator = iter(shakespeare_dataset)\n",
    "lines = [line for line in shakespeare_dataset_iterator]\n",
    "print(len(lines))"
   ]
  },
  {
   "cell_type": "markdown",
   "id": "great-atmosphere",
   "metadata": {},
   "source": [
    "### Interleave lines from the text data files"
   ]
  },
  {
   "cell_type": "code",
   "execution_count": 34,
   "id": "together-slovenia",
   "metadata": {},
   "outputs": [
    {
     "name": "stdout",
     "output_type": "stream",
     "text": [
      "tf.Tensor(b\"data/shakespeare-db/All's Well That Ends Well.txt\", shape=(), dtype=string)\n",
      "tf.Tensor(b'data/shakespeare-db/Antony and Cleopatra.txt', shape=(), dtype=string)\n",
      "tf.Tensor(b'data/shakespeare-db/As You Like It.txt', shape=(), dtype=string)\n",
      "tf.Tensor(b'data/shakespeare-db/Comedy of Errors.txt', shape=(), dtype=string)\n",
      "tf.Tensor(b'data/shakespeare-db/Coriolanus.txt', shape=(), dtype=string)\n",
      "tf.Tensor(b'data/shakespeare-db/Cymbeline.txt', shape=(), dtype=string)\n",
      "tf.Tensor(b'data/shakespeare-db/Hamlet.txt', shape=(), dtype=string)\n",
      "tf.Tensor(b'data/shakespeare-db/Henry IV, part 1.txt', shape=(), dtype=string)\n",
      "tf.Tensor(b'data/shakespeare-db/Henry IV, part 2.txt', shape=(), dtype=string)\n",
      "tf.Tensor(b'data/shakespeare-db/Henry V.txt', shape=(), dtype=string)\n",
      "tf.Tensor(b'data/shakespeare-db/Henry VI, part 1.txt', shape=(), dtype=string)\n",
      "tf.Tensor(b'data/shakespeare-db/Henry VI, part 2.txt', shape=(), dtype=string)\n",
      "tf.Tensor(b'data/shakespeare-db/Henry VI, part 3.txt', shape=(), dtype=string)\n",
      "tf.Tensor(b'data/shakespeare-db/Henry VIII.txt', shape=(), dtype=string)\n",
      "tf.Tensor(b'data/shakespeare-db/Julius Caesar.txt', shape=(), dtype=string)\n",
      "tf.Tensor(b'data/shakespeare-db/King John.txt', shape=(), dtype=string)\n",
      "tf.Tensor(b'data/shakespeare-db/King Lear.txt', shape=(), dtype=string)\n",
      "tf.Tensor(b\"data/shakespeare-db/Love's Labour's Lost.txt\", shape=(), dtype=string)\n",
      "tf.Tensor(b'data/shakespeare-db/Macbeth.txt', shape=(), dtype=string)\n",
      "tf.Tensor(b'data/shakespeare-db/Measure for Measure.txt', shape=(), dtype=string)\n",
      "tf.Tensor(b'data/shakespeare-db/Merchant of Venice.txt', shape=(), dtype=string)\n",
      "tf.Tensor(b'data/shakespeare-db/Merry Wives of Windsor.txt', shape=(), dtype=string)\n",
      "tf.Tensor(b\"data/shakespeare-db/Midsummer Night's Dream.txt\", shape=(), dtype=string)\n",
      "tf.Tensor(b'data/shakespeare-db/Much Ado About Nothing.txt', shape=(), dtype=string)\n",
      "tf.Tensor(b'data/shakespeare-db/Othello.txt', shape=(), dtype=string)\n",
      "tf.Tensor(b'data/shakespeare-db/Pericles.txt', shape=(), dtype=string)\n",
      "tf.Tensor(b'data/shakespeare-db/Richard II.txt', shape=(), dtype=string)\n",
      "tf.Tensor(b'data/shakespeare-db/Richard III.txt', shape=(), dtype=string)\n",
      "tf.Tensor(b'data/shakespeare-db/Romeo and Juliet.txt', shape=(), dtype=string)\n",
      "tf.Tensor(b'data/shakespeare-db/Taming of the Shrew.txt', shape=(), dtype=string)\n",
      "tf.Tensor(b'data/shakespeare-db/The Tempest.txt', shape=(), dtype=string)\n",
      "tf.Tensor(b'data/shakespeare-db/Timon of Athens.txt', shape=(), dtype=string)\n",
      "tf.Tensor(b'data/shakespeare-db/Titus Andronicus.txt', shape=(), dtype=string)\n",
      "tf.Tensor(b'data/shakespeare-db/Troiles and Cressida.txt', shape=(), dtype=string)\n",
      "tf.Tensor(b'data/shakespeare-db/Twelfth Night.txt', shape=(), dtype=string)\n",
      "tf.Tensor(b'data/shakespeare-db/Two Gentlemen of Verona.txt', shape=(), dtype=string)\n"
     ]
    }
   ],
   "source": [
    "# Create a dataset of the text file strings\n",
    "\n",
    "text_files_dataset = tf.data.Dataset.from_tensor_slices(text_files)\n",
    "files = [file for file in text_files_dataset]\n",
    "for file in files:\n",
    "    print(file)"
   ]
  },
  {
   "cell_type": "code",
   "execution_count": 35,
   "id": "valued-warner",
   "metadata": {},
   "outputs": [
    {
     "data": {
      "text/plain": [
       "36"
      ]
     },
     "execution_count": 35,
     "metadata": {},
     "output_type": "execute_result"
    }
   ],
   "source": [
    "len(files)"
   ]
  },
  {
   "cell_type": "code",
   "execution_count": 36,
   "id": "antique-release",
   "metadata": {},
   "outputs": [],
   "source": [
    "# Interleave the lines from the text files\n",
    "\n",
    "interleaved_shakespeare_dataset = text_files_dataset.interleave(tf.data.TextLineDataset, cycle_length=36)"
   ]
  },
  {
   "cell_type": "code",
   "execution_count": 38,
   "id": "entire-merchandise",
   "metadata": {},
   "outputs": [
    {
     "name": "stdout",
     "output_type": "stream",
     "text": [
      "TensorSpec(shape=(), dtype=tf.string, name=None)\n"
     ]
    }
   ],
   "source": [
    "print(interleaved_shakespeare_dataset.element_spec)"
   ]
  },
  {
   "cell_type": "code",
   "execution_count": 41,
   "id": "downtown-portal",
   "metadata": {},
   "outputs": [
    {
     "name": "stdout",
     "output_type": "stream",
     "text": [
      "tf.Tensor(b'', shape=(), dtype=string)\n",
      "tf.Tensor(b'', shape=(), dtype=string)\n",
      "tf.Tensor(b'', shape=(), dtype=string)\n",
      "tf.Tensor(b'', shape=(), dtype=string)\n",
      "tf.Tensor(b'', shape=(), dtype=string)\n",
      "tf.Tensor(b'', shape=(), dtype=string)\n",
      "tf.Tensor(b'', shape=(), dtype=string)\n",
      "tf.Tensor(b'', shape=(), dtype=string)\n",
      "tf.Tensor(b'', shape=(), dtype=string)\n",
      "tf.Tensor(b'', shape=(), dtype=string)\n",
      "tf.Tensor(b'', shape=(), dtype=string)\n",
      "tf.Tensor(b'', shape=(), dtype=string)\n",
      "tf.Tensor(b'', shape=(), dtype=string)\n",
      "tf.Tensor(b'', shape=(), dtype=string)\n",
      "tf.Tensor(b'', shape=(), dtype=string)\n",
      "tf.Tensor(b'', shape=(), dtype=string)\n",
      "tf.Tensor(b'', shape=(), dtype=string)\n",
      "tf.Tensor(b'', shape=(), dtype=string)\n",
      "tf.Tensor(b'', shape=(), dtype=string)\n",
      "tf.Tensor(b'', shape=(), dtype=string)\n",
      "tf.Tensor(b'', shape=(), dtype=string)\n",
      "tf.Tensor(b'', shape=(), dtype=string)\n",
      "tf.Tensor(b'', shape=(), dtype=string)\n",
      "tf.Tensor(b'', shape=(), dtype=string)\n",
      "tf.Tensor(b'', shape=(), dtype=string)\n",
      "tf.Tensor(b'', shape=(), dtype=string)\n",
      "tf.Tensor(b'', shape=(), dtype=string)\n",
      "tf.Tensor(b'', shape=(), dtype=string)\n",
      "tf.Tensor(b'', shape=(), dtype=string)\n",
      "tf.Tensor(b'', shape=(), dtype=string)\n",
      "tf.Tensor(b'', shape=(), dtype=string)\n",
      "tf.Tensor(b'', shape=(), dtype=string)\n",
      "tf.Tensor(b'', shape=(), dtype=string)\n",
      "tf.Tensor(b'', shape=(), dtype=string)\n",
      "tf.Tensor(b'', shape=(), dtype=string)\n",
      "tf.Tensor(b'', shape=(), dtype=string)\n",
      "tf.Tensor(b'', shape=(), dtype=string)\n",
      "tf.Tensor(b'', shape=(), dtype=string)\n",
      "tf.Tensor(b'', shape=(), dtype=string)\n",
      "tf.Tensor(b'', shape=(), dtype=string)\n",
      "tf.Tensor(b'', shape=(), dtype=string)\n",
      "tf.Tensor(b'', shape=(), dtype=string)\n",
      "tf.Tensor(b'', shape=(), dtype=string)\n",
      "tf.Tensor(b'', shape=(), dtype=string)\n",
      "tf.Tensor(b'', shape=(), dtype=string)\n",
      "tf.Tensor(b'', shape=(), dtype=string)\n",
      "tf.Tensor(b'', shape=(), dtype=string)\n",
      "tf.Tensor(b'', shape=(), dtype=string)\n",
      "tf.Tensor(b'', shape=(), dtype=string)\n",
      "tf.Tensor(b'', shape=(), dtype=string)\n",
      "tf.Tensor(b'', shape=(), dtype=string)\n",
      "tf.Tensor(b'', shape=(), dtype=string)\n",
      "tf.Tensor(b'', shape=(), dtype=string)\n",
      "tf.Tensor(b'', shape=(), dtype=string)\n",
      "tf.Tensor(b'', shape=(), dtype=string)\n",
      "tf.Tensor(b'', shape=(), dtype=string)\n",
      "tf.Tensor(b'', shape=(), dtype=string)\n",
      "tf.Tensor(b'', shape=(), dtype=string)\n",
      "tf.Tensor(b'', shape=(), dtype=string)\n",
      "tf.Tensor(b'', shape=(), dtype=string)\n",
      "tf.Tensor(b'', shape=(), dtype=string)\n",
      "tf.Tensor(b'', shape=(), dtype=string)\n",
      "tf.Tensor(b'', shape=(), dtype=string)\n",
      "tf.Tensor(b'', shape=(), dtype=string)\n",
      "tf.Tensor(b'', shape=(), dtype=string)\n",
      "tf.Tensor(b'', shape=(), dtype=string)\n",
      "tf.Tensor(b'', shape=(), dtype=string)\n",
      "tf.Tensor(b'', shape=(), dtype=string)\n",
      "tf.Tensor(b'', shape=(), dtype=string)\n",
      "tf.Tensor(b'', shape=(), dtype=string)\n",
      "tf.Tensor(b'', shape=(), dtype=string)\n",
      "tf.Tensor(b'', shape=(), dtype=string)\n",
      "tf.Tensor(b'', shape=(), dtype=string)\n",
      "tf.Tensor(b'', shape=(), dtype=string)\n",
      "tf.Tensor(b'', shape=(), dtype=string)\n",
      "tf.Tensor(b'', shape=(), dtype=string)\n",
      "tf.Tensor(b'', shape=(), dtype=string)\n",
      "tf.Tensor(b'', shape=(), dtype=string)\n",
      "tf.Tensor(b'', shape=(), dtype=string)\n",
      "tf.Tensor(b'', shape=(), dtype=string)\n",
      "tf.Tensor(b'', shape=(), dtype=string)\n",
      "tf.Tensor(b'', shape=(), dtype=string)\n",
      "tf.Tensor(b'', shape=(), dtype=string)\n",
      "tf.Tensor(b'', shape=(), dtype=string)\n",
      "tf.Tensor(b'', shape=(), dtype=string)\n",
      "tf.Tensor(b'', shape=(), dtype=string)\n",
      "tf.Tensor(b'', shape=(), dtype=string)\n",
      "tf.Tensor(b'', shape=(), dtype=string)\n",
      "tf.Tensor(b'', shape=(), dtype=string)\n",
      "tf.Tensor(b'', shape=(), dtype=string)\n",
      "tf.Tensor(b'', shape=(), dtype=string)\n",
      "tf.Tensor(b'', shape=(), dtype=string)\n",
      "tf.Tensor(b'', shape=(), dtype=string)\n",
      "tf.Tensor(b'', shape=(), dtype=string)\n",
      "tf.Tensor(b'', shape=(), dtype=string)\n",
      "tf.Tensor(b'', shape=(), dtype=string)\n",
      "tf.Tensor(b'', shape=(), dtype=string)\n",
      "tf.Tensor(b'', shape=(), dtype=string)\n",
      "tf.Tensor(b'', shape=(), dtype=string)\n",
      "tf.Tensor(b'', shape=(), dtype=string)\n",
      "tf.Tensor(b'', shape=(), dtype=string)\n",
      "tf.Tensor(b'', shape=(), dtype=string)\n",
      "tf.Tensor(b'', shape=(), dtype=string)\n",
      "tf.Tensor(b'', shape=(), dtype=string)\n",
      "tf.Tensor(b'', shape=(), dtype=string)\n",
      "tf.Tensor(b'', shape=(), dtype=string)\n",
      "tf.Tensor(b'', shape=(), dtype=string)\n",
      "tf.Tensor(b'', shape=(), dtype=string)\n",
      "tf.Tensor(b'', shape=(), dtype=string)\n",
      "tf.Tensor(b'', shape=(), dtype=string)\n",
      "tf.Tensor(b'', shape=(), dtype=string)\n",
      "tf.Tensor(b'', shape=(), dtype=string)\n",
      "tf.Tensor(b'', shape=(), dtype=string)\n",
      "tf.Tensor(b'', shape=(), dtype=string)\n",
      "tf.Tensor(b'', shape=(), dtype=string)\n",
      "tf.Tensor(b'', shape=(), dtype=string)\n",
      "tf.Tensor(b'', shape=(), dtype=string)\n",
      "tf.Tensor(b'', shape=(), dtype=string)\n",
      "tf.Tensor(b'', shape=(), dtype=string)\n",
      "tf.Tensor(b'', shape=(), dtype=string)\n",
      "tf.Tensor(b'', shape=(), dtype=string)\n",
      "tf.Tensor(b'', shape=(), dtype=string)\n",
      "tf.Tensor(b'', shape=(), dtype=string)\n",
      "tf.Tensor(b'', shape=(), dtype=string)\n",
      "tf.Tensor(b'', shape=(), dtype=string)\n",
      "tf.Tensor(b'', shape=(), dtype=string)\n",
      "tf.Tensor(b'', shape=(), dtype=string)\n",
      "tf.Tensor(b'', shape=(), dtype=string)\n",
      "tf.Tensor(b'', shape=(), dtype=string)\n",
      "tf.Tensor(b'', shape=(), dtype=string)\n",
      "tf.Tensor(b'', shape=(), dtype=string)\n",
      "tf.Tensor(b'', shape=(), dtype=string)\n",
      "tf.Tensor(b'', shape=(), dtype=string)\n",
      "tf.Tensor(b'', shape=(), dtype=string)\n",
      "tf.Tensor(b'', shape=(), dtype=string)\n",
      "tf.Tensor(b'', shape=(), dtype=string)\n",
      "tf.Tensor(b'', shape=(), dtype=string)\n",
      "tf.Tensor(b'', shape=(), dtype=string)\n",
      "tf.Tensor(b'', shape=(), dtype=string)\n",
      "tf.Tensor(b'', shape=(), dtype=string)\n",
      "tf.Tensor(b'', shape=(), dtype=string)\n",
      "tf.Tensor(b'', shape=(), dtype=string)\n",
      "tf.Tensor(b'', shape=(), dtype=string)\n",
      "tf.Tensor(b'', shape=(), dtype=string)\n",
      "tf.Tensor(b\"                           All's Well That Ends Well\", shape=(), dtype=string)\n",
      "tf.Tensor(b'                           Antony and Cleopatra', shape=(), dtype=string)\n",
      "tf.Tensor(b'                           As You Like It', shape=(), dtype=string)\n",
      "tf.Tensor(b'                        The Comedy of Errors', shape=(), dtype=string)\n",
      "tf.Tensor(b'                The Tragedy of Coriolanus', shape=(), dtype=string)\n",
      "tf.Tensor(b'                           Cymbeline', shape=(), dtype=string)\n",
      "tf.Tensor(b'  The Tragedy of Hamlet, Prince of Denmark', shape=(), dtype=string)\n",
      "tf.Tensor(b'          The First part of King Henry the Fourth', shape=(), dtype=string)\n",
      "tf.Tensor(b'         The Second part of King Henry the Fourth', shape=(), dtype=string)\n",
      "tf.Tensor(b'         The Life of King Henry the Fifth', shape=(), dtype=string)\n",
      "tf.Tensor(b'           The First part of King Henry the Sixth', shape=(), dtype=string)\n",
      "tf.Tensor(b'          The Second part of King Henry the Sixth', shape=(), dtype=string)\n",
      "tf.Tensor(b'           The Third part of King Henry the Sixth', shape=(), dtype=string)\n",
      "tf.Tensor(b'          The Life of King Henry the Eighth', shape=(), dtype=string)\n",
      "tf.Tensor(b'           The Life and Death of Julius Caesar', shape=(), dtype=string)\n",
      "tf.Tensor(b'           The Life and Death of King John', shape=(), dtype=string)\n",
      "tf.Tensor(b'                           King Lear', shape=(), dtype=string)\n",
      "tf.Tensor(b'                             Loves Labours Lost', shape=(), dtype=string)\n",
      "tf.Tensor(b'                The Tragedy of Macbeth', shape=(), dtype=string)\n",
      "tf.Tensor(b'                           Measure for Measure', shape=(), dtype=string)\n",
      "tf.Tensor(b'                        The Merchant of Venice', shape=(), dtype=string)\n",
      "tf.Tensor(b'                        The Merry Wives of Windsor', shape=(), dtype=string)\n",
      "tf.Tensor(b\"                          A Midsummer Night's Dream\", shape=(), dtype=string)\n",
      "tf.Tensor(b'                           Much Ado About Nothing', shape=(), dtype=string)\n",
      "tf.Tensor(b'            Othello, the Moore of Venice', shape=(), dtype=string)\n",
      "tf.Tensor(b'               Pericles, Prince of Tyre', shape=(), dtype=string)\n",
      "tf.Tensor(b'     The Life and Death of Richard the Second', shape=(), dtype=string)\n",
      "tf.Tensor(b'      The Life and Death of Richard the Third', shape=(), dtype=string)\n",
      "tf.Tensor(b'                           Romeo and Juliet', shape=(), dtype=string)\n",
      "tf.Tensor(b'                        The Taming of the Shrew', shape=(), dtype=string)\n",
      "tf.Tensor(b'                           The Tempest', shape=(), dtype=string)\n",
      "tf.Tensor(b'                           Timon of Athens', shape=(), dtype=string)\n",
      "tf.Tensor(b'                           Titus Andronicus', shape=(), dtype=string)\n",
      "tf.Tensor(b'                           Troilus and Cressida', shape=(), dtype=string)\n",
      "tf.Tensor(b'                           Twelfth Night', shape=(), dtype=string)\n",
      "tf.Tensor(b'                           Two Gentlemen of Verona', shape=(), dtype=string)\n",
      "tf.Tensor(b\"Shakespeare_homepage | All's_Well_That_Ends_Well | Entire play\", shape=(), dtype=string)\n",
      "tf.Tensor(b'Shakespeare_homepage | Antony_and_Cleopatra | Entire play', shape=(), dtype=string)\n",
      "tf.Tensor(b'Shakespeare_homepage | As_You_Like_It | Entire play', shape=(), dtype=string)\n",
      "tf.Tensor(b'Shakespeare_homepage | Comedy_of_Errors | Entire play', shape=(), dtype=string)\n",
      "tf.Tensor(b'Shakespeare_homepage | Coriolanus | Entire play', shape=(), dtype=string)\n",
      "tf.Tensor(b'Shakespeare_homepage | Cymbeline | Entire play', shape=(), dtype=string)\n",
      "tf.Tensor(b'Shakespeare_homepage | Hamlet | Entire play', shape=(), dtype=string)\n",
      "tf.Tensor(b'Shakespeare_homepage | Henry_IV,_part_1 | Entire play', shape=(), dtype=string)\n",
      "tf.Tensor(b'Shakespeare_homepage | Henry_IV,_part_2 | Entire play', shape=(), dtype=string)\n",
      "tf.Tensor(b'Shakespeare_homepage | Henry_V | Entire play', shape=(), dtype=string)\n",
      "tf.Tensor(b'Shakespeare_homepage | Henry_VI,_part_1 | Entire play', shape=(), dtype=string)\n",
      "tf.Tensor(b'Shakespeare_homepage | Henry_VI,_part_2 | Entire play', shape=(), dtype=string)\n",
      "tf.Tensor(b'Shakespeare_homepage | Henry_VI,_part_3 | Entire play', shape=(), dtype=string)\n",
      "tf.Tensor(b'Shakespeare_homepage | Henry_VIII | Entire play', shape=(), dtype=string)\n",
      "tf.Tensor(b'Shakespeare_homepage | Julius_Caesar | Entire play', shape=(), dtype=string)\n",
      "tf.Tensor(b'Shakespeare_homepage | King_John | Entire play', shape=(), dtype=string)\n",
      "tf.Tensor(b'Shakespeare_homepage | King_Lear | Entire play', shape=(), dtype=string)\n",
      "tf.Tensor(b\"Shakespeare_homepage | Love's_Labour's_Lost | Entire play\", shape=(), dtype=string)\n",
      "tf.Tensor(b'Shakespeare_homepage | Macbeth | Entire play', shape=(), dtype=string)\n",
      "tf.Tensor(b'Shakespeare_homepage | Measure_for_Measure | Entire play', shape=(), dtype=string)\n",
      "tf.Tensor(b'Shakespeare_homepage | Merchant_of_Venice | Entire play', shape=(), dtype=string)\n",
      "tf.Tensor(b'Shakespeare_homepage | Merry_Wives_of_Windsor | Entire play', shape=(), dtype=string)\n",
      "tf.Tensor(b\"Shakespeare_homepage | Midsummer_Night's_Dream | Entire play\", shape=(), dtype=string)\n",
      "tf.Tensor(b'Shakespeare_homepage | Much_Ado_About_Nothing | Entire play', shape=(), dtype=string)\n",
      "tf.Tensor(b'Shakespeare_homepage | Othello | Entire play', shape=(), dtype=string)\n",
      "tf.Tensor(b'Shakespeare_homepage | Pericles | Entire play', shape=(), dtype=string)\n",
      "tf.Tensor(b'Shakespeare_homepage | Richard_II | Entire play', shape=(), dtype=string)\n",
      "tf.Tensor(b'Shakespeare_homepage | Richard_III | Entire play', shape=(), dtype=string)\n",
      "tf.Tensor(b'Shakespeare_homepage | Romeo_and_Juliet | Entire play', shape=(), dtype=string)\n",
      "tf.Tensor(b'Shakespeare_homepage | Taming_of_the_Shrew | Entire play', shape=(), dtype=string)\n",
      "tf.Tensor(b'Shakespeare_homepage | The_Tempest | Entire play', shape=(), dtype=string)\n",
      "tf.Tensor(b'Shakespeare_homepage | Timon_of_Athens | Entire play', shape=(), dtype=string)\n",
      "tf.Tensor(b'Shakespeare_homepage | Titus_Andronicus | Entire play', shape=(), dtype=string)\n",
      "tf.Tensor(b'Shakespeare_homepage | Troiles_and_Cressida | Entire play', shape=(), dtype=string)\n",
      "tf.Tensor(b'Shakespeare_homepage | Twelfth_Night | Entire play', shape=(), dtype=string)\n",
      "tf.Tensor(b'Shakespeare_homepage | Two_Gentlemen_of_Verona | Entire play', shape=(), dtype=string)\n",
      "tf.Tensor(b'**** ACT I ****', shape=(), dtype=string)\n",
      "tf.Tensor(b'**** ACT I ****', shape=(), dtype=string)\n",
      "tf.Tensor(b'**** ACT I ****', shape=(), dtype=string)\n",
      "tf.Tensor(b'**** ACT I ****', shape=(), dtype=string)\n",
      "tf.Tensor(b'**** ACT I ****', shape=(), dtype=string)\n",
      "tf.Tensor(b'**** ACT I ****', shape=(), dtype=string)\n",
      "tf.Tensor(b'**** ACT I ****', shape=(), dtype=string)\n",
      "tf.Tensor(b'**** ACT I ****', shape=(), dtype=string)\n",
      "tf.Tensor(b'**** None ****', shape=(), dtype=string)\n",
      "tf.Tensor(b'**** ACT I ****', shape=(), dtype=string)\n",
      "tf.Tensor(b'**** ACT I ****', shape=(), dtype=string)\n",
      "tf.Tensor(b'**** ACT I ****', shape=(), dtype=string)\n",
      "tf.Tensor(b'**** ACT I ****', shape=(), dtype=string)\n",
      "tf.Tensor(b'**** ACT I ****', shape=(), dtype=string)\n",
      "tf.Tensor(b'**** ACT I ****', shape=(), dtype=string)\n",
      "tf.Tensor(b'**** ACT I ****', shape=(), dtype=string)\n",
      "tf.Tensor(b'**** ACT I ****', shape=(), dtype=string)\n",
      "tf.Tensor(b'**** ACT I ****', shape=(), dtype=string)\n",
      "tf.Tensor(b'**** ACT I ****', shape=(), dtype=string)\n",
      "tf.Tensor(b'**** ACT I ****', shape=(), dtype=string)\n",
      "tf.Tensor(b'**** ACT I ****', shape=(), dtype=string)\n",
      "tf.Tensor(b'**** ACT I ****', shape=(), dtype=string)\n",
      "tf.Tensor(b'**** ACT I ****', shape=(), dtype=string)\n",
      "tf.Tensor(b'**** ACT I ****', shape=(), dtype=string)\n",
      "tf.Tensor(b'**** ACT I ****', shape=(), dtype=string)\n",
      "tf.Tensor(b'**** ACT I ****', shape=(), dtype=string)\n",
      "tf.Tensor(b'**** ACT I ****', shape=(), dtype=string)\n",
      "tf.Tensor(b'**** ACT I ****', shape=(), dtype=string)\n",
      "tf.Tensor(b'**** ACT I ****', shape=(), dtype=string)\n",
      "tf.Tensor(b'**** SCENE I. Before an alehouse on a heath. ****', shape=(), dtype=string)\n",
      "tf.Tensor(b'**** ACT I ****', shape=(), dtype=string)\n",
      "tf.Tensor(b'**** ACT I ****', shape=(), dtype=string)\n",
      "tf.Tensor(b'**** ACT I ****', shape=(), dtype=string)\n",
      "tf.Tensor(b'**** ACT I ****', shape=(), dtype=string)\n",
      "tf.Tensor(b'**** ACT I ****', shape=(), dtype=string)\n",
      "tf.Tensor(b'**** ACT I ****', shape=(), dtype=string)\n",
      "tf.Tensor(b\"**** SCENE I. Rousillon. The COUNT's palace. ****\", shape=(), dtype=string)\n",
      "tf.Tensor(b\"**** SCENE I. Alexandria. A room in CLEOPATRA's palace. ****\", shape=(), dtype=string)\n",
      "tf.Tensor(b\"**** SCENE I. Orchard of Oliver's house. ****\", shape=(), dtype=string)\n",
      "tf.Tensor(b\"**** SCENE I. A hall in DUKE SOLINUS'S palace. ****\", shape=(), dtype=string)\n",
      "tf.Tensor(b'**** SCENE I. Rome. A street. ****', shape=(), dtype=string)\n",
      "tf.Tensor(b\"**** SCENE I. Britain. The garden of Cymbeline's palace. ****\", shape=(), dtype=string)\n",
      "tf.Tensor(b'**** SCENE I. Elsinore. A platform before the castle. ****', shape=(), dtype=string)\n",
      "tf.Tensor(b'**** SCENE I. London. The palace. ****', shape=(), dtype=string)\n",
      "tf.Tensor(b'     Warkworth. Before the castle', shape=(), dtype=string)\n",
      "tf.Tensor(b'**** PROLOGUE ****', shape=(), dtype=string)\n",
      "tf.Tensor(b'**** SCENE I. Westminster Abbey. ****', shape=(), dtype=string)\n",
      "tf.Tensor(b'**** SCENE I. London. The palace. ****', shape=(), dtype=string)\n",
      "tf.Tensor(b'**** SCENE I. London. The Parliament-house. ****', shape=(), dtype=string)\n",
      "tf.Tensor(b'**** PROLOGUE ****', shape=(), dtype=string)\n",
      "tf.Tensor(b'**** SCENE I. Rome. A street. ****', shape=(), dtype=string)\n",
      "tf.Tensor(b\"**** SCENE I. KING JOHN'S palace. ****\", shape=(), dtype=string)\n",
      "tf.Tensor(b\"**** SCENE I. King Lear's palace. ****\", shape=(), dtype=string)\n",
      "tf.Tensor(b\"**** SCENE I. The king of Navarre's park. ****\", shape=(), dtype=string)\n",
      "tf.Tensor(b'**** SCENE I. A desert place. ****', shape=(), dtype=string)\n",
      "tf.Tensor(b\"**** SCENE I. An apartment in the DUKE'S palace. ****\", shape=(), dtype=string)\n",
      "tf.Tensor(b'**** SCENE I. Venice. A street. ****', shape=(), dtype=string)\n",
      "tf.Tensor(b\"**** SCENE I. Windsor. Before PAGE's house. ****\", shape=(), dtype=string)\n",
      "tf.Tensor(b'**** SCENE I. Athens. The palace of THESEUS. ****', shape=(), dtype=string)\n",
      "tf.Tensor(b\"**** SCENE I. Before LEONATO'S house. ****\", shape=(), dtype=string)\n",
      "tf.Tensor(b'**** SCENE I. Venice. A street. ****', shape=(), dtype=string)\n",
      "tf.Tensor(b'**** PROLOGUE ****', shape=(), dtype=string)\n",
      "tf.Tensor(b\"**** SCENE I. London. KING RICHARD II's palace. ****\", shape=(), dtype=string)\n",
      "tf.Tensor(b'**** SCENE I. London. A street. ****', shape=(), dtype=string)\n",
      "tf.Tensor(b'**** PROLOGUE ****', shape=(), dtype=string)\n",
      "tf.Tensor(b'     Enter Hostess and SLY', shape=(), dtype=string)\n",
      "tf.Tensor(b'**** SCENE I. On a ship at sea: a tempestuous noise ****', shape=(), dtype=string)\n",
      "tf.Tensor(b\"**** SCENE I. Athens. A hall in Timon's house. ****\", shape=(), dtype=string)\n",
      "tf.Tensor(b'**** SCENE I. Rome. Before the Capitol. ****', shape=(), dtype=string)\n",
      "tf.Tensor(b'**** PROLOGUE ****', shape=(), dtype=string)\n",
      "tf.Tensor(b\"**** SCENE I. DUKE ORSINO's palace. ****\", shape=(), dtype=string)\n",
      "tf.Tensor(b'**** SCENE I. Verona. An open place. ****', shape=(), dtype=string)\n",
      "tf.Tensor(b'     Enter BERTRAM, the COUNTESS of Rousillon, HELENA, and LAFEU, all in', shape=(), dtype=string)\n",
      "tf.Tensor(b'     Enter DEMETRIUS and PHILO', shape=(), dtype=string)\n",
      "tf.Tensor(b'     Enter ORLANDO and ADAM', shape=(), dtype=string)\n",
      "tf.Tensor(b'     Enter DUKE SOLINUS, AEGEON, Gaoler, Officers, and other Attendants', shape=(), dtype=string)\n",
      "tf.Tensor(b'     Enter a company of mutinous Citizens, with staves, clubs, and other', shape=(), dtype=string)\n",
      "tf.Tensor(b'     Enter two Gentlemen', shape=(), dtype=string)\n",
      "tf.Tensor(b'     FRANCISCO at his post. Enter to him BERNARDO', shape=(), dtype=string)\n",
      "tf.Tensor(b'     Enter KING HENRY, LORD JOHN OF LANCASTER, the EARL of WESTMORELAND,', shape=(), dtype=string)\n",
      "tf.Tensor(b'     Enter RUMOUR, painted full of tongues', shape=(), dtype=string)\n",
      "tf.Tensor(b'     Enter Chorus', shape=(), dtype=string)\n",
      "tf.Tensor(b'     Dead March. Enter the Funeral of KING HENRY the Fifth, attended on by', shape=(), dtype=string)\n",
      "tf.Tensor(b'     Flourish of trumpets: then hautboys. Enter KING HENRY VI, GLOUCESTER,', shape=(), dtype=string)\n",
      "tf.Tensor(b'     Alarum. Enter YORK, EDWARD, RICHARD, NORFOLK, MONTAGUE, WARWICK, and', shape=(), dtype=string)\n",
      "tf.Tensor(b'     I come no more to make you laugh: things now,', shape=(), dtype=string)\n",
      "tf.Tensor(b'     Enter FLAVIUS, MARULLUS, and certain Commoners', shape=(), dtype=string)\n",
      "tf.Tensor(b'     Enter KING JOHN, QUEEN ELINOR, PEMBROKE, ESSEX, SALISBURY, and', shape=(), dtype=string)\n",
      "tf.Tensor(b'     Enter KENT, GLOUCESTER, and EDMUND', shape=(), dtype=string)\n",
      "tf.Tensor(b'     Enter FERDINAND king of Navarre, BIRON, LONGAVILLE and DUMAIN', shape=(), dtype=string)\n",
      "tf.Tensor(b'     Thunder and lightning. Enter three Witches', shape=(), dtype=string)\n",
      "tf.Tensor(b'     Enter DUKE VINCENTIO, ESCALUS, Lords and Attendants', shape=(), dtype=string)\n",
      "tf.Tensor(b'     Enter ANTONIO, SALARINO, and SALANIO', shape=(), dtype=string)\n",
      "tf.Tensor(b'     Enter SHALLOW, SLENDER, and SIR HUGH EVANS', shape=(), dtype=string)\n",
      "tf.Tensor(b'     Enter THESEUS, HIPPOLYTA, PHILOSTRATE, and Attendants', shape=(), dtype=string)\n",
      "tf.Tensor(b'     Enter LEONATO, HERO, and BEATRICE, with a Messenger', shape=(), dtype=string)\n",
      "tf.Tensor(b'     Enter RODERIGO and IAGO', shape=(), dtype=string)\n",
      "tf.Tensor(b'     Enter GOWER', shape=(), dtype=string)\n",
      "tf.Tensor(b'     Enter KING RICHARD II, JOHN OF GAUNT, with other Nobles and', shape=(), dtype=string)\n",
      "tf.Tensor(b'     Enter GLOUCESTER, solus', shape=(), dtype=string)\n",
      "tf.Tensor(b'     Two households, both alike in dignity,', shape=(), dtype=string)\n",
      "tf.Tensor(b'SLY', shape=(), dtype=string)\n",
      "tf.Tensor(b'     of thunder and lightning heard.', shape=(), dtype=string)\n",
      "tf.Tensor(b'     Enter Poet, Painter, Jeweller, Merchant, and others, at several doors', shape=(), dtype=string)\n",
      "tf.Tensor(b'     The Tomb of the ANDRONICI appearing; the Tribunes and Senators aloft.', shape=(), dtype=string)\n",
      "tf.Tensor(b'     In Troy, there lies the scene. From isles of Greece', shape=(), dtype=string)\n",
      "tf.Tensor(b'     Enter DUKE ORSINO, CURIO, and other Lords; Musicians attending', shape=(), dtype=string)\n",
      "tf.Tensor(b'     Enter VALENTINE and PROTEUS', shape=(), dtype=string)\n",
      "tf.Tensor(b'     black', shape=(), dtype=string)\n",
      "tf.Tensor(b'PHILO', shape=(), dtype=string)\n",
      "tf.Tensor(b'ORLANDO', shape=(), dtype=string)\n",
      "tf.Tensor(b'AEGEON', shape=(), dtype=string)\n",
      "tf.Tensor(b'     weapons', shape=(), dtype=string)\n",
      "tf.Tensor(b'First Gentleman', shape=(), dtype=string)\n",
      "tf.Tensor(b'BERNARDO', shape=(), dtype=string)\n",
      "tf.Tensor(b'     SIR WALTER BLUNT, and others', shape=(), dtype=string)\n",
      "tf.Tensor(b'RUMOUR', shape=(), dtype=string)\n",
      "tf.Tensor(b'Chorus', shape=(), dtype=string)\n",
      "tf.Tensor(b'     Dukes of BEDFORD, Regent of France; GLOUCESTER, Protector; and', shape=(), dtype=string)\n",
      "tf.Tensor(b'     SALISBURY, WARWICK, and CARDINAL, on the one side; QUEEN MARGARET,', shape=(), dtype=string)\n",
      "tf.Tensor(b'     Soldiers', shape=(), dtype=string)\n",
      "tf.Tensor(b'     That bear a weighty and a serious brow,', shape=(), dtype=string)\n",
      "tf.Tensor(b'FLAVIUS', shape=(), dtype=string)\n",
      "tf.Tensor(b'     others, with CHATILLON', shape=(), dtype=string)\n",
      "tf.Tensor(b'KENT', shape=(), dtype=string)\n",
      "tf.Tensor(b'FERDINAND', shape=(), dtype=string)\n",
      "tf.Tensor(b'First Witch', shape=(), dtype=string)\n",
      "tf.Tensor(b'DUKE VINCENTIO', shape=(), dtype=string)\n",
      "tf.Tensor(b'ANTONIO', shape=(), dtype=string)\n",
      "tf.Tensor(b'SHALLOW', shape=(), dtype=string)\n",
      "tf.Tensor(b'THESEUS', shape=(), dtype=string)\n",
      "tf.Tensor(b'LEONATO', shape=(), dtype=string)\n",
      "tf.Tensor(b'RODERIGO', shape=(), dtype=string)\n",
      "tf.Tensor(b'     Before the palace of Antioch', shape=(), dtype=string)\n",
      "tf.Tensor(b'     Attendants', shape=(), dtype=string)\n",
      "tf.Tensor(b'GLOUCESTER', shape=(), dtype=string)\n",
      "tf.Tensor(b'     In fair Verona, where we lay our scene,', shape=(), dtype=string)\n",
      "tf.Tensor(b\"     I'll pheeze you, in faith.\", shape=(), dtype=string)\n",
      "tf.Tensor(b'     Enter a Master and a Boatswain', shape=(), dtype=string)\n",
      "tf.Tensor(b'Poet', shape=(), dtype=string)\n",
      "tf.Tensor(b'     Enter, below, from one side, SATURNINUS and his Followers; and, from', shape=(), dtype=string)\n",
      "tf.Tensor(b'     The princes orgulous, their high blood chafed,', shape=(), dtype=string)\n",
      "tf.Tensor(b'DUKE ORSINO', shape=(), dtype=string)\n",
      "tf.Tensor(b'VALENTINE', shape=(), dtype=string)\n",
      "tf.Tensor(b'COUNTESS', shape=(), dtype=string)\n",
      "tf.Tensor(b\"     Nay, but this dotage of our general's\", shape=(), dtype=string)\n",
      "tf.Tensor(b'     As I remember, Adam, it was upon this fashion', shape=(), dtype=string)\n",
      "tf.Tensor(b'     Proceed, Solinus, to procure my fall', shape=(), dtype=string)\n",
      "tf.Tensor(b'First Citizen', shape=(), dtype=string)\n",
      "tf.Tensor(b'     You do not meet a man but frowns: our bloods', shape=(), dtype=string)\n",
      "tf.Tensor(b\"     Who's there?\", shape=(), dtype=string)\n",
      "tf.Tensor(b'KING HENRY IV', shape=(), dtype=string)\n",
      "tf.Tensor(b'     Open your ears; for which of you will stop', shape=(), dtype=string)\n",
      "tf.Tensor(b'     O for a Muse of fire, that would ascend', shape=(), dtype=string)\n",
      "tf.Tensor(b'     EXETER, Earl of WARWICK, the BISHOP OF WINCHESTER, Heralds, & c', shape=(), dtype=string)\n",
      "tf.Tensor(b'     SUFFOLK, YORK, SOMERSET, and BUCKINGHAM, on the other', shape=(), dtype=string)\n",
      "tf.Tensor(b'WARWICK', shape=(), dtype=string)\n",
      "tf.Tensor(b'     Sad, high, and working, full of state and woe,', shape=(), dtype=string)\n",
      "tf.Tensor(b'     Hence! home, you idle creatures get you home:', shape=(), dtype=string)\n",
      "tf.Tensor(b'KING JOHN', shape=(), dtype=string)\n",
      "tf.Tensor(b'     I thought the king had more affected the Duke of', shape=(), dtype=string)\n",
      "tf.Tensor(b'     Let fame, that all hunt after in their lives,', shape=(), dtype=string)\n",
      "tf.Tensor(b'     When shall we three meet again', shape=(), dtype=string)\n",
      "tf.Tensor(b'     Escalus.', shape=(), dtype=string)\n",
      "tf.Tensor(b'     In sooth, I know not why I am so sad:', shape=(), dtype=string)\n",
      "tf.Tensor(b'     Sir Hugh, persuade me not; I will make a Star-', shape=(), dtype=string)\n",
      "tf.Tensor(b'     Now, fair Hippolyta, our nuptial hour', shape=(), dtype=string)\n",
      "tf.Tensor(b'     I learn in this letter that Don Peter of Arragon', shape=(), dtype=string)\n",
      "tf.Tensor(b'     Tush! never tell me; I take it much unkindly', shape=(), dtype=string)\n",
      "tf.Tensor(b'     To sing a song that old was sung,', shape=(), dtype=string)\n",
      "tf.Tensor(b'KING RICHARD II', shape=(), dtype=string)\n",
      "tf.Tensor(b'     Now is the winter of our discontent', shape=(), dtype=string)\n",
      "tf.Tensor(b'     From ancient grudge break to new mutiny,', shape=(), dtype=string)\n",
      "tf.Tensor(b'Hostess', shape=(), dtype=string)\n",
      "tf.Tensor(b'Master', shape=(), dtype=string)\n",
      "tf.Tensor(b'     Good day, sir.', shape=(), dtype=string)\n",
      "tf.Tensor(b'     the other side, BASSIANUS and his Followers; with drum and colours', shape=(), dtype=string)\n",
      "tf.Tensor(b'     Have to the port of Athens sent their ships,', shape=(), dtype=string)\n",
      "tf.Tensor(b'     If music be the food of love, play on;', shape=(), dtype=string)\n",
      "tf.Tensor(b'     Cease to persuade, my loving Proteus:', shape=(), dtype=string)\n",
      "tf.Tensor(b'     In delivering my son from me, I bury a second husband.', shape=(), dtype=string)\n",
      "tf.Tensor(b\"     O'erflows the measure: those his goodly eyes,\", shape=(), dtype=string)\n",
      "tf.Tensor(b'     bequeathed me by will but poor a thousand crowns,', shape=(), dtype=string)\n",
      "tf.Tensor(b'     And by the doom of death end woes and all.', shape=(), dtype=string)\n",
      "tf.Tensor(b'     Before we proceed any further, hear me speak.', shape=(), dtype=string)\n",
      "tf.Tensor(b'     No more obey the heavens than our courtiers', shape=(), dtype=string)\n",
      "tf.Tensor(b'FRANCISCO', shape=(), dtype=string)\n",
      "tf.Tensor(b'     So shaken as we are, so wan with care,', shape=(), dtype=string)\n",
      "tf.Tensor(b'     The vent of hearing when loud Rumour speaks?', shape=(), dtype=string)\n",
      "tf.Tensor(b'     The brightest heaven of invention,', shape=(), dtype=string)\n",
      "tf.Tensor(b'BEDFORD', shape=(), dtype=string)\n",
      "tf.Tensor(b'SUFFOLK', shape=(), dtype=string)\n",
      "tf.Tensor(b'     I wonder how the king escaped our hands.', shape=(), dtype=string)\n",
      "tf.Tensor(b'     Such noble scenes as draw the eye to flow,', shape=(), dtype=string)\n",
      "tf.Tensor(b'     Is this a holiday? what! know you not,', shape=(), dtype=string)\n",
      "tf.Tensor(b'     Now, say, Chatillon, what would France with us?', shape=(), dtype=string)\n",
      "tf.Tensor(b'     Albany than Cornwall.', shape=(), dtype=string)\n",
      "tf.Tensor(b\"     Live register'd upon our brazen tombs\", shape=(), dtype=string)\n",
      "tf.Tensor(b'     In thunder, lightning, or in rain?', shape=(), dtype=string)\n",
      "tf.Tensor(b'ESCALUS', shape=(), dtype=string)\n",
      "tf.Tensor(b'     It wearies me; you say it wearies you;', shape=(), dtype=string)\n",
      "tf.Tensor(b'     chamber matter of it: if he were twenty Sir John', shape=(), dtype=string)\n",
      "tf.Tensor(b'     Draws on apace; four happy days bring in', shape=(), dtype=string)\n",
      "tf.Tensor(b'     comes this night to Messina.', shape=(), dtype=string)\n",
      "tf.Tensor(b'     That thou, Iago, who hast had my purse', shape=(), dtype=string)\n",
      "tf.Tensor(b'     From ashes ancient Gower is come;', shape=(), dtype=string)\n",
      "tf.Tensor(b\"     Old John of Gaunt, time-honour'd Lancaster,\", shape=(), dtype=string)\n",
      "tf.Tensor(b'     Made glorious summer by this sun of York;', shape=(), dtype=string)\n",
      "tf.Tensor(b'     Where civil blood makes civil hands unclean.', shape=(), dtype=string)\n",
      "tf.Tensor(b'     A pair of stocks, you rogue!', shape=(), dtype=string)\n",
      "tf.Tensor(b'     Boatswain!', shape=(), dtype=string)\n",
      "tf.Tensor(b'Painter', shape=(), dtype=string)\n",
      "tf.Tensor(b'SATURNINUS', shape=(), dtype=string)\n",
      "tf.Tensor(b'     Fraught with the ministers and instruments', shape=(), dtype=string)\n",
      "tf.Tensor(b'     Give me excess of it, that, surfeiting,', shape=(), dtype=string)\n",
      "tf.Tensor(b'     Home-keeping youth have ever homely wits.', shape=(), dtype=string)\n",
      "tf.Tensor(b'BERTRAM', shape=(), dtype=string)\n",
      "tf.Tensor(b\"     That o'er the files and musters of the war\", shape=(), dtype=string)\n",
      "tf.Tensor(b'     and, as thou sayest, charged my brother, on his', shape=(), dtype=string)\n",
      "tf.Tensor(b'DUKE SOLINUS', shape=(), dtype=string)\n",
      "tf.Tensor(b'All', shape=(), dtype=string)\n",
      "tf.Tensor(b'     Still seem as does the king.', shape=(), dtype=string)\n",
      "tf.Tensor(b'     Nay, answer me: stand, and unfold yourself.', shape=(), dtype=string)\n",
      "tf.Tensor(b'     Find we a time for frighted peace to pant,', shape=(), dtype=string)\n",
      "tf.Tensor(b'     I, from the orient to the drooping west,', shape=(), dtype=string)\n",
      "tf.Tensor(b'     A kingdom for a stage, princes to act', shape=(), dtype=string)\n",
      "tf.Tensor(b'     Hung be the heavens with black, yield day to night!', shape=(), dtype=string)\n",
      "tf.Tensor(b'     As by your high imperial majesty', shape=(), dtype=string)\n",
      "tf.Tensor(b'YORK', shape=(), dtype=string)\n",
      "tf.Tensor(b'     We now present. Those that can pity, here', shape=(), dtype=string)\n",
      "tf.Tensor(b'     Being mechanical, you ought not walk', shape=(), dtype=string)\n",
      "tf.Tensor(b'CHATILLON', shape=(), dtype=string)\n",
      "tf.Tensor(b'GLOUCESTER', shape=(), dtype=string)\n",
      "tf.Tensor(b'     And then grace us in the disgrace of death;', shape=(), dtype=string)\n",
      "tf.Tensor(b'Second Witch', shape=(), dtype=string)\n",
      "tf.Tensor(b'     My lord.', shape=(), dtype=string)\n",
      "tf.Tensor(b'     But how I caught it, found it, or came by it,', shape=(), dtype=string)\n",
      "tf.Tensor(b'     Falstaffs, he shall not abuse Robert Shallow, esquire.', shape=(), dtype=string)\n",
      "tf.Tensor(b'     Another moon: but, O, methinks, how slow', shape=(), dtype=string)\n",
      "tf.Tensor(b'Messenger', shape=(), dtype=string)\n",
      "tf.Tensor(b'     As if the strings were thine, shouldst know of this.', shape=(), dtype=string)\n",
      "tf.Tensor(b\"     Assuming man's infirmities,\", shape=(), dtype=string)\n",
      "tf.Tensor(b'     Hast thou, according to thy oath and band,', shape=(), dtype=string)\n",
      "tf.Tensor(b\"     And all the clouds that lour'd upon our house\", shape=(), dtype=string)\n",
      "tf.Tensor(b'     From forth the fatal loins of these two foes', shape=(), dtype=string)\n",
      "tf.Tensor(b'SLY', shape=(), dtype=string)\n",
      "tf.Tensor(b'Boatswain', shape=(), dtype=string)\n",
      "tf.Tensor(b\"     I am glad you're well.\", shape=(), dtype=string)\n",
      "tf.Tensor(b'     Noble patricians, patrons of my right,', shape=(), dtype=string)\n",
      "tf.Tensor(b'     Of cruel war: sixty and nine, that wore', shape=(), dtype=string)\n",
      "tf.Tensor(b'     The appetite may sicken, and so die.', shape=(), dtype=string)\n",
      "tf.Tensor(b\"     Were't not affection chains thy tender days\", shape=(), dtype=string)\n",
      "tf.Tensor(b\"     And I in going, madam, weep o'er my father's death\", shape=(), dtype=string)\n",
      "tf.Tensor(b\"     Have glow'd like plated Mars, now bend, now turn,\", shape=(), dtype=string)\n",
      "tf.Tensor(b'     blessing, to breed me well: and there begins my', shape=(), dtype=string)\n",
      "tf.Tensor(b'     Merchant of Syracuse, plead no more;', shape=(), dtype=string)\n",
      "tf.Tensor(b'     Speak, speak.', shape=(), dtype=string)\n",
      "tf.Tensor(b'Second Gentleman', shape=(), dtype=string)\n",
      "tf.Tensor(b'BERNARDO', shape=(), dtype=string)\n",
      "tf.Tensor(b'     And breathe short-winded accents of new broils', shape=(), dtype=string)\n",
      "tf.Tensor(b'     Making the wind my post-horse, still unfold', shape=(), dtype=string)\n",
      "tf.Tensor(b'     And monarchs to behold the swelling scene!', shape=(), dtype=string)\n",
      "tf.Tensor(b'     Comets, importing change of times and states,', shape=(), dtype=string)\n",
      "tf.Tensor(b'     I had in charge at my depart for France,', shape=(), dtype=string)\n",
      "tf.Tensor(b'     While we pursued the horsemen of the north,', shape=(), dtype=string)\n",
      "tf.Tensor(b'     May, if they think it well, let fall a tear;', shape=(), dtype=string)\n",
      "tf.Tensor(b'     Upon a labouring day without the sign', shape=(), dtype=string)\n",
      "tf.Tensor(b'     Thus, after greeting, speaks the King of France', shape=(), dtype=string)\n",
      "tf.Tensor(b'     It did always seem so to us: but now, in the', shape=(), dtype=string)\n",
      "tf.Tensor(b'     When, spite of cormorant devouring Time,', shape=(), dtype=string)\n",
      "tf.Tensor(b\"     When the hurlyburly's done,\", shape=(), dtype=string)\n",
      "tf.Tensor(b'DUKE VINCENTIO', shape=(), dtype=string)\n",
      "tf.Tensor(b\"     What stuff 'tis made of, whereof it is born,\", shape=(), dtype=string)\n",
      "tf.Tensor(b'SLENDER', shape=(), dtype=string)\n",
      "tf.Tensor(b'     This old moon wanes! she lingers my desires,', shape=(), dtype=string)\n",
      "tf.Tensor(b'     He is very near by this: he was not three leagues off', shape=(), dtype=string)\n",
      "tf.Tensor(b'IAGO', shape=(), dtype=string)\n",
      "tf.Tensor(b'     To glad your ear, and please your eyes.', shape=(), dtype=string)\n",
      "tf.Tensor(b'     Brought hither Henry Hereford thy bold son,', shape=(), dtype=string)\n",
      "tf.Tensor(b'     In the deep bosom of the ocean buried.', shape=(), dtype=string)\n",
      "tf.Tensor(b\"     A pair of star-cross'd lovers take their life;\", shape=(), dtype=string)\n",
      "tf.Tensor(b'     Ye are a baggage: the Slys are no rogues; look in', shape=(), dtype=string)\n",
      "tf.Tensor(b'     Here, master: what cheer?', shape=(), dtype=string)\n",
      "tf.Tensor(b'Poet', shape=(), dtype=string)\n"
     ]
    }
   ],
   "source": [
    "# Print the first 10 elements of the interleaved dataset\n",
    "\n",
    "lines = [line for line in iter(interleaved_shakespeare_dataset.take(500))]\n",
    "for line in lines:\n",
    "    print(line) # print sequentially the lines of each file: 1st print-> 1st line of 1st file, 2nd print-> 1st line of second file [...]"
   ]
  }
 ],
 "metadata": {
  "kernelspec": {
   "display_name": "Python 3",
   "language": "python",
   "name": "python3"
  },
  "language_info": {
   "codemirror_mode": {
    "name": "ipython",
    "version": 3
   },
   "file_extension": ".py",
   "mimetype": "text/x-python",
   "name": "python",
   "nbconvert_exporter": "python",
   "pygments_lexer": "ipython3",
   "version": "3.8.5"
  }
 },
 "nbformat": 4,
 "nbformat_minor": 5
}
