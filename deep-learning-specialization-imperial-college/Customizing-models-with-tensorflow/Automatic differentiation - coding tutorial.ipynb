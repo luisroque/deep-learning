{
 "cells": [
  {
   "cell_type": "code",
   "execution_count": 1,
   "id": "lasting-welding",
   "metadata": {},
   "outputs": [],
   "source": [
    "import tensorflow as tf\n",
    "import matplotlib.pyplot as plt\n",
    "import numpy as np"
   ]
  },
  {
   "cell_type": "markdown",
   "id": "corresponding-disco",
   "metadata": {},
   "source": [
    "### Create synthetic data"
   ]
  },
  {
   "cell_type": "code",
   "execution_count": 7,
   "id": "together-uzbekistan",
   "metadata": {},
   "outputs": [
    {
     "data": {
      "image/png": "[encoded data removed]",
      "text/plain": [
       "<Figure size 432x288 with 1 Axes>"
      ]
     },
     "metadata": {
      "needs_background": "light"
     },
     "output_type": "display_data"
    }
   ],
   "source": [
    "def MakeNoisyData(m, b, n=20):\n",
    "    x = tf.random.uniform(shape=(n,))\n",
    "    noise = tf.random.normal(shape=(len(x),), stddev=0.1)\n",
    "    y = m*x+b+noise\n",
    "    return x,y\n",
    "\n",
    "m = 1\n",
    "b = 2\n",
    "x_train, y_train = MakeNoisyData(m,b)\n",
    "plt.plot(x_train, y_train, 'b.');"
   ]
  },
  {
   "cell_type": "markdown",
   "id": "complete-municipality",
   "metadata": {},
   "source": [
    "### Define a linear regression model"
   ]
  },
  {
   "cell_type": "code",
   "execution_count": 8,
   "id": "formed-permission",
   "metadata": {},
   "outputs": [],
   "source": [
    "from tensorflow.keras.layers import Layer"
   ]
  },
  {
   "cell_type": "code",
   "execution_count": 9,
   "id": "exposed-vinyl",
   "metadata": {},
   "outputs": [
    {
     "name": "stdout",
     "output_type": "stream",
     "text": [
      "tf.Tensor(\n",
      "[0.0048856  0.01427225 0.02991734 0.02452016 0.01425129 0.00812284\n",
      " 0.00121044 0.01390016 0.00065916 0.02870096 0.01277284 0.01592928\n",
      " 0.00237134 0.02128702 0.02740797 0.01974689 0.0270271  0.02879119\n",
      " 0.02483443 0.02362306], shape=(20,), dtype=float32)\n",
      "[<tf.Variable 'Variable:0' shape=(1,) dtype=float32, numpy=array([0.03294804], dtype=float32)>, <tf.Variable 'Variable:0' shape=(1,) dtype=float32, numpy=array([0.], dtype=float32)>]\n"
     ]
    }
   ],
   "source": [
    "# Build a custom layer for the linear regression model\n",
    "\n",
    "class LinearLayer(Layer):\n",
    "    \n",
    "    def __init__(self):\n",
    "        super(LinearLayer, self).__init__()\n",
    "        self.m = self.add_weight(shape=(1,),\n",
    "                                initializer='random_normal')\n",
    "        self.b = self.add_weight(shape=(1, ),\n",
    "                                initializer='zeros')\n",
    "        \n",
    "    def call(self, inputs):\n",
    "        return self.m * inputs + self.b\n",
    "    \n",
    "\n",
    "linear_regression = LinearLayer()\n",
    "\n",
    "print(linear_regression(x_train))\n",
    "print(linear_regression.weights)"
   ]
  },
  {
   "cell_type": "markdown",
   "id": "regional-simple",
   "metadata": {},
   "source": [
    "### Define the loss function"
   ]
  },
  {
   "cell_type": "code",
   "execution_count": 10,
   "id": "skilled-triple",
   "metadata": {},
   "outputs": [
    {
     "name": "stdout",
     "output_type": "stream",
     "text": [
      "Starting loss 6.4197555\n"
     ]
    }
   ],
   "source": [
    "# Define the mean squared error loss function\n",
    "\n",
    "def SquaredError(y_pred, y_true):\n",
    "    return tf.reduce_mean(tf.square(y_pred - y_true))\n",
    "\n",
    "starting_loss = SquaredError(linear_regression(x_train), y_train)\n",
    "print(\"Starting loss\", starting_loss.numpy())"
   ]
  },
  {
   "cell_type": "markdown",
   "id": "complex-morocco",
   "metadata": {},
   "source": [
    "### Train and plot the model"
   ]
  },
  {
   "cell_type": "code",
   "execution_count": 11,
   "id": "linear-johns",
   "metadata": {},
   "outputs": [
    {
     "name": "stdout",
     "output_type": "stream",
     "text": [
      "Step 0, Loss 6.419755\n",
      "Step 1, Loss 4.870862\n",
      "Step 2, Loss 3.696344\n",
      "Step 3, Loss 2.805710\n",
      "Step 4, Loss 2.130341\n",
      "Step 5, Loss 1.618207\n",
      "Step 6, Loss 1.229852\n",
      "Step 7, Loss 0.935357\n",
      "Step 8, Loss 0.712036\n",
      "Step 9, Loss 0.542684\n",
      "Step 10, Loss 0.414257\n",
      "Step 11, Loss 0.316864\n",
      "Step 12, Loss 0.243003\n",
      "Step 13, Loss 0.186986\n",
      "Step 14, Loss 0.144501\n",
      "Step 15, Loss 0.112276\n",
      "Step 16, Loss 0.087832\n",
      "Step 17, Loss 0.069288\n",
      "Step 18, Loss 0.055218\n",
      "Step 19, Loss 0.044541\n",
      "Step 20, Loss 0.036437\n",
      "Step 21, Loss 0.030284\n",
      "Step 22, Loss 0.025610\n",
      "Step 23, Loss 0.022059\n",
      "Step 24, Loss 0.019358\n"
     ]
    }
   ],
   "source": [
    "# Implement a gradient descent training loop for the linear regression model\n",
    "\n",
    "learning_rate = 0.05\n",
    "steps = 25\n",
    "\n",
    "for i in range(steps):\n",
    "    with tf.GradientTape() as tape:\n",
    "        predictions = linear_regression(x_train)\n",
    "        loss = SquaredError(predictions, y_train)\n",
    "        \n",
    "    gradients = tape.gradient(loss, linear_regression.trainable_variables)\n",
    "    \n",
    "    linear_regression.m.assign_sub(learning_rate * gradients[0])\n",
    "    linear_regression.b.assign_sub(learning_rate * gradients[1])\n",
    "    \n",
    "    print(\"Step %d, Loss %f\" % (i, loss.numpy()))"
   ]
  },
  {
   "cell_type": "code",
   "execution_count": 13,
   "id": "exempt-peripheral",
   "metadata": {},
   "outputs": [
    {
     "name": "stdout",
     "output_type": "stream",
     "text": [
      "m:1, trained m:[1.0554268]\n",
      "b:2, trained b:[1.8994765]\n"
     ]
    },
    {
     "data": {
      "image/png": "[encoded data removed]",
      "text/plain": [
       "<Figure size 432x288 with 1 Axes>"
      ]
     },
     "metadata": {
      "needs_background": "light"
     },
     "output_type": "display_data"
    }
   ],
   "source": [
    "# Plot the learned regression model\n",
    "\n",
    "print(\"m:{}, trained m:{}\".format(m, linear_regression.m.numpy()))\n",
    "print(\"b:{}, trained b:{}\".format(b, linear_regression.b.numpy()))\n",
    "      \n",
    "plt.plot(x_train, y_train, 'b.')\n",
    "      \n",
    "x_linear_regression = np.linspace(min(x_train), max(x_train), 50)\n",
    "plt.plot(x_linear_regression, linear_regression.m*x_linear_regression+linear_regression.b, 'r.');"
   ]
  },
  {
   "cell_type": "code",
   "execution_count": null,
   "id": "endangered-survey",
   "metadata": {},
   "outputs": [],
   "source": []
  }
 ],
 "metadata": {
  "kernelspec": {
   "display_name": "Python 3",
   "language": "python",
   "name": "python3"
  },
  "language_info": {
   "codemirror_mode": {
    "name": "ipython",
    "version": 3
   },
   "file_extension": ".py",
   "mimetype": "text/x-python",
   "name": "python",
   "nbconvert_exporter": "python",
   "pygments_lexer": "ipython3",
   "version": "3.8.5"
  }
 },
 "nbformat": 4,
 "nbformat_minor": 5
}
