{
 "cells": [
  {
   "cell_type": "markdown",
   "id": "civil-steel",
   "metadata": {},
   "source": [
    "# Tensors and Variables"
   ]
  },
  {
   "cell_type": "code",
   "execution_count": 3,
   "id": "respiratory-entrance",
   "metadata": {},
   "outputs": [],
   "source": [
    "import numpy as np\n",
    "import tensorflow as tf"
   ]
  },
  {
   "cell_type": "markdown",
   "id": "ideal-fighter",
   "metadata": {},
   "source": [
    "### Create Variable objects"
   ]
  },
  {
   "cell_type": "code",
   "execution_count": 4,
   "id": "interpreted-bermuda",
   "metadata": {},
   "outputs": [],
   "source": [
    "# Create Variable objects of different type with tf.Variable\n",
    "\n",
    "strings = tf.Variable(['Hello World'], tf.string)\n",
    "floats = tf.Variable([3.14159, 2.71828], tf.float64)\n",
    "ints = tf.Variable([1,2,3], tf.int32)\n",
    "complexs = tf.Variable([25.9-7.39j, 1.23-4.91j], tf.complex128)"
   ]
  },
  {
   "cell_type": "code",
   "execution_count": 6,
   "id": "fitted-strength",
   "metadata": {},
   "outputs": [
    {
     "data": {
      "text/plain": [
       "<tf.Variable 'Variable:0' shape=(3, 3) dtype=float32, numpy=\n",
       "array([[4.2, 4.2, 4.2],\n",
       "       [4.2, 4.2, 4.2],\n",
       "       [4.2, 4.2, 4.2]], dtype=float32)>"
      ]
     },
     "execution_count": 6,
     "metadata": {},
     "output_type": "execute_result"
    }
   ],
   "source": [
    "# Initialise a Variable value\n",
    "\n",
    "tf.Variable(tf.constant(4.2, shape=(3,3)))"
   ]
  },
  {
   "cell_type": "markdown",
   "id": "floppy-davis",
   "metadata": {},
   "source": [
    "### Use and modify Variable values"
   ]
  },
  {
   "cell_type": "code",
   "execution_count": 7,
   "id": "satisfied-debate",
   "metadata": {},
   "outputs": [
    {
     "name": "stdout",
     "output_type": "stream",
     "text": [
      "<class 'tensorflow.python.framework.ops.EagerTensor'>\n"
     ]
    }
   ],
   "source": [
    "v = tf.Variable(0.0)\n",
    "w = v + 1 # w is a tf.Tensor which is computed based on the value of v\n",
    "\n",
    "print(type(w))"
   ]
  },
  {
   "cell_type": "code",
   "execution_count": 8,
   "id": "irish-bradford",
   "metadata": {},
   "outputs": [
    {
     "name": "stdout",
     "output_type": "stream",
     "text": [
      "<tf.Variable 'Variable:0' shape=() dtype=float32, numpy=1.0>\n"
     ]
    }
   ],
   "source": [
    "# Increment the value of a Variable\n",
    "\n",
    "v.assign_add(1)\n",
    "print(v)"
   ]
  },
  {
   "cell_type": "code",
   "execution_count": 9,
   "id": "rough-rwanda",
   "metadata": {},
   "outputs": [
    {
     "name": "stdout",
     "output_type": "stream",
     "text": [
      "<tf.Variable 'Variable:0' shape=() dtype=float32, numpy=0.0>\n"
     ]
    }
   ],
   "source": [
    "# Decrement the value of a variable\n",
    "\n",
    "v.assign_sub(1)\n",
    "print(v)"
   ]
  },
  {
   "cell_type": "markdown",
   "id": "curious-decision",
   "metadata": {},
   "source": [
    "# Create Tensor objects\n",
    "\n",
    "Create a constant tensor as print its type as well as its shape:"
   ]
  },
  {
   "cell_type": "code",
   "execution_count": 10,
   "id": "numerical-collect",
   "metadata": {},
   "outputs": [
    {
     "name": "stdout",
     "output_type": "stream",
     "text": [
      "tf.Tensor(\n",
      "[[1 2 3]\n",
      " [4 5 6]\n",
      " [7 8 9]], shape=(3, 3), dtype=int32)\n",
      "dtype: <dtype: 'int32'>\n",
      "shape: (3, 3)\n"
     ]
    }
   ],
   "source": [
    "# Create a constant Tensor\n",
    "\n",
    "x = tf.constant([[1,2,3], [4,5,6], [7,8,9]])\n",
    "print(x)\n",
    "print(\"dtype:\", x.dtype)\n",
    "print(\"shape:\", x.shape)"
   ]
  },
  {
   "cell_type": "code",
   "execution_count": 11,
   "id": "structural-qualification",
   "metadata": {},
   "outputs": [
    {
     "data": {
      "text/plain": [
       "array([[1, 2, 3],\n",
       "       [4, 5, 6],\n",
       "       [7, 8, 9]], dtype=int32)"
      ]
     },
     "execution_count": 11,
     "metadata": {},
     "output_type": "execute_result"
    }
   ],
   "source": [
    "# Obtain the value as a numpy array\n",
    "\n",
    "x.numpy()"
   ]
  },
  {
   "cell_type": "code",
   "execution_count": 13,
   "id": "through-student",
   "metadata": {},
   "outputs": [
    {
     "name": "stdout",
     "output_type": "stream",
     "text": [
      "<dtype: 'float32'>\n"
     ]
    }
   ],
   "source": [
    "x = tf.constant([[1,2,3], [4,5,6], [7,8,9]], dtype=tf.float32)\n",
    "print(x.dtype)"
   ]
  },
  {
   "cell_type": "code",
   "execution_count": 14,
   "id": "passing-friday",
   "metadata": {},
   "outputs": [],
   "source": [
    "# Create coefficients\n",
    "\n",
    "coeffs = np.arange(16)"
   ]
  },
  {
   "cell_type": "code",
   "execution_count": 16,
   "id": "isolated-pledge",
   "metadata": {},
   "outputs": [],
   "source": [
    "# Initialize shapes\n",
    "\n",
    "shape1 = [8,2]\n",
    "shape2 = [4,4]\n",
    "shape3 = [2,2,2,2]"
   ]
  },
  {
   "cell_type": "code",
   "execution_count": 17,
   "id": "extraordinary-bottle",
   "metadata": {},
   "outputs": [
    {
     "name": "stdout",
     "output_type": "stream",
     "text": [
      "\n",
      " a:\n",
      "  tf.Tensor(\n",
      "[[ 0  1]\n",
      " [ 2  3]\n",
      " [ 4  5]\n",
      " [ 6  7]\n",
      " [ 8  9]\n",
      " [10 11]\n",
      " [12 13]\n",
      " [14 15]], shape=(8, 2), dtype=int64)\n",
      "\n",
      " b:\n",
      "  tf.Tensor(\n",
      "[[ 0  1  2  3]\n",
      " [ 4  5  6  7]\n",
      " [ 8  9 10 11]\n",
      " [12 13 14 15]], shape=(4, 4), dtype=int64)\n",
      "\n",
      " b:\n",
      "  tf.Tensor(\n",
      "[[[[ 0  1]\n",
      "   [ 2  3]]\n",
      "\n",
      "  [[ 4  5]\n",
      "   [ 6  7]]]\n",
      "\n",
      "\n",
      " [[[ 8  9]\n",
      "   [10 11]]\n",
      "\n",
      "  [[12 13]\n",
      "   [14 15]]]], shape=(2, 2, 2, 2), dtype=int64)\n"
     ]
    }
   ],
   "source": [
    "# Create Tensors of different shape\n",
    "\n",
    "a = tf.constant(coeffs, shape=shape1)\n",
    "print(\"\\n a:\\n \", a)\n",
    "\n",
    "b = tf.constant(coeffs, shape=shape2)\n",
    "print(\"\\n b:\\n \", b)\n",
    "\n",
    "c = tf.constant(coeffs, shape=shape3)\n",
    "print(\"\\n b:\\n \", c)"
   ]
  },
  {
   "cell_type": "markdown",
   "id": "overhead-alexandria",
   "metadata": {},
   "source": [
    "### Useful Tensor operations"
   ]
  },
  {
   "cell_type": "code",
   "execution_count": 18,
   "id": "surrounded-metadata",
   "metadata": {},
   "outputs": [],
   "source": [
    "# Create a constant Tensor\n",
    "\n",
    "t = tf.constant(np.arange(80), shape=[5,2,8])"
   ]
  },
  {
   "cell_type": "code",
   "execution_count": 19,
   "id": "obvious-gather",
   "metadata": {},
   "outputs": [],
   "source": [
    "# Get the rank of a Tensor\n",
    "\n",
    "rank = tf.rank(t)"
   ]
  },
  {
   "cell_type": "code",
   "execution_count": 20,
   "id": "small-steal",
   "metadata": {},
   "outputs": [
    {
     "name": "stdout",
     "output_type": "stream",
     "text": [
      "rank:  tf.Tensor(3, shape=(), dtype=int32)\n"
     ]
    }
   ],
   "source": [
    "# Display the rank\n",
    "\n",
    "print(\"rank: \", rank)"
   ]
  },
  {
   "cell_type": "code",
   "execution_count": 22,
   "id": "computational-vitamin",
   "metadata": {},
   "outputs": [],
   "source": [
    "# Reshape a Tensor\n",
    "\n",
    "t2 = tf.reshape(t, [8,10])"
   ]
  },
  {
   "cell_type": "code",
   "execution_count": 29,
   "id": "international-accessory",
   "metadata": {},
   "outputs": [],
   "source": [
    "# Create ones, zeros, identity and constant Tensors\n",
    "\n",
    "ones = tf.ones(shape=(2,3))\n",
    "zeros = tf.zeros(shape=(2,4))\n",
    "eye = tf.eye(3)\n",
    "tensor7 = tf.constant(7.0, shape=[2,2])"
   ]
  },
  {
   "cell_type": "code",
   "execution_count": 30,
   "id": "tough-python",
   "metadata": {},
   "outputs": [
    {
     "name": "stdout",
     "output_type": "stream",
     "text": [
      "\n",
      " Ones:\n",
      "  tf.Tensor(\n",
      "[[1. 1. 1.]\n",
      " [1. 1. 1.]], shape=(2, 3), dtype=float32)\n",
      "\n",
      " Zeros:\n",
      "  tf.Tensor(\n",
      "[[0. 0. 0. 0.]\n",
      " [0. 0. 0. 0.]], shape=(2, 4), dtype=float32)\n",
      "\n",
      " Identity:\n",
      "  tf.Tensor(\n",
      "[[1. 0. 0.]\n",
      " [0. 1. 0.]\n",
      " [0. 0. 1.]], shape=(3, 3), dtype=float32)\n",
      "\n",
      " Tensor filled with 7:\n",
      "  tf.Tensor(\n",
      "[[7. 7.]\n",
      " [7. 7.]], shape=(2, 2), dtype=float32)\n"
     ]
    }
   ],
   "source": [
    "print(\"\\n Ones:\\n \", ones)\n",
    "print(\"\\n Zeros:\\n \", zeros)\n",
    "print(\"\\n Identity:\\n \", eye)\n",
    "print(\"\\n Tensor filled with 7:\\n \", tensor7)"
   ]
  },
  {
   "cell_type": "code",
   "execution_count": 31,
   "id": "apart-compact",
   "metadata": {},
   "outputs": [],
   "source": [
    "# Create a ones Tensor and a zeros Tensor\n",
    "\n",
    "t1 = tf.ones(shape=(2,2))\n",
    "t2 = tf.zeros(shape=(2,2))"
   ]
  },
  {
   "cell_type": "code",
   "execution_count": 38,
   "id": "novel-chapel",
   "metadata": {},
   "outputs": [],
   "source": [
    "# Concatenate two Tensors\n",
    "\n",
    "concat0 = tf.concat([t1, t2], 0)\n",
    "concat1 = tf.concat([t1, t2], 1)"
   ]
  },
  {
   "cell_type": "code",
   "execution_count": 39,
   "id": "plastic-surge",
   "metadata": {},
   "outputs": [
    {
     "name": "stdout",
     "output_type": "stream",
     "text": [
      "tf.Tensor(\n",
      "[[1. 1.]\n",
      " [1. 1.]\n",
      " [0. 0.]\n",
      " [0. 0.]], shape=(4, 2), dtype=float32)\n",
      "tf.Tensor(\n",
      "[[1. 1. 0. 0.]\n",
      " [1. 1. 0. 0.]], shape=(2, 4), dtype=float32)\n"
     ]
    }
   ],
   "source": [
    "# Display the concatenated Tensors\n",
    "\n",
    "print(concat0)\n",
    "print(concat1)"
   ]
  },
  {
   "cell_type": "code",
   "execution_count": 37,
   "id": "fundamental-producer",
   "metadata": {},
   "outputs": [
    {
     "name": "stdout",
     "output_type": "stream",
     "text": [
      "t shape:  (3, 2, 4)\n"
     ]
    }
   ],
   "source": [
    "# Create a constant Tensor\n",
    "\n",
    "t = tf.constant(np.arange(24), shape=(3, 2, 4))\n",
    "print(\"t shape: \", t.shape)"
   ]
  },
  {
   "cell_type": "code",
   "execution_count": 41,
   "id": "industrial-compromise",
   "metadata": {},
   "outputs": [],
   "source": [
    "# Expanding the rank of Tensor\n",
    "\n",
    "t1 = tf.expand_dims(t, 0)\n",
    "t2 = tf.expand_dims(t, 1)\n",
    "t3 = tf.expand_dims(t, 3)"
   ]
  },
  {
   "cell_type": "code",
   "execution_count": 47,
   "id": "married-recommendation",
   "metadata": {},
   "outputs": [
    {
     "name": "stdout",
     "output_type": "stream",
     "text": [
      "After expanding dims: \n",
      " t1 shape:  (1, 3, 2, 4) \n",
      " t2 shape:  (3, 1, 2, 4) \n",
      " t3 shape:  (3, 2, 4, 1)\n"
     ]
    }
   ],
   "source": [
    "# Display the shapes after tf.expand_dims\n",
    "\n",
    "print(\"After expanding dims: \\n t1 shape: \",\n",
    "     t1.shape,\n",
    "     \"\\n t2 shape: \",\n",
    "     t2.shape,\n",
    "     \"\\n t3 shape: \",\n",
    "     t3.shape)"
   ]
  },
  {
   "cell_type": "code",
   "execution_count": 48,
   "id": "other-sleeve",
   "metadata": {},
   "outputs": [],
   "source": [
    "# Squeeze redundant dimensions\n",
    "\n",
    "t1 = tf.squeeze(t1, 0)\n",
    "t2 = tf.squeeze(t2, 1)\n",
    "t3 = tf.squeeze(t3, 3)"
   ]
  },
  {
   "cell_type": "code",
   "execution_count": 50,
   "id": "imported-talent",
   "metadata": {},
   "outputs": [
    {
     "name": "stdout",
     "output_type": "stream",
     "text": [
      "(3, 2, 4)\n",
      "(3, 2, 4)\n",
      "(3, 2, 4)\n"
     ]
    }
   ],
   "source": [
    "print(t1.shape)\n",
    "print(t2.shape)\n",
    "print(t3.shape)"
   ]
  },
  {
   "cell_type": "code",
   "execution_count": 51,
   "id": "whole-edward",
   "metadata": {},
   "outputs": [
    {
     "name": "stdout",
     "output_type": "stream",
     "text": [
      "tf.Tensor([2 3 4], shape=(3,), dtype=int32)\n"
     ]
    }
   ],
   "source": [
    "# Sclicing a Tensor\n",
    "\n",
    "x = tf.constant([1,2,3,4,5,6,7])\n",
    "\n",
    "print(x[1:4])"
   ]
  },
  {
   "cell_type": "markdown",
   "id": "italic-cargo",
   "metadata": {},
   "source": [
    "#### Doing math with Tensors"
   ]
  },
  {
   "cell_type": "code",
   "execution_count": 52,
   "id": "center-planning",
   "metadata": {},
   "outputs": [],
   "source": [
    "# Create two constant Tensors\n",
    "\n",
    "c = tf.constant([[1.0,2.0], [3.0,4.0]])\n",
    "d = tf.constant([[1.0,1.0], [0.0,1.0]])"
   ]
  },
  {
   "cell_type": "code",
   "execution_count": 53,
   "id": "civilian-jamaica",
   "metadata": {},
   "outputs": [],
   "source": [
    "# Matrix multiplication\n",
    "\n",
    "matmul_cd = tf.matmul(c, d)"
   ]
  },
  {
   "cell_type": "code",
   "execution_count": 54,
   "id": "tired-adventure",
   "metadata": {},
   "outputs": [
    {
     "data": {
      "text/plain": [
       "<tf.Tensor: shape=(2, 2), dtype=float32, numpy=\n",
       "array([[1., 3.],\n",
       "       [3., 7.]], dtype=float32)>"
      ]
     },
     "execution_count": 54,
     "metadata": {},
     "output_type": "execute_result"
    }
   ],
   "source": [
    "# Display the result\n",
    "\n",
    "matmul_cd"
   ]
  },
  {
   "cell_type": "code",
   "execution_count": 58,
   "id": "owned-france",
   "metadata": {},
   "outputs": [],
   "source": [
    "# Elementwise operations\n",
    "\n",
    "c_times_d = c*d\n",
    "c_plus_d = c+d\n",
    "c_div_d = c/d"
   ]
  },
  {
   "cell_type": "code",
   "execution_count": 59,
   "id": "mobile-assignment",
   "metadata": {},
   "outputs": [
    {
     "name": "stdout",
     "output_type": "stream",
     "text": [
      "tf.Tensor(\n",
      "[[1. 2.]\n",
      " [0. 4.]], shape=(2, 2), dtype=float32)\n",
      "tf.Tensor(\n",
      "[[2. 3.]\n",
      " [3. 5.]], shape=(2, 2), dtype=float32)\n",
      "tf.Tensor(\n",
      "[[ 1.  2.]\n",
      " [inf  4.]], shape=(2, 2), dtype=float32)\n"
     ]
    }
   ],
   "source": [
    "print(c_times_d)\n",
    "print(c_plus_d)\n",
    "print(c_div_d)"
   ]
  },
  {
   "cell_type": "code",
   "execution_count": 63,
   "id": "returning-ottawa",
   "metadata": {},
   "outputs": [],
   "source": [
    "# Create Tensors\n",
    "\n",
    "a = tf.constant([[2,3], [3,3]])\n",
    "b = tf.constant([[8,7], [2,3]])\n",
    "x = tf.constant([[-6.89 + 1.78j], [-2.54 + 2.15j]])"
   ]
  },
  {
   "cell_type": "code",
   "execution_count": 64,
   "id": "champion-newman",
   "metadata": {},
   "outputs": [
    {
     "data": {
      "text/plain": [
       "<tf.Tensor: shape=(2, 1), dtype=float64, numpy=\n",
       "array([[7.11621388],\n",
       "       [3.32777704]])>"
      ]
     },
     "execution_count": 64,
     "metadata": {},
     "output_type": "execute_result"
    }
   ],
   "source": [
    "# Absolute value of a tensor\n",
    "\n",
    "abs_x = tf.abs(x)\n",
    "abs_x"
   ]
  },
  {
   "cell_type": "code",
   "execution_count": 73,
   "id": "intellectual-indianapolis",
   "metadata": {},
   "outputs": [],
   "source": [
    "# Power of a Tensor\n",
    "\n",
    "powab = tf.pow(a,2)"
   ]
  },
  {
   "cell_type": "code",
   "execution_count": 74,
   "id": "orange-genealogy",
   "metadata": {},
   "outputs": [
    {
     "data": {
      "text/plain": [
       "<tf.Tensor: shape=(2, 2), dtype=int32, numpy=\n",
       "array([[4, 9],\n",
       "       [9, 9]], dtype=int32)>"
      ]
     },
     "execution_count": 74,
     "metadata": {},
     "output_type": "execute_result"
    }
   ],
   "source": [
    "powab"
   ]
  },
  {
   "cell_type": "markdown",
   "id": "potential-circular",
   "metadata": {},
   "source": [
    "#### Randomly sampled constant Tensors"
   ]
  },
  {
   "cell_type": "code",
   "execution_count": 75,
   "id": "cultural-stockholm",
   "metadata": {},
   "outputs": [],
   "source": [
    "# Create a tensor with samples from a normal distribution\n",
    "\n",
    "tn = tf.random.normal(shape=(2,2), mean=0, stddev=1.)"
   ]
  },
  {
   "cell_type": "code",
   "execution_count": 76,
   "id": "planned-christopher",
   "metadata": {},
   "outputs": [],
   "source": [
    "# Create a tensor with samples from a Uniform distribution\n",
    "\n",
    "tu = tf.random.uniform(shape=(2,1), minval=0, maxval=10, dtype='int32')"
   ]
  },
  {
   "cell_type": "code",
   "execution_count": 77,
   "id": "extraordinary-wellington",
   "metadata": {},
   "outputs": [],
   "source": [
    "# Create a tensor with samples from a poisson distribution\n",
    "\n",
    "tp = tf.random.poisson((2,2), 5)"
   ]
  },
  {
   "cell_type": "code",
   "execution_count": 78,
   "id": "synthetic-witch",
   "metadata": {},
   "outputs": [
    {
     "data": {
      "text/plain": [
       "<tf.Tensor: shape=(2, 2), dtype=float32, numpy=\n",
       "array([[2., 6.],\n",
       "       [4., 9.]], dtype=float32)>"
      ]
     },
     "execution_count": 78,
     "metadata": {},
     "output_type": "execute_result"
    }
   ],
   "source": [
    "tp"
   ]
  },
  {
   "cell_type": "code",
   "execution_count": 79,
   "id": "occasional-bosnia",
   "metadata": {},
   "outputs": [],
   "source": [
    "# More math operations\n",
    "\n",
    "d = tf.square(tn)\n",
    "e = tf.exp(d)\n",
    "f = tf.cos(c)"
   ]
  },
  {
   "cell_type": "code",
   "execution_count": null,
   "id": "seasonal-discretion",
   "metadata": {},
   "outputs": [],
   "source": []
  }
 ],
 "metadata": {
  "kernelspec": {
   "display_name": "Python 3",
   "language": "python",
   "name": "python3"
  },
  "language_info": {
   "codemirror_mode": {
    "name": "ipython",
    "version": 3
   },
   "file_extension": ".py",
   "mimetype": "text/x-python",
   "name": "python",
   "nbconvert_exporter": "python",
   "pygments_lexer": "ipython3",
   "version": "3.8.5"
  }
 },
 "nbformat": 4,
 "nbformat_minor": 5
}
