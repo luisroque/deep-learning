{
 "cells": [
  {
   "cell_type": "code",
   "execution_count": 2,
   "id": "union-independence",
   "metadata": {},
   "outputs": [],
   "source": [
    "from tensorflow.keras.models import Model\n",
    "from tensorflow.keras.layers import Input, Dense, Flatten, Conv1D, AveragePooling1D"
   ]
  },
  {
   "cell_type": "code",
   "execution_count": 3,
   "id": "oriental-profit",
   "metadata": {},
   "outputs": [],
   "source": [
    "inputs = Input(shape=(32, 1))\n",
    "h = Conv1D(3, 5, activation='relu')(inputs)\n",
    "h = Flatten()(h)\n",
    "outputs = Dense(1, activation='sigmoid')(h)\n",
    "\n",
    "model = Model(inputs=inputs, outputs=outputs)"
   ]
  },
  {
   "cell_type": "code",
   "execution_count": 8,
   "id": "surgical-guess",
   "metadata": {},
   "outputs": [
    {
     "name": "stdout",
     "output_type": "stream",
     "text": [
      "<tensorflow.python.keras.engine.input_layer.InputLayer object at 0x7f13c7b165e0>\n"
     ]
    }
   ],
   "source": [
    "print(model.layers[0])"
   ]
  },
  {
   "cell_type": "code",
   "execution_count": 24,
   "id": "charged-petroleum",
   "metadata": {},
   "outputs": [
    {
     "data": {
      "text/plain": [
       "18"
      ]
     },
     "execution_count": 24,
     "metadata": {},
     "output_type": "execute_result"
    }
   ],
   "source": [
    "# output shape should be equal to (input shape - kernel size + 1, number of filters)\n",
    "(inputs.shape[1] - 5 + 1, 3)\n",
    "\n",
    "# Number of params should be equal to (kernel size * number of filter + bias)\n",
    "5 * 3 + 3"
   ]
  },
  {
   "cell_type": "code",
   "execution_count": 12,
   "id": "isolated-cookie",
   "metadata": {},
   "outputs": [
    {
     "name": "stdout",
     "output_type": "stream",
     "text": [
      "Model: \"model\"\n",
      "_________________________________________________________________\n",
      "Layer (type)                 Output Shape              Param #   \n",
      "=================================================================\n",
      "input_1 (InputLayer)         [(None, 32, 1)]           0         \n",
      "_________________________________________________________________\n",
      "conv1d (Conv1D)              (None, 28, 3)             18        \n",
      "_________________________________________________________________\n",
      "flatten (Flatten)            (None, 84)                0         \n",
      "_________________________________________________________________\n",
      "dense (Dense)                (None, 1)                 85        \n",
      "=================================================================\n",
      "Total params: 103\n",
      "Trainable params: 103\n",
      "Non-trainable params: 0\n",
      "_________________________________________________________________\n"
     ]
    }
   ],
   "source": [
    "model.summary()"
   ]
  }
 ],
 "metadata": {
  "kernelspec": {
   "display_name": "Python 3",
   "language": "python",
   "name": "python3"
  },
  "language_info": {
   "codemirror_mode": {
    "name": "ipython",
    "version": 3
   },
   "file_extension": ".py",
   "mimetype": "text/x-python",
   "name": "python",
   "nbconvert_exporter": "python",
   "pygments_lexer": "ipython3",
   "version": "3.8.5"
  }
 },
 "nbformat": 4,
 "nbformat_minor": 5
}
