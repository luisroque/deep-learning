{
 "cells": [
  {
   "cell_type": "code",
   "execution_count": 10,
   "id": "innocent-metadata",
   "metadata": {},
   "outputs": [],
   "source": [
    "import numpy as np\n",
    "\n",
    "def get_data(batch_size):\n",
    "    while True:\n",
    "        y_train = np.random.choice([0,1], (batch_size, 1))\n",
    "        x_train = np.random.randn(batch_size, 1) + (2 * y_train - 1)\n",
    "        yield x_train, y_train"
   ]
  },
  {
   "cell_type": "code",
   "execution_count": 11,
   "id": "roman-industry",
   "metadata": {},
   "outputs": [],
   "source": [
    "datagen = get_data(32)"
   ]
  },
  {
   "cell_type": "code",
   "execution_count": 15,
   "id": "ranking-japan",
   "metadata": {},
   "outputs": [],
   "source": [
    "x, y = next(datagen)"
   ]
  },
  {
   "cell_type": "code",
   "execution_count": 23,
   "id": "amateur-speech",
   "metadata": {},
   "outputs": [
    {
     "data": {
      "image/png": "[encoded data removed]",
      "text/plain": [
       "<Figure size 432x288 with 1 Axes>"
      ]
     },
     "metadata": {
      "needs_background": "light"
     },
     "output_type": "display_data"
    }
   ],
   "source": [
    "plt.scatter(x, y);"
   ]
  },
  {
   "cell_type": "code",
   "execution_count": 24,
   "id": "meaningful-shelter",
   "metadata": {},
   "outputs": [],
   "source": [
    "from tensorflow.keras.models import Sequential\n",
    "from tensorflow.keras.layers import Dense"
   ]
  },
  {
   "cell_type": "code",
   "execution_count": 38,
   "id": "frank-church",
   "metadata": {},
   "outputs": [],
   "source": [
    "model = Sequential([Dense(1, activation='sigmoid')])\n",
    "model.compile(loss='binary_crossentropy', \n",
    "              optimizer='sgd',\n",
    "             metrics = ['acc'])"
   ]
  },
  {
   "cell_type": "code",
   "execution_count": 39,
   "id": "sound-arrival",
   "metadata": {},
   "outputs": [
    {
     "name": "stdout",
     "output_type": "stream",
     "text": [
      "Epoch 1/10\n",
      "1000/1000 [==============================] - 1s 628us/step - loss: 0.4684 - acc: 0.8441\n",
      "Epoch 2/10\n",
      "1000/1000 [==============================] - 1s 660us/step - loss: 0.3586 - acc: 0.8454\n",
      "Epoch 3/10\n",
      "1000/1000 [==============================] - 1s 658us/step - loss: 0.3626 - acc: 0.8374\n",
      "Epoch 4/10\n",
      "1000/1000 [==============================] - 1s 654us/step - loss: 0.3606 - acc: 0.8406\n",
      "Epoch 5/10\n",
      "1000/1000 [==============================] - 1s 668us/step - loss: 0.3593 - acc: 0.8402\n",
      "Epoch 6/10\n",
      "1000/1000 [==============================] - 1s 660us/step - loss: 0.3590 - acc: 0.8403\n",
      "Epoch 7/10\n",
      "1000/1000 [==============================] - 1s 641us/step - loss: 0.3550 - acc: 0.8407\n",
      "Epoch 8/10\n",
      "1000/1000 [==============================] - 1s 665us/step - loss: 0.3669 - acc: 0.8360\n",
      "Epoch 9/10\n",
      "1000/1000 [==============================] - 1s 666us/step - loss: 0.3602 - acc: 0.8415\n",
      "Epoch 10/10\n",
      "1000/1000 [==============================] - 1s 648us/step - loss: 0.3584 - acc: 0.8402\n"
     ]
    }
   ],
   "source": [
    "# Using fit_generator we have to define the number of steps_per_epoch, because the model\n",
    "# does not know the data size. In this case we define 1000 iterations as 1 epoch\n",
    "\n",
    "history = model.fit_generator(datagen, steps_per_epoch=1000, epochs=10)"
   ]
  },
  {
   "cell_type": "code",
   "execution_count": 41,
   "id": "solved-individual",
   "metadata": {
    "scrolled": true
   },
   "outputs": [
    {
     "data": {
      "image/png": "[encoded data removed]",
      "text/plain": [
       "<Figure size 432x288 with 1 Axes>"
      ]
     },
     "metadata": {
      "needs_background": "light"
     },
     "output_type": "display_data"
    }
   ],
   "source": [
    "plt.plot(history.history['acc']);"
   ]
  },
  {
   "cell_type": "code",
   "execution_count": 45,
   "id": "native-legislation",
   "metadata": {},
   "outputs": [
    {
     "name": "stdout",
     "output_type": "stream",
     "text": [
      "100/100 [==============================] - 0s 677us/step - loss: 0.3614 - acc: 0.8384\n"
     ]
    },
    {
     "data": {
      "text/plain": [
       "[0.36141151189804077, 0.8384374976158142]"
      ]
     },
     "execution_count": 45,
     "metadata": {},
     "output_type": "execute_result"
    }
   ],
   "source": [
    "model.evaluate(datagen, steps=100)"
   ]
  },
  {
   "cell_type": "code",
   "execution_count": 46,
   "id": "nervous-vanilla",
   "metadata": {},
   "outputs": [
    {
     "data": {
      "text/plain": [
       "array([[0.90652764],\n",
       "       [0.90708345],\n",
       "       [0.16463456],\n",
       "       ...,\n",
       "       [0.2718918 ],\n",
       "       [0.66187584],\n",
       "       [0.8683615 ]], dtype=float32)"
      ]
     },
     "execution_count": 46,
     "metadata": {},
     "output_type": "execute_result"
    }
   ],
   "source": [
    "model.predict(datagen, steps=100)"
   ]
  }
 ],
 "metadata": {
  "kernelspec": {
   "display_name": "Python 3",
   "language": "python",
   "name": "python3"
  },
  "language_info": {
   "codemirror_mode": {
    "name": "ipython",
    "version": 3
   },
   "file_extension": ".py",
   "mimetype": "text/x-python",
   "name": "python",
   "nbconvert_exporter": "python",
   "pygments_lexer": "ipython3",
   "version": "3.8.5"
  }
 },
 "nbformat": 4,
 "nbformat_minor": 5
}
