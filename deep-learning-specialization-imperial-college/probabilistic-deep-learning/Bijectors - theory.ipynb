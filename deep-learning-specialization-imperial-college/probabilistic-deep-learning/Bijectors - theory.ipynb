{
 "cells": [
  {
   "cell_type": "code",
   "execution_count": 1,
   "id": "confidential-notice",
   "metadata": {},
   "outputs": [],
   "source": [
    "import tensorflow as tf\n",
    "import tensorflow_probability as tfp\n",
    "tfd = tfp.distributions\n",
    "tfb = tfp.bijectors"
   ]
  },
  {
   "cell_type": "code",
   "execution_count": 2,
   "id": "elder-spank",
   "metadata": {},
   "outputs": [],
   "source": [
    "z = tf.constant([1., 2., 3.])"
   ]
  },
  {
   "cell_type": "code",
   "execution_count": 3,
   "id": "bridal-spring",
   "metadata": {},
   "outputs": [],
   "source": [
    "scale = tfb.Scale(2.)"
   ]
  },
  {
   "cell_type": "code",
   "execution_count": 4,
   "id": "personal-synthetic",
   "metadata": {},
   "outputs": [],
   "source": [
    "x = scale.forward(z)"
   ]
  },
  {
   "cell_type": "code",
   "execution_count": 5,
   "id": "limited-louisville",
   "metadata": {},
   "outputs": [
    {
     "data": {
      "text/plain": [
       "<tf.Tensor: shape=(3,), dtype=float32, numpy=array([2., 4., 6.], dtype=float32)>"
      ]
     },
     "execution_count": 5,
     "metadata": {},
     "output_type": "execute_result"
    }
   ],
   "source": [
    "x"
   ]
  },
  {
   "cell_type": "markdown",
   "id": "prescribed-aerospace",
   "metadata": {},
   "source": [
    "Bijectors are used to transform Tensor objects. Bijectors have methods to apply the forward as well as the inverse transformation."
   ]
  },
  {
   "cell_type": "code",
   "execution_count": 6,
   "id": "eastern-difference",
   "metadata": {},
   "outputs": [
    {
     "data": {
      "text/plain": [
       "<tf.Tensor: shape=(3,), dtype=float32, numpy=array([2.5, 1.5, 0.5], dtype=float32)>"
      ]
     },
     "execution_count": 6,
     "metadata": {},
     "output_type": "execute_result"
    }
   ],
   "source": [
    "scale.inverse(tf.constant([5., 3., 1.]))"
   ]
  },
  {
   "cell_type": "markdown",
   "id": "included-exclusive",
   "metadata": {},
   "source": [
    "Now, let's add a shift and a scaling transformation."
   ]
  },
  {
   "cell_type": "code",
   "execution_count": 7,
   "id": "valid-friday",
   "metadata": {},
   "outputs": [],
   "source": [
    "scale = tfb.Scale(2.)\n",
    "shift = tfb.Shift(1.)"
   ]
  },
  {
   "cell_type": "code",
   "execution_count": 8,
   "id": "persistent-indicator",
   "metadata": {},
   "outputs": [],
   "source": [
    "scale_and_shift = tfb.Chain([shift, scale])"
   ]
  },
  {
   "cell_type": "code",
   "execution_count": 10,
   "id": "several-freeze",
   "metadata": {},
   "outputs": [
    {
     "data": {
      "text/plain": [
       "<tf.Tensor: shape=(3,), dtype=float32, numpy=array([3., 5., 7.], dtype=float32)>"
      ]
     },
     "execution_count": 10,
     "metadata": {},
     "output_type": "execute_result"
    }
   ],
   "source": [
    "scale_and_shift.forward(z)"
   ]
  },
  {
   "cell_type": "markdown",
   "id": "average-repair",
   "metadata": {},
   "source": [
    "We can chain several transformations to produce a more complex transformation. Any chain of smooth and invertible transformations will again be smooth and invertible.\n",
    "\n",
    "When passing the bijectors objects to the constructor `tfb.Chain` the bijectors are applyed in reverse order."
   ]
  },
  {
   "cell_type": "code",
   "execution_count": 11,
   "id": "dying-omega",
   "metadata": {},
   "outputs": [
    {
     "data": {
      "text/plain": [
       "<tf.Tensor: shape=(3,), dtype=float32, numpy=array([0.5, 2. , 3.5], dtype=float32)>"
      ]
     },
     "execution_count": 11,
     "metadata": {},
     "output_type": "execute_result"
    }
   ],
   "source": [
    "scale_and_shift.inverse(tf.constant([2., 5., 8.]))"
   ]
  },
  {
   "cell_type": "markdown",
   "id": "significant-network",
   "metadata": {},
   "source": [
    "Bijectors can also be used to transform random variables and compute the log probability of events under the transformed distribution."
   ]
  },
  {
   "cell_type": "code",
   "execution_count": 12,
   "id": "talented-filing",
   "metadata": {},
   "outputs": [],
   "source": [
    "normal = tfd.Normal(loc=0, scale=1.)"
   ]
  },
  {
   "cell_type": "code",
   "execution_count": 13,
   "id": "precise-mouth",
   "metadata": {},
   "outputs": [
    {
     "data": {
      "text/plain": [
       "<tf.Tensor: shape=(3,), dtype=float32, numpy=array([-0.80663365, -1.2608837 , -2.3091867 ], dtype=float32)>"
      ]
     },
     "execution_count": 13,
     "metadata": {},
     "output_type": "execute_result"
    }
   ],
   "source": [
    "z = normal.sample(3)\n",
    "z"
   ]
  },
  {
   "cell_type": "code",
   "execution_count": 14,
   "id": "italian-gates",
   "metadata": {},
   "outputs": [],
   "source": [
    "scale_and_shift = tfb.Chain([tfb.Shift(1.), tfb.Scale(2.)])"
   ]
  },
  {
   "cell_type": "code",
   "execution_count": 15,
   "id": "legislative-consolidation",
   "metadata": {},
   "outputs": [],
   "source": [
    "x = scale_and_shift.forward(z)"
   ]
  },
  {
   "cell_type": "code",
   "execution_count": 16,
   "id": "reported-dynamics",
   "metadata": {},
   "outputs": [
    {
     "data": {
      "text/plain": [
       "<tf.Tensor: shape=(3,), dtype=float32, numpy=array([-0.6132673, -1.5217674, -3.6183734], dtype=float32)>"
      ]
     },
     "execution_count": 16,
     "metadata": {},
     "output_type": "execute_result"
    }
   ],
   "source": [
    "x"
   ]
  },
  {
   "cell_type": "markdown",
   "id": "spoken-prompt",
   "metadata": {},
   "source": [
    "Here x is just equal to z multiplied by the factor of 2 and shifted by 1."
   ]
  },
  {
   "cell_type": "code",
   "execution_count": 18,
   "id": "mounted-productivity",
   "metadata": {},
   "outputs": [
    {
     "data": {
      "text/plain": [
       "<tf.Tensor: shape=(3,), dtype=float32, numpy=array([-1.2442675, -1.7138524, -3.5851102], dtype=float32)>"
      ]
     },
     "execution_count": 18,
     "metadata": {},
     "output_type": "execute_result"
    }
   ],
   "source": [
    "log_prob_z = normal.log_prob(z)\n",
    "log_prob_z"
   ]
  },
  {
   "cell_type": "markdown",
   "id": "indonesian-crack",
   "metadata": {},
   "source": [
    "z is a realization of a random variable and so has an associated log probability which we can compute with the log prob method of the distribution object. But x is also a realization of a random variable, corresponding to the transformed distribution defined by the scale and shift bijectors forward operation. And we want to evaluate the density of this transformed distribution at x. That is what the change of variables formula is used for."
   ]
  },
  {
   "cell_type": "code",
   "execution_count": 20,
   "id": "apart-discipline",
   "metadata": {},
   "outputs": [],
   "source": [
    "log_prob_x = normal.log_prob(z) - scale_and_shift.forward_log_det_jacobian(z, event_ndims=0)"
   ]
  },
  {
   "cell_type": "markdown",
   "id": "experimental-tribute",
   "metadata": {},
   "source": [
    "The log probability of x is given by the log probability of z minus the log of the jacobian determinant of the forward transformation. The computation of the log jacobian determinant is a key feature of bijectors and implemented as `forward_log_det_jacobian`. This method has two required arguments: the input tensor z as well as an `event_ndims` argument which specifies the number of event space dimensions present in the input tensor z.\n",
    "\n",
    "Remember that z has shapes given by sample, batch and event shapes. The computation of the log jacobian determinant should be reduced over the event dimensions. But these shape properties cannot be directly extracted from z, which is why we need to explicitly pass the number of event dimensions with the `event_ndims` argument. \n",
    "\n",
    "In the example above the random variable z has empty batch and event dimensions and a one dimensional sample shape of length 3, so we pass `event_ndims`=0. The result is a tensor of log probability of length 3, one for each event in the sample."
   ]
  },
  {
   "cell_type": "code",
   "execution_count": null,
   "id": "occasional-nothing",
   "metadata": {},
   "outputs": [],
   "source": []
  }
 ],
 "metadata": {
  "kernelspec": {
   "display_name": "Python 3",
   "language": "python",
   "name": "python3"
  },
  "language_info": {
   "codemirror_mode": {
    "name": "ipython",
    "version": 3
   },
   "file_extension": ".py",
   "mimetype": "text/x-python",
   "name": "python",
   "nbconvert_exporter": "python",
   "pygments_lexer": "ipython3",
   "version": "3.8.5"
  }
 },
 "nbformat": 4,
 "nbformat_minor": 5
}
