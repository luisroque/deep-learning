{
 "cells": [
  {
   "cell_type": "code",
   "execution_count": 11,
   "id": "informational-jenny",
   "metadata": {},
   "outputs": [],
   "source": [
    "import tensorflow as tf\n",
    "import tensorflow_probability as tfp\n",
    "tfd = tfp.distributions\n",
    "tfpl = tfp.layers\n",
    "from tensorflow.keras.models import Sequential, Model\n",
    "from tensorflow.keras.layers import Dense, Flatten, Reshape\n",
    "import matplotlib.pyplot as plt\n",
    "import numpy as np"
   ]
  },
  {
   "cell_type": "code",
   "execution_count": 12,
   "id": "professional-strand",
   "metadata": {},
   "outputs": [],
   "source": [
    "# import Fashion MNIST\n",
    "\n",
    "(x_train, _), (x_test, _) = tf.keras.datasets.fashion_mnist.load_data()\n",
    "x_train = x_train.astype('float32')/256. + 0.5/256\n",
    "x_test = x_test.astype('float32')/256 + 0.5/256\n",
    "example_x = x_test[:16]\n",
    "\n",
    "batch_size=32\n",
    "x_train = tf.data.Dataset.from_tensor_slices((x_train, x_train)).batch(batch_size)\n",
    "x_test = tf.data.Dataset.from_tensor_slices((x_test, x_test)).batch(batch_size)"
   ]
  },
  {
   "cell_type": "markdown",
   "id": "legal-chair",
   "metadata": {},
   "source": [
    "Notice that the images are scaled to be between 0 and 1. This is because the decoding distribution is going to envolve beta distributions, which only have non-zero density in the interval between 0 and 1."
   ]
  },
  {
   "cell_type": "code",
   "execution_count": 13,
   "id": "instrumental-series",
   "metadata": {},
   "outputs": [],
   "source": [
    "# Define latent_size and the prior, p(z)\n",
    "\n",
    "latent_size=4\n",
    "\n",
    "prior = tfd.MultivariateNormalDiag(loc=tf.zeros(latent_size))"
   ]
  },
  {
   "cell_type": "code",
   "execution_count": 15,
   "id": "level-newspaper",
   "metadata": {},
   "outputs": [
    {
     "name": "stdout",
     "output_type": "stream",
     "text": [
      "WARNING:tensorflow:From /home/mach1ne/anaconda3/envs/tf/lib/python3.8/site-packages/tensorflow/python/ops/linalg/linear_operator_lower_triangular.py:159: calling LinearOperator.__init__ (from tensorflow.python.ops.linalg.linear_operator) with graph_parents is deprecated and will be removed in a future version.\n",
      "Instructions for updating:\n",
      "Do not pass `graph_parents`.  They will  no longer be used.\n"
     ]
    }
   ],
   "source": [
    "# Define the encoding distribution using a tfpl.KLDivergenceAddLoss layer\n",
    "\n",
    "event_shape = (28, 28)\n",
    "\n",
    "encoder = Sequential([\n",
    "    Flatten(input_shape=event_shape),\n",
    "    Dense(128, activation='relu'),\n",
    "    Dense(64, activation='relu'),\n",
    "    Dense(32, activation='relu'),\n",
    "    Dense(16, activation='relu'),\n",
    "    Dense(tfpl.MultivariateNormalTriL.params_size(latent_size)),\n",
    "    tfpl.MultivariateNormalTriL(latent_size),\n",
    "    tfpl.KLDivergenceAddLoss(prior) # estimates KL [ q(z|x) || p(z)]\n",
    "])\n",
    "\n",
    "# samples z_j from q(z|x_j) \n",
    "# then computes log q(z_j|x_j) - log p(z_j)"
   ]
  },
  {
   "cell_type": "markdown",
   "id": "acquired-wrist",
   "metadata": {},
   "source": [
    "The final dense layer outputs a vector of unconstraint real values. The `MultivariateNormalTriL` the receives this vector and interprets it as the location and lower triangular matrix with positive diagonal."
   ]
  },
  {
   "cell_type": "code",
   "execution_count": 16,
   "id": "changed-nursery",
   "metadata": {},
   "outputs": [
    {
     "data": {
      "text/plain": [
       "[<tf.Tensor 'kl_divergence_add_loss/kldivergence_loss/batch_total_kl_divergence:0' shape=() dtype=float32>]"
      ]
     },
     "execution_count": 16,
     "metadata": {},
     "output_type": "execute_result"
    }
   ],
   "source": [
    "# See how `KLDivergenceAddLoss` affects `encoder.losses`\n",
    "# encoder.losses before the network has received any inputs\n",
    "\n",
    "encoder.losses"
   ]
  },
  {
   "cell_type": "code",
   "execution_count": 17,
   "id": "crude-technique",
   "metadata": {},
   "outputs": [
    {
     "data": {
      "text/plain": [
       "<tfp.distributions.MultivariateNormalTriL 'sequential_multivariate_normal_tri_l_MultivariateNormalTriL_MultivariateNormalTriL' batch_shape=[16] event_shape=[4] dtype=float32>"
      ]
     },
     "execution_count": 17,
     "metadata": {},
     "output_type": "execute_result"
    }
   ],
   "source": [
    "# Pass a batch of images through the encoder\n",
    "\n",
    "encoder(example_x)"
   ]
  },
  {
   "cell_type": "code",
   "execution_count": 18,
   "id": "latter-class",
   "metadata": {},
   "outputs": [
    {
     "data": {
      "text/plain": [
       "[<tf.Tensor: shape=(), dtype=float32, numpy=0.99569255>]"
      ]
     },
     "execution_count": 18,
     "metadata": {},
     "output_type": "execute_result"
    }
   ],
   "source": [
    "# See how the encoder.losses has changed\n",
    "\n",
    "encoder.losses"
   ]
  },
  {
   "cell_type": "code",
   "execution_count": 20,
   "id": "random-humidity",
   "metadata": {},
   "outputs": [],
   "source": [
    "# Respecify the encoder using `weight` and `test_points_fn`\n",
    "\n",
    "event_shape = (28, 28)\n",
    "\n",
    "encoder = Sequential([\n",
    "    Flatten(input_shape=event_shape),\n",
    "    Dense(128, activation='relu'),\n",
    "    Dense(64, activation='relu'),\n",
    "    Dense(32, activation='relu'),\n",
    "    Dense(16, activation='relu'),\n",
    "    Dense(tfpl.MultivariateNormalTriL.params_size(latent_size)),\n",
    "    tfpl.MultivariateNormalTriL(latent_size),\n",
    "    tfpl.KLDivergenceAddLoss(prior,\n",
    "                            use_exact_kl=False,\n",
    "                            weight=1.5,\n",
    "                            test_points_fn=lambda q: q.sample(10),\n",
    "                            test_points_reduce_axis=0) # estimates KL [ q(z|x) || p(z)]\n",
    "])\n",
    "\n",
    "# (n_samples, batch_size, dim_z)\n",
    "# z_{ij} is the ith sample for the observation x_j (is at (i, j, :) in tensor of samples)\n",
    "# is mapped to log q(z_{ij}|x_j) - log p(z_{ij})\n",
    "# => tensor of KL divergences has shape (n_samples, batch_size)"
   ]
  },
  {
   "cell_type": "code",
   "execution_count": 22,
   "id": "relative-looking",
   "metadata": {},
   "outputs": [],
   "source": [
    "# Replace `KLDivergenceAddLoss` with `KLDivergenceRegularizer` in the previous (probabilistic) layer\n",
    "\n",
    "divergence_regularizer = tfpl.KLDivergenceRegularizer(prior, \n",
    "                                                     use_exact_kl=False,\n",
    "                                                     test_points_fn = lambda q: q.sample(5),\n",
    "                                                     test_points_reduce_axis=0)\n",
    "\n",
    "encoder = Sequential([\n",
    "    Flatten(input_shape=event_shape),\n",
    "    Dense(128, activation='relu'),\n",
    "    Dense(64, activation='relu'),\n",
    "    Dense(32, activation='relu'),\n",
    "    Dense(16, activation='relu'),\n",
    "    Dense(tfpl.MultivariateNormalTriL.params_size(latent_size)),\n",
    "    tfpl.MultivariateNormalTriL(latent_size,\n",
    "                               activity_regularizer=divergence_regularizer)\n",
    "])\n"
   ]
  },
  {
   "cell_type": "code",
   "execution_count": 23,
   "id": "stone-concord",
   "metadata": {},
   "outputs": [],
   "source": [
    "# Specify the decoder, p(x|z)\n",
    "\n",
    "decoder = Sequential([\n",
    "    Dense(16, activation='sigmoid', input_shape=(latent_size,)),\n",
    "    Dense(32, activation='sigmoid'),\n",
    "    Dense(64, activation='sigmoid'),\n",
    "    Dense(2*event_shape[0]*event_shape[1], activation='exponential'),\n",
    "    Reshape((event_shape[0], event_shape[1], 2)),\n",
    "    tfpl.DistributionLambda(\n",
    "        lambda t: tfd.Independent(\n",
    "            tfd.Beta(concentration1=t[..., 0],\n",
    "                     concentration0=t[..., 1])\n",
    "        )\n",
    "    )\n",
    "])"
   ]
  },
  {
   "cell_type": "markdown",
   "id": "subsequent-transaction",
   "metadata": {},
   "source": [
    "In the decoder we are using an exponential activation function to ensure that the paramters that are later passed to the beta distributions are non-negative. Since there it not an Independent Beta layer, we are using a Distribution Lambda, Independent and Beta to build one."
   ]
  },
  {
   "cell_type": "code",
   "execution_count": 24,
   "id": "suffering-circuit",
   "metadata": {},
   "outputs": [],
   "source": [
    "# Connect the encoder and decoder to form the VAE\n",
    "\n",
    "vae = Model(inputs=encoder.inputs, outputs=decoder(encoder.outputs))"
   ]
  },
  {
   "cell_type": "code",
   "execution_count": 26,
   "id": "unavailable-football",
   "metadata": {},
   "outputs": [],
   "source": [
    "# Define a loss that only estimates the expected reconstruction error,\n",
    "# -E_{Z - q(z|x)}[log p(x|z)]\n",
    "\n",
    "def log_loss(x_true, p_x_given_z):\n",
    "    return(-tf.reduce_sum(p_x_given_z.log_prob(x_true)))"
   ]
  },
  {
   "cell_type": "markdown",
   "id": "desirable-synthetic",
   "metadata": {},
   "source": [
    "We already included the KL term to our loss function, so we only need to include here the reconstruction loss. We do it via one sample MC estiamte."
   ]
  },
  {
   "cell_type": "code",
   "execution_count": 29,
   "id": "reserved-factory",
   "metadata": {},
   "outputs": [
    {
     "name": "stdout",
     "output_type": "stream",
     "text": [
      "Epoch 1/10\n",
      "1875/1875 [==============================] - 12s 5ms/step - loss: -40646.3815 - val_loss: -49858.3711\n",
      "Epoch 2/10\n",
      "1875/1875 [==============================] - 9s 5ms/step - loss: -52033.6174 - val_loss: -55359.4570\n",
      "Epoch 3/10\n",
      "1875/1875 [==============================] - 10s 5ms/step - loss: -55760.9972 - val_loss: -55711.9570\n",
      "Epoch 4/10\n",
      "1875/1875 [==============================] - 10s 5ms/step - loss: -57389.4405 - val_loss: -57899.5664\n",
      "Epoch 5/10\n",
      "1875/1875 [==============================] - 9s 5ms/step - loss: -58458.3007 - val_loss: -61834.7539\n",
      "Epoch 6/10\n",
      "1875/1875 [==============================] - 9s 5ms/step - loss: -62214.1478 - val_loss: -64143.6094\n",
      "Epoch 7/10\n",
      "1875/1875 [==============================] - 9s 5ms/step - loss: -64714.8849 - val_loss: -66730.5703\n",
      "Epoch 8/10\n",
      "1875/1875 [==============================] - 9s 5ms/step - loss: -66257.8222 - val_loss: -67222.6875\n",
      "Epoch 9/10\n",
      "1875/1875 [==============================] - 10s 5ms/step - loss: -67230.8873 - val_loss: -68650.4531\n",
      "Epoch 10/10\n",
      "1875/1875 [==============================] - 9s 5ms/step - loss: -68009.7528 - val_loss: -69766.6328\n"
     ]
    },
    {
     "data": {
      "text/plain": [
       "<tensorflow.python.keras.callbacks.History at 0x7f930da98b20>"
      ]
     },
     "execution_count": 29,
     "metadata": {},
     "output_type": "execute_result"
    }
   ],
   "source": [
    "# Compile and fit the model\n",
    "\n",
    "vae.compile(loss=log_loss)\n",
    "\n",
    "vae.fit(x_train, validation_data=x_test, epochs=10)"
   ]
  },
  {
   "cell_type": "code",
   "execution_count": 33,
   "id": "incorporate-shanghai",
   "metadata": {},
   "outputs": [],
   "source": [
    "# Generate an example reconstruction\n",
    "\n",
    "example_reconstruction = vae(example_x).mean().numpy().squeeze()"
   ]
  },
  {
   "cell_type": "code",
   "execution_count": 34,
   "id": "particular-oxide",
   "metadata": {},
   "outputs": [
    {
     "data": {
      "image/png": "[encoded data removed]",
      "text/plain": [
       "<Figure size 1152x360 with 12 Axes>"
      ]
     },
     "metadata": {
      "needs_background": "light"
     },
     "output_type": "display_data"
    }
   ],
   "source": [
    "# Plot the example reconstructions\n",
    "\n",
    "f, axs = plt.subplots(2, 6, figsize=(16, 5))\n",
    "\n",
    "for j in range(6):\n",
    "    axs[0, j].imshow(example_x[j, :, :].squeeze(), cmap='binary')\n",
    "    axs[1, j].imshow(example_reconstruction[j, :, :], cmap='binary')\n",
    "    axs[0, j].axis('off')\n",
    "    axs[1, j].axis('off')"
   ]
  },
  {
   "cell_type": "code",
   "execution_count": null,
   "id": "close-jackson",
   "metadata": {},
   "outputs": [],
   "source": []
  }
 ],
 "metadata": {
  "kernelspec": {
   "display_name": "Python 3",
   "language": "python",
   "name": "python3"
  },
  "language_info": {
   "codemirror_mode": {
    "name": "ipython",
    "version": 3
   },
   "file_extension": ".py",
   "mimetype": "text/x-python",
   "name": "python",
   "nbconvert_exporter": "python",
   "pygments_lexer": "ipython3",
   "version": "3.8.5"
  }
 },
 "nbformat": 4,
 "nbformat_minor": 5
}
