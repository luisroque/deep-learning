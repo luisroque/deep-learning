{
 "cells": [
  {
   "cell_type": "code",
   "execution_count": 59,
   "id": "august-mayor",
   "metadata": {},
   "outputs": [],
   "source": [
    "import tensorflow_probability as tfp\n",
    "tfd = tfp.distributions\n",
    "tfb = tfp.bijectors\n",
    "import matplotlib.pyplot as plt\n",
    "import tensorflow as tf"
   ]
  },
  {
   "cell_type": "code",
   "execution_count": 60,
   "id": "fifteen-bench",
   "metadata": {},
   "outputs": [],
   "source": [
    "# Parameters\n",
    "\n",
    "n = 10000\n",
    "loc = 0\n",
    "scale = 0.5"
   ]
  },
  {
   "cell_type": "code",
   "execution_count": 61,
   "id": "increased-ivory",
   "metadata": {},
   "outputs": [],
   "source": [
    "# Normal distribution\n",
    "\n",
    "normal = tfd.Normal(loc=loc, scale=scale)"
   ]
  },
  {
   "cell_type": "code",
   "execution_count": 62,
   "id": "exact-pressing",
   "metadata": {},
   "outputs": [
    {
     "name": "stdout",
     "output_type": "stream",
     "text": [
      "batch shape:  ()\n",
      "event shape:  ()\n"
     ]
    }
   ],
   "source": [
    "# Display event and batch shape\n",
    "\n",
    "print('batch shape: ', normal.batch_shape)\n",
    "print('event shape: ', normal.event_shape)"
   ]
  },
  {
   "cell_type": "code",
   "execution_count": 63,
   "id": "based-drawing",
   "metadata": {},
   "outputs": [],
   "source": [
    "# Exponential bijector\n",
    "\n",
    "exp = tfb.Exp()"
   ]
  },
  {
   "cell_type": "code",
   "execution_count": 64,
   "id": "assisted-helmet",
   "metadata": {},
   "outputs": [],
   "source": [
    "# Log normal transformed distribution exp bijector\n",
    "\n",
    "log_normal_td = exp(normal)"
   ]
  },
  {
   "cell_type": "code",
   "execution_count": 65,
   "id": "vocal-amazon",
   "metadata": {},
   "outputs": [
    {
     "name": "stdout",
     "output_type": "stream",
     "text": [
      "batch shape:  ()\n",
      "event shape:  ()\n"
     ]
    }
   ],
   "source": [
    "# Display event and batch shape\n",
    "\n",
    "print('batch shape: ', log_normal_td.batch_shape)\n",
    "print('event shape: ', log_normal_td.event_shape)"
   ]
  },
  {
   "cell_type": "code",
   "execution_count": 66,
   "id": "educated-latvia",
   "metadata": {},
   "outputs": [],
   "source": [
    "# Base distribution\n",
    "\n",
    "z = normal.sample(n)"
   ]
  },
  {
   "cell_type": "markdown",
   "id": "personal-guatemala",
   "metadata": {},
   "source": [
    "#### Plots"
   ]
  },
  {
   "cell_type": "code",
   "execution_count": 67,
   "id": "northern-kennedy",
   "metadata": {},
   "outputs": [
    {
     "data": {
      "image/png": "[encoded data removed]",
      "text/plain": [
       "<Figure size 432x288 with 1 Axes>"
      ]
     },
     "metadata": {
      "needs_background": "light"
     },
     "output_type": "display_data"
    }
   ],
   "source": [
    "# Plot z density\n",
    "\n",
    "plt.hist(z.numpy(), bins=100, density=True)\n",
    "plt.show()"
   ]
  },
  {
   "cell_type": "code",
   "execution_count": 68,
   "id": "exceptional-pakistan",
   "metadata": {},
   "outputs": [],
   "source": [
    "# Transformed distribution\n",
    "\n",
    "x = log_normal_td.sample(n)"
   ]
  },
  {
   "cell_type": "code",
   "execution_count": 69,
   "id": "latin-swing",
   "metadata": {},
   "outputs": [
    {
     "data": {
      "image/png": "[encoded data removed]",
      "text/plain": [
       "<Figure size 432x288 with 1 Axes>"
      ]
     },
     "metadata": {
      "needs_background": "light"
     },
     "output_type": "display_data"
    }
   ],
   "source": [
    "# plot the x density\n",
    "\n",
    "plt.hist(x.numpy(), bins=100, density=True)\n",
    "plt.show()"
   ]
  },
  {
   "cell_type": "code",
   "execution_count": 70,
   "id": "neutral-reminder",
   "metadata": {},
   "outputs": [],
   "source": [
    "# Define log normal distribution using the one in tensorflow\n",
    "\n",
    "log_normal = tfd.LogNormal(loc=loc, scale=scale)"
   ]
  },
  {
   "cell_type": "code",
   "execution_count": 71,
   "id": "suspended-piano",
   "metadata": {},
   "outputs": [],
   "source": [
    "# Sample log normal\n",
    "\n",
    "l = log_normal.sample(n)"
   ]
  },
  {
   "cell_type": "code",
   "execution_count": 72,
   "id": "decimal-state",
   "metadata": {},
   "outputs": [
    {
     "data": {
      "image/png": "[encoded data removed]",
      "text/plain": [
       "<Figure size 432x288 with 1 Axes>"
      ]
     },
     "metadata": {
      "needs_background": "light"
     },
     "output_type": "display_data"
    }
   ],
   "source": [
    "# plot l density\n",
    "\n",
    "plt.hist(l.numpy(), bins=100, density=True);"
   ]
  },
  {
   "cell_type": "markdown",
   "id": "medieval-material",
   "metadata": {},
   "source": [
    "We can see that the plots for l and x look the same as by transforming the base function with a exponential transformation we are in fact creating a log normal distribution."
   ]
  },
  {
   "cell_type": "markdown",
   "id": "about-turner",
   "metadata": {},
   "source": [
    "#### Log probability"
   ]
  },
  {
   "cell_type": "code",
   "execution_count": 73,
   "id": "solved-dallas",
   "metadata": {},
   "outputs": [],
   "source": [
    "# Log prob of LogNormal\n",
    "\n",
    "log_prob = log_normal.log_prob(x)"
   ]
  },
  {
   "cell_type": "code",
   "execution_count": 74,
   "id": "drawn-metro",
   "metadata": {},
   "outputs": [],
   "source": [
    "# log prob of log normal transformed distribution\n",
    "\n",
    "log_prob_td = log_normal_td.log_prob(x)"
   ]
  },
  {
   "cell_type": "code",
   "execution_count": 75,
   "id": "crude-branch",
   "metadata": {},
   "outputs": [
    {
     "data": {
      "text/plain": [
       "<tf.Tensor: shape=(), dtype=float32, numpy=0.0>"
      ]
     },
     "execution_count": 75,
     "metadata": {},
     "output_type": "execute_result"
    }
   ],
   "source": [
    "# Check log probs\n",
    "\n",
    "tf.norm(log_prob - log_prob_td)"
   ]
  },
  {
   "cell_type": "markdown",
   "id": "alpha-guinea",
   "metadata": {},
   "source": [
    "We can see that the log prob are almost the same when comparing the distribution creating by us and the one from tensorflow probability."
   ]
  },
  {
   "cell_type": "markdown",
   "id": "warming-growth",
   "metadata": {},
   "source": [
    "### Event shape and batch shape"
   ]
  },
  {
   "cell_type": "code",
   "execution_count": 76,
   "id": "according-porcelain",
   "metadata": {},
   "outputs": [],
   "source": [
    "# Set a scaling lower triangular matrix\n",
    "\n",
    "tril = tf.random.normal((2, 4, 4))\n",
    "scale_low_tri = tf.linalg.LinearOperatorLowerTriangular(tril)"
   ]
  },
  {
   "cell_type": "markdown",
   "id": "informative-bleeding",
   "metadata": {},
   "source": [
    "The `LinearOperatorLowerTriangular` when applied to a given tensor returns a tensor of the same shape for which the upper triangular of the last dimension has been ignored."
   ]
  },
  {
   "cell_type": "code",
   "execution_count": 77,
   "id": "respective-schedule",
   "metadata": {},
   "outputs": [
    {
     "data": {
      "text/plain": [
       "<tf.Tensor: shape=(2, 4, 4), dtype=float32, numpy=\n",
       "array([[[-1.4590259 ,  0.3559779 , -0.3299697 ,  0.61346394],\n",
       "        [-1.1349314 ,  0.57027626,  0.97260803,  0.24491435],\n",
       "        [-0.27073836, -0.5778725 ,  1.6584498 ,  1.1707329 ],\n",
       "        [-1.8743569 , -0.41969025, -0.13969333,  1.1681886 ]],\n",
       "\n",
       "       [[-0.98815495,  0.13108665, -1.8460112 , -0.40761778],\n",
       "        [-0.51241165,  0.06439486, -1.7326529 ,  0.43242115],\n",
       "        [-0.61755776, -0.7435506 , -0.77576095, -0.19824466],\n",
       "        [-1.5738385 , -0.19679816,  0.5907547 ,  0.55977297]]],\n",
       "      dtype=float32)>"
      ]
     },
     "execution_count": 77,
     "metadata": {},
     "output_type": "execute_result"
    }
   ],
   "source": [
    "tril"
   ]
  },
  {
   "cell_type": "code",
   "execution_count": 78,
   "id": "handed-upgrade",
   "metadata": {},
   "outputs": [
    {
     "data": {
      "text/plain": [
       "<tf.Tensor: shape=(2, 4, 4), dtype=float32, numpy=\n",
       "array([[[-1.4590259 ,  0.        ,  0.        ,  0.        ],\n",
       "        [-1.1349314 ,  0.57027626,  0.        ,  0.        ],\n",
       "        [-0.27073836, -0.5778725 ,  1.6584498 ,  0.        ],\n",
       "        [-1.8743569 , -0.41969025, -0.13969333,  1.1681886 ]],\n",
       "\n",
       "       [[-0.98815495,  0.        ,  0.        ,  0.        ],\n",
       "        [-0.51241165,  0.06439486,  0.        ,  0.        ],\n",
       "        [-0.61755776, -0.7435506 , -0.77576095,  0.        ],\n",
       "        [-1.5738385 , -0.19679816,  0.5907547 ,  0.55977297]]],\n",
       "      dtype=float32)>"
      ]
     },
     "execution_count": 78,
     "metadata": {},
     "output_type": "execute_result"
    }
   ],
   "source": [
    "# View of scale_low_tri\n",
    "\n",
    "scale_low_tri.to_dense()"
   ]
  },
  {
   "cell_type": "code",
   "execution_count": 79,
   "id": "silent-pavilion",
   "metadata": {},
   "outputs": [],
   "source": [
    "# Define scale linear operator \n",
    "\n",
    "scale_lin_op = tfb.ScaleMatvecLinearOperator(scale_low_tri)"
   ]
  },
  {
   "cell_type": "markdown",
   "id": "tropical-brave",
   "metadata": {},
   "source": [
    "The forward transformation of this bijector scales by `scale_low_tri` the tensor to which the transformation is applied."
   ]
  },
  {
   "cell_type": "code",
   "execution_count": 123,
   "id": "another-jaguar",
   "metadata": {},
   "outputs": [
    {
     "data": {
      "text/plain": [
       "<tfp.distributions.MultivariateNormalDiag 'MultivariateNormalDiag' batch_shape=[2] event_shape=[4] dtype=float32>"
      ]
     },
     "execution_count": 123,
     "metadata": {},
     "output_type": "execute_result"
    }
   ],
   "source": [
    "normal = tfd.MultivariateNormalDiag(loc=loc, scale_diag=[[1,1,1,1], [1,1,1,1]])\n",
    "normal"
   ]
  },
  {
   "cell_type": "code",
   "execution_count": 119,
   "id": "demographic-subsection",
   "metadata": {},
   "outputs": [
    {
     "data": {
      "text/plain": [
       "<tfp.distributions.MultivariateNormalTriL 'MultivariateNormalTriL' batch_shape=[2] event_shape=[4] dtype=float32>"
      ]
     },
     "execution_count": 119,
     "metadata": {},
     "output_type": "execute_result"
    }
   ],
   "source": [
    "mvn3 = tfd.MultivariateNormalTriL(loc=loc, scale_tril=scale_low_tri.to_dense())\n",
    "mvn3"
   ]
  },
  {
   "cell_type": "code",
   "execution_count": 124,
   "id": "architectural-admission",
   "metadata": {},
   "outputs": [],
   "source": [
    "# Define scale linear operator transformed distribution with a batch and event shape\n",
    "\n",
    "mvn = tfd.TransformedDistribution(normal, scale_lin_op)"
   ]
  },
  {
   "cell_type": "code",
   "execution_count": 125,
   "id": "considered-single",
   "metadata": {},
   "outputs": [
    {
     "name": "stdout",
     "output_type": "stream",
     "text": [
      "batch shape:  (2,)\n",
      "event shape:  (4,)\n"
     ]
    }
   ],
   "source": [
    "# Display event and batch shape\n",
    "\n",
    "print('batch shape: ', mvn.batch_shape)\n",
    "print('event shape: ', mvn.event_shape)"
   ]
  },
  {
   "cell_type": "code",
   "execution_count": 126,
   "id": "middle-saskatchewan",
   "metadata": {},
   "outputs": [
    {
     "name": "stdout",
     "output_type": "stream",
     "text": [
      "(10000, 2, 4)\n"
     ]
    }
   ],
   "source": [
    "# Sample\n",
    "\n",
    "y1 = mvn.sample(sample_shape=(n,))\n",
    "print(y1.shape)"
   ]
  },
  {
   "cell_type": "code",
   "execution_count": 127,
   "id": "right-poetry",
   "metadata": {},
   "outputs": [],
   "source": [
    "# Define a Multivariate Normal Linear Operator distribution\n",
    "\n",
    "mvn2 = tfd.MultivariateNormalLinearOperator(loc=0, scale=scale_low_tri)"
   ]
  },
  {
   "cell_type": "code",
   "execution_count": 85,
   "id": "duplicate-council",
   "metadata": {},
   "outputs": [
    {
     "name": "stdout",
     "output_type": "stream",
     "text": [
      "batch shape:  (2,)\n",
      "event shape:  (4,)\n"
     ]
    }
   ],
   "source": [
    "# Display event and batch shape\n",
    "\n",
    "print('batch shape: ', mvn2.batch_shape)\n",
    "print('event shape: ', mvn2.event_shape)"
   ]
  },
  {
   "cell_type": "code",
   "execution_count": 86,
   "id": "pressing-pressing",
   "metadata": {},
   "outputs": [
    {
     "name": "stdout",
     "output_type": "stream",
     "text": [
      "(10000, 2, 4)\n"
     ]
    }
   ],
   "source": [
    "# Sample\n",
    "\n",
    "y2 = mvn2.sample(sample_shape=(n,))\n",
    "print(y2.shape)"
   ]
  },
  {
   "cell_type": "code",
   "execution_count": 122,
   "id": "environmental-period",
   "metadata": {},
   "outputs": [
    {
     "data": {
      "text/plain": [
       "<tf.Tensor: shape=(), dtype=float32, numpy=0.0>"
      ]
     },
     "execution_count": 122,
     "metadata": {},
     "output_type": "execute_result"
    }
   ],
   "source": [
    "# Check\n",
    "\n",
    "xn = normal.sample((n, 2, 4))\n",
    "tf.norm(mvn3.log_prob(xn) - mvn2.log_prob(xn)) / tf.norm(mvn3.log_prob(xn))"
   ]
  },
  {
   "cell_type": "code",
   "execution_count": 128,
   "id": "laden-receptor",
   "metadata": {},
   "outputs": [
    {
     "data": {
      "text/plain": [
       "<tf.Tensor: shape=(), dtype=float32, numpy=0.0>"
      ]
     },
     "execution_count": 128,
     "metadata": {},
     "output_type": "execute_result"
    }
   ],
   "source": [
    "# Check\n",
    "\n",
    "xn = normal.sample((n, 2, 4))\n",
    "tf.norm(mvn.log_prob(xn) - mvn2.log_prob(xn)) / tf.norm(mvn.log_prob(xn))"
   ]
  },
  {
   "cell_type": "code",
   "execution_count": 99,
   "id": "encouraging-resident",
   "metadata": {},
   "outputs": [
    {
     "data": {
      "image/png": "[encoded data removed]",
      "text/plain": [
       "<Figure size 432x288 with 1 Axes>"
      ]
     },
     "metadata": {
      "needs_background": "light"
     },
     "output_type": "display_data"
    }
   ],
   "source": [
    "plt.hist(y1.numpy()[:,0,0], bins=100, density=True);"
   ]
  },
  {
   "cell_type": "code",
   "execution_count": 105,
   "id": "comic-wages",
   "metadata": {},
   "outputs": [
    {
     "data": {
      "text/plain": [
       "<tf.Tensor: shape=(), dtype=float32, numpy=0.2514182>"
      ]
     },
     "execution_count": 105,
     "metadata": {},
     "output_type": "execute_result"
    }
   ],
   "source": [
    "mvn.prob([0, 0, 0, 0])[0]"
   ]
  }
 ],
 "metadata": {
  "kernelspec": {
   "display_name": "Python 3",
   "language": "python",
   "name": "python3"
  },
  "language_info": {
   "codemirror_mode": {
    "name": "ipython",
    "version": 3
   },
   "file_extension": ".py",
   "mimetype": "text/x-python",
   "name": "python",
   "nbconvert_exporter": "python",
   "pygments_lexer": "ipython3",
   "version": "3.8.5"
  }
 },
 "nbformat": 4,
 "nbformat_minor": 5
}
