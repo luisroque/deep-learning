{
 "cells": [
  {
   "cell_type": "code",
   "execution_count": 1,
   "id": "active-guyana",
   "metadata": {},
   "outputs": [
    {
     "name": "stdout",
     "output_type": "stream",
     "text": [
      "TF version:  2.4.1\n",
      "TFP version:  0.12.1\n"
     ]
    }
   ],
   "source": [
    "import tensorflow as tf\n",
    "import tensorflow_probability as tfp\n",
    "tfd = tfp.distributions\n",
    "tfpl = tfp.layers\n",
    "\n",
    "print('TF version: ', tf.__version__)\n",
    "print('TFP version: ', tfp.__version__)"
   ]
  },
  {
   "cell_type": "markdown",
   "id": "smaller-narrow",
   "metadata": {},
   "source": [
    "# The DistributionLambda layer"
   ]
  },
  {
   "cell_type": "code",
   "execution_count": 3,
   "id": "perceived-catalyst",
   "metadata": {},
   "outputs": [],
   "source": [
    "from tensorflow.keras.models import Sequential\n",
    "from tensorflow.keras.layers import Dense\n",
    "from tensorflow.keras.optimizers import RMSprop\n",
    "import numpy as np\n",
    "import matplotlib.pyplot as plt"
   ]
  },
  {
   "cell_type": "markdown",
   "id": "rational-church",
   "metadata": {},
   "source": [
    "#### Create a probabilitistic model using the `DistributionLambda` layer\n",
    "\n",
    "Create a model whose first layer represents:\n",
    "\n",
    "$$y = \\text{sigmoid(x)} = \\frac{1}{1+\\text{exp}(-x)}$$"
   ]
  },
  {
   "cell_type": "code",
   "execution_count": 55,
   "id": "studied-person",
   "metadata": {},
   "outputs": [
    {
     "data": {
      "image/png": "[encoded data removed]",
      "text/plain": [
       "<Figure size 432x288 with 1 Axes>"
      ]
     },
     "metadata": {
      "needs_background": "light"
     },
     "output_type": "display_data"
    }
   ],
   "source": [
    "# Create a sigmoid model, first deterministic, then probabilistic\n",
    "\n",
    "model = Sequential([\n",
    "    Dense(input_shape=(1,), units=1, activation='sigmoid',\n",
    "         kernel_initializer=tf.constant_initializer(1),\n",
    "         bias_initializer=tf.constant_initializer(0))\n",
    "])\n",
    "\n",
    "# Plot the function\n",
    "x_plot = np.linspace(-5, 5, 100)\n",
    "plt.scatter(x_plot, model.predict(x_plot), alpha=0.4)\n",
    "plt.plot(x_plot, 1/(1+np.exp(-x_plot)), color='r', alpha=0.8);"
   ]
  },
  {
   "cell_type": "code",
   "execution_count": 7,
   "id": "magnetic-arthur",
   "metadata": {},
   "outputs": [
    {
     "data": {
      "text/plain": [
       "array([[0]])"
      ]
     },
     "execution_count": 7,
     "metadata": {},
     "output_type": "execute_result"
    }
   ],
   "source": [
    "# Create a constant input for this model\n",
    "\n",
    "x = np.array([[0]])\n",
    "x"
   ]
  },
  {
   "cell_type": "code",
   "execution_count": 8,
   "id": "bored-austria",
   "metadata": {},
   "outputs": [
    {
     "data": {
      "text/plain": [
       "<tf.Tensor: shape=(1, 1), dtype=float32, numpy=array([[0.5]], dtype=float32)>"
      ]
     },
     "execution_count": 8,
     "metadata": {},
     "output_type": "execute_result"
    }
   ],
   "source": [
    "# Explore the feedforward object...\n",
    "\n",
    "y_model = model(x)\n",
    "y_model"
   ]
  },
  {
   "cell_type": "code",
   "execution_count": 9,
   "id": "developmental-future",
   "metadata": {},
   "outputs": [
    {
     "name": "stdout",
     "output_type": "stream",
     "text": [
      "[[0.5]]\n",
      "[[0.5]]\n",
      "[[0.5]]\n",
      "[[0.5]]\n",
      "[[0.5]]\n"
     ]
    }
   ],
   "source": [
    "# ... and its behaviour under repeated calls\n",
    "\n",
    "for _ in range(5):\n",
    "    print(model.predict(x))"
   ]
  },
  {
   "cell_type": "code",
   "execution_count": 28,
   "id": "august-regression",
   "metadata": {},
   "outputs": [
    {
     "data": {
      "image/png": "[encoded data removed]",
      "text/plain": [
       "<Figure size 432x288 with 1 Axes>"
      ]
     },
     "metadata": {
      "needs_background": "light"
     },
     "output_type": "display_data"
    }
   ],
   "source": [
    "# Create a sigmoid probabilistic model with a Bernoulli distribution\n",
    "\n",
    "model = Sequential([\n",
    "    Dense(input_shape=(1,), units=1, activation='sigmoid',\n",
    "         kernel_initializer=tf.constant_initializer(1),\n",
    "         bias_initializer=tf.constant_initializer(0)),\n",
    "    tfpl.DistributionLambda(lambda t: tfd.Bernoulli(probs=t),\n",
    "                           convert_to_tensor_fn=tfd.Distribution.sample)\n",
    "])\n",
    "\n",
    "# Plot the function\n",
    "x_plot = np.linspace(-5, 5, 100)\n",
    "plt.scatter(x_plot, model.predict(x_plot), alpha=0.4)\n",
    "plt.plot(x_plot, 1/(1+np.exp(-x_plot)), color='r', alpha=0.8);"
   ]
  },
  {
   "cell_type": "code",
   "execution_count": 29,
   "id": "differential-sentence",
   "metadata": {},
   "outputs": [
    {
     "data": {
      "text/plain": [
       "array([[0]])"
      ]
     },
     "execution_count": 29,
     "metadata": {},
     "output_type": "execute_result"
    }
   ],
   "source": [
    "# Create a constant input for this model\n",
    "\n",
    "x = np.array([[0]])\n",
    "x"
   ]
  },
  {
   "cell_type": "code",
   "execution_count": 30,
   "id": "tight-seeking",
   "metadata": {},
   "outputs": [
    {
     "data": {
      "text/plain": [
       "<tfp.distributions.Bernoulli 'sequential_5_distribution_lambda_2_Bernoulli' batch_shape=[1, 1] event_shape=[] dtype=int32>"
      ]
     },
     "execution_count": 30,
     "metadata": {},
     "output_type": "execute_result"
    }
   ],
   "source": [
    "# Explore the feedforward object...\n",
    "\n",
    "y_model = model(x)\n",
    "y_model"
   ]
  },
  {
   "cell_type": "code",
   "execution_count": 31,
   "id": "progressive-means",
   "metadata": {},
   "outputs": [
    {
     "name": "stdout",
     "output_type": "stream",
     "text": [
      "[[1]]\n",
      "[[0]]\n",
      "[[1]]\n",
      "[[1]]\n",
      "[[0]]\n"
     ]
    }
   ],
   "source": [
    "# ... and its behaviour under repeated calls\n",
    "\n",
    "for _ in range(5):\n",
    "    print(model.predict(x))"
   ]
  },
  {
   "cell_type": "code",
   "execution_count": 14,
   "id": "abstract-rochester",
   "metadata": {},
   "outputs": [
    {
     "data": {
      "image/png": "[encoded data removed]",
      "text/plain": [
       "<Figure size 432x288 with 1 Axes>"
      ]
     },
     "metadata": {
      "needs_background": "light"
     },
     "output_type": "display_data"
    }
   ],
   "source": [
    "# We can also specify the output to be the mean value instead of the sample from the distribution\n",
    "# Create a sigmoid probabilistic model with a Bernoulli distribution\n",
    "\n",
    "model = Sequential([\n",
    "    Dense(input_shape=(1,), units=1, activation='sigmoid',\n",
    "         kernel_initializer=tf.constant_initializer(1),\n",
    "         bias_initializer=tf.constant_initializer(0)),\n",
    "    tfpl.DistributionLambda(lambda t: tfd.Bernoulli(probs=t),\n",
    "                           convert_to_tensor_fn=tfd.Distribution.mean)\n",
    "])\n",
    "\n",
    "# Plot the function\n",
    "x_plot = np.linspace(-5, 5, 100)\n",
    "plt.scatter(x_plot, model.predict(x_plot), alpha=0.4)\n",
    "plt.plot(x_plot, 1/(1+np.exp(-x_plot)), color='r', alpha=0.8);"
   ]
  },
  {
   "cell_type": "code",
   "execution_count": 15,
   "id": "designed-ordering",
   "metadata": {},
   "outputs": [
    {
     "data": {
      "text/plain": [
       "array([[0]])"
      ]
     },
     "execution_count": 15,
     "metadata": {},
     "output_type": "execute_result"
    }
   ],
   "source": [
    "# Create a constant input for this model\n",
    "\n",
    "x = np.array([[0]])\n",
    "x"
   ]
  },
  {
   "cell_type": "code",
   "execution_count": 16,
   "id": "waiting-thirty",
   "metadata": {},
   "outputs": [
    {
     "data": {
      "text/plain": [
       "<tfp.distributions.Bernoulli 'sequential_4_distribution_lambda_1_Bernoulli' batch_shape=[1, 1] event_shape=[] dtype=int32>"
      ]
     },
     "execution_count": 16,
     "metadata": {},
     "output_type": "execute_result"
    }
   ],
   "source": [
    "# Explore the feedforward object...\n",
    "\n",
    "y_model = model(x)\n",
    "y_model"
   ]
  },
  {
   "cell_type": "code",
   "execution_count": 17,
   "id": "indirect-adrian",
   "metadata": {},
   "outputs": [
    {
     "name": "stdout",
     "output_type": "stream",
     "text": [
      "[[0.5]]\n",
      "[[0.5]]\n",
      "[[0.5]]\n",
      "[[0.5]]\n",
      "[[0.5]]\n"
     ]
    }
   ],
   "source": [
    "# ... and its behaviour under repeated calls\n",
    "\n",
    "for _ in range(5):\n",
    "    print(model.predict(x))"
   ]
  },
  {
   "cell_type": "markdown",
   "id": "bright-primary",
   "metadata": {},
   "source": [
    "#### Use the forward model to create probabilitistic training data"
   ]
  },
  {
   "cell_type": "code",
   "execution_count": 104,
   "id": "decreased-monkey",
   "metadata": {},
   "outputs": [],
   "source": [
    "# Create a sigmoid probabilistic model with a Bernoulli distribution\n",
    "\n",
    "model = Sequential([\n",
    "    Dense(input_shape=(1,), units=1, activation='sigmoid',\n",
    "         kernel_initializer=tf.constant_initializer(1),\n",
    "         bias_initializer=tf.constant_initializer(0)),\n",
    "    tfpl.DistributionLambda(lambda t: tfd.Bernoulli(probs=t),\n",
    "                           convert_to_tensor_fn=tfd.Distribution.sample)\n",
    "])"
   ]
  },
  {
   "cell_type": "code",
   "execution_count": 105,
   "id": "economic-corps",
   "metadata": {},
   "outputs": [
    {
     "data": {
      "image/png": "[encoded data removed]",
      "text/plain": [
       "<Figure size 360x360 with 1 Axes>"
      ]
     },
     "metadata": {
      "needs_background": "light"
     },
     "output_type": "display_data"
    }
   ],
   "source": [
    "# Use the model to create 500 training points\n",
    "\n",
    "x_train = np.linspace(-5, 5, 500)[:, np.newaxis]\n",
    "y_train = model.predict(x_train)\n",
    "\n",
    "# Plot the data and the mean of the distribution\n",
    "fig, ax = plt.subplots(figsize=(5, 5))\n",
    "ax.scatter(x_train, y_train, alpha=0.04, color='blue', label='samples')\n",
    "ax.plot(x_train, model(x_train).mean().numpy().flatten(), color='darkorange', label='mean')\n",
    "ax.legend()\n",
    "plt.show()"
   ]
  },
  {
   "cell_type": "markdown",
   "id": "democratic-discrimination",
   "metadata": {},
   "source": [
    "#### Create a new probabilistic model with the wrong weights"
   ]
  },
  {
   "cell_type": "code",
   "execution_count": 106,
   "id": "careful-frank",
   "metadata": {},
   "outputs": [
    {
     "data": {
      "image/png": "[encoded data removed]",
      "text/plain": [
       "<Figure size 432x288 with 1 Axes>"
      ]
     },
     "metadata": {
      "needs_background": "light"
     },
     "output_type": "display_data"
    }
   ],
   "source": [
    "# Create a new version of the model, with the wrong weights\n",
    "\n",
    "model_untrained = Sequential([\n",
    "    Dense(input_shape=(1,), units=1, activation='sigmoid',\n",
    "         kernel_initializer=tf.constant_initializer(2),\n",
    "         bias_initializer=tf.constant_initializer(2)),\n",
    "    tfpl.DistributionLambda(lambda t: tfd.Bernoulli(probs=t),\n",
    "                           convert_to_tensor_fn=tfd.Distribution.sample)\n",
    "])\n",
    "\n",
    "# Plot the function\n",
    "x_plot = np.linspace(-5, 5, 100)\n",
    "plt.plot(x_plot, 1/(1+np.exp(-(2*x_plot+2))), color='r', alpha=0.8, label='untrained model with poor parameters')\n",
    "plt.plot(x_plot, 1/(1+np.exp(-x_plot)), color='b', alpha=0.8, label='model that generated the data')\n",
    "plt.legend();"
   ]
  },
  {
   "cell_type": "markdown",
   "id": "visible-congo",
   "metadata": {},
   "source": [
    "#### Train the new model with the negative loglikelihood"
   ]
  },
  {
   "cell_type": "code",
   "execution_count": 107,
   "id": "sunrise-vienna",
   "metadata": {},
   "outputs": [],
   "source": [
    "# Define negative loglikelihood, which we will use for training\n",
    "\n",
    "def nll(y_true, y_pred):\n",
    "    return -y_pred.log_prob(y_true)"
   ]
  },
  {
   "cell_type": "code",
   "execution_count": 108,
   "id": "preliminary-davis",
   "metadata": {},
   "outputs": [],
   "source": [
    "# Compile untrained model\n",
    "\n",
    "model_untrained.compile(loss=nll, optimizer=RMSprop(learning_rate=0.01))"
   ]
  },
  {
   "cell_type": "code",
   "execution_count": 109,
   "id": "superb-soldier",
   "metadata": {},
   "outputs": [],
   "source": [
    "# Train model, record weights after each epoch\n",
    "\n",
    "epochs = [0]\n",
    "training_weights = [model_untrained.weights[0].numpy()[0,0]]\n",
    "training_bias = [model_untrained.weights[1].numpy()[0]]\n",
    "for epoch in range(100):\n",
    "    model_untrained.fit(x=x_train, y=y_train, epochs=1, verbose=False)\n",
    "    epochs.append(epoch)\n",
    "    training_weights.append(model_untrained.weights[0].numpy()[0,0])\n",
    "    training_bias.append(model_untrained.weights[1].numpy()[0])"
   ]
  },
  {
   "cell_type": "code",
   "execution_count": 110,
   "id": "prepared-excess",
   "metadata": {},
   "outputs": [
    {
     "data": {
      "image/png": "[encoded data removed]",
      "text/plain": [
       "<Figure size 432x288 with 1 Axes>"
      ]
     },
     "metadata": {
      "needs_background": "light"
     },
     "output_type": "display_data"
    }
   ],
   "source": [
    "# Plot the model weights as they train, converging to the correct values\n",
    "\n",
    "plt.plot(epochs, training_weights, label='weight')\n",
    "plt.plot(epochs, training_bias, label='bias')\n",
    "plt.axhline(y=1, label='true_weight', color='k', linestyle=':')\n",
    "plt.axhline(y=0, label='true_bias', color='k', linestyle='--')\n",
    "plt.xlabel('Epochs')\n",
    "plt.legend()\n",
    "plt.show()"
   ]
  },
  {
   "cell_type": "code",
   "execution_count": null,
   "id": "revised-brand",
   "metadata": {},
   "outputs": [],
   "source": []
  }
 ],
 "metadata": {
  "kernelspec": {
   "display_name": "Python 3",
   "language": "python",
   "name": "python3"
  },
  "language_info": {
   "codemirror_mode": {
    "name": "ipython",
    "version": 3
   },
   "file_extension": ".py",
   "mimetype": "text/x-python",
   "name": "python",
   "nbconvert_exporter": "python",
   "pygments_lexer": "ipython3",
   "version": "3.8.5"
  }
 },
 "nbformat": 4,
 "nbformat_minor": 5
}
