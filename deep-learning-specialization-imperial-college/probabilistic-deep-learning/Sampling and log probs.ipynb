{
 "cells": [
  {
   "cell_type": "code",
   "execution_count": 2,
   "id": "sorted-airport",
   "metadata": {},
   "outputs": [],
   "source": [
    "import tensorflow as tf\n",
    "import tensorflow_probability as tfp\n",
    "tfd = tfp.distributions"
   ]
  },
  {
   "cell_type": "code",
   "execution_count": 3,
   "id": "aware-relay",
   "metadata": {},
   "outputs": [],
   "source": [
    "exp = tfd.Exponential(rate=[[1., 1.5, 0.8], [0.3, 0.4, 1.8]])"
   ]
  },
  {
   "cell_type": "code",
   "execution_count": 4,
   "id": "sensitive-device",
   "metadata": {},
   "outputs": [
    {
     "data": {
      "text/plain": [
       "<tf.Tensor: shape=(4, 2, 3), dtype=float32, numpy=\n",
       "array([[[ 1.114776  ,  1.9618077 ,  1.3775986 ],\n",
       "        [ 2.2595909 ,  1.27244   ,  0.4738011 ]],\n",
       "\n",
       "       [[ 0.47329444,  1.4709959 ,  1.1949813 ],\n",
       "        [ 4.6351604 ,  1.7579396 ,  0.09245706]],\n",
       "\n",
       "       [[ 0.6893939 ,  0.7641494 ,  0.3967921 ],\n",
       "        [13.440917  ,  0.17377266,  0.18867895]],\n",
       "\n",
       "       [[ 0.31947738,  0.41454008,  1.9400377 ],\n",
       "        [ 0.21371049,  1.519958  ,  0.5807488 ]]], dtype=float32)>"
      ]
     },
     "execution_count": 4,
     "metadata": {},
     "output_type": "execute_result"
    }
   ],
   "source": [
    "ind_exp = tfd.Independent(exp)\n",
    "ind_exp.sample(4)"
   ]
  },
  {
   "cell_type": "markdown",
   "id": "molecular-incidence",
   "metadata": {},
   "source": [
    "### Increasing the rank"
   ]
  },
  {
   "cell_type": "code",
   "execution_count": 14,
   "id": "nearby-element",
   "metadata": {},
   "outputs": [],
   "source": [
    "rates = [\n",
    "    [[[1., 1.5, 0.8], [0.3, 0.4, 1.8]]],\n",
    "    [[[0.2, 0.4, 1.4], [0.4, 1.1, 0.9]]]\n",
    "]"
   ]
  },
  {
   "cell_type": "code",
   "execution_count": 16,
   "id": "ethical-furniture",
   "metadata": {},
   "outputs": [
    {
     "data": {
      "text/plain": [
       "<tfp.distributions.Exponential 'Exponential' batch_shape=[2, 1, 2, 3] event_shape=[] dtype=float32>"
      ]
     },
     "execution_count": 16,
     "metadata": {},
     "output_type": "execute_result"
    }
   ],
   "source": [
    "exp = tfd.Exponential(rate=rates)\n",
    "exp"
   ]
  },
  {
   "cell_type": "code",
   "execution_count": 18,
   "id": "abroad-elevation",
   "metadata": {},
   "outputs": [
    {
     "data": {
      "text/plain": [
       "<tfp.distributions.Independent 'IndependentExponential' batch_shape=[2, 1] event_shape=[2, 3] dtype=float32>"
      ]
     },
     "execution_count": 18,
     "metadata": {},
     "output_type": "execute_result"
    }
   ],
   "source": [
    "ind_exp = tfd.Independent(exp, reinterpreted_batch_ndims=2)\n",
    "ind_exp"
   ]
  },
  {
   "cell_type": "code",
   "execution_count": 20,
   "id": "accredited-bobby",
   "metadata": {},
   "outputs": [
    {
     "data": {
      "text/plain": [
       "TensorShape([4, 2, 2, 1, 2, 3])"
      ]
     },
     "execution_count": 20,
     "metadata": {},
     "output_type": "execute_result"
    }
   ],
   "source": [
    "# Sample can also be multidimensional\n",
    "\n",
    "ind_exp.sample([4,2]).shape"
   ]
  },
  {
   "cell_type": "code",
   "execution_count": 21,
   "id": "casual-decade",
   "metadata": {},
   "outputs": [
    {
     "data": {
      "text/plain": [
       "<tf.Tensor: shape=(2, 1), dtype=float32, numpy=\n",
       "array([[-4.2501554],\n",
       "       [-5.3155975]], dtype=float32)>"
      ]
     },
     "execution_count": 21,
     "metadata": {},
     "output_type": "execute_result"
    }
   ],
   "source": [
    "# The log prob method broadcasts 0.5 for the event and batch shape\n",
    "\n",
    "ind_exp.log_prob(0.5)"
   ]
  },
  {
   "cell_type": "code",
   "execution_count": 22,
   "id": "victorian-mineral",
   "metadata": {},
   "outputs": [
    {
     "data": {
      "text/plain": [
       "<tf.Tensor: shape=(2, 1), dtype=float32, numpy=\n",
       "array([[-4.7701554],\n",
       "       [-5.885597 ]], dtype=float32)>"
      ]
     },
     "execution_count": 22,
     "metadata": {},
     "output_type": "execute_result"
    }
   ],
   "source": [
    "# Another example, this time with a (1,3)\n",
    "\n",
    "# In this case it broadcasts for the first dimension of the event shape\n",
    "# and for both dimensions of the batch shape\n",
    "\n",
    "ind_exp.log_prob([[0.3, 0.5, 0.8]])"
   ]
  },
  {
   "cell_type": "code",
   "execution_count": 23,
   "id": "intensive-jacob",
   "metadata": {},
   "outputs": [
    {
     "data": {
      "text/plain": [
       "<tf.Tensor: shape=(5, 2, 1), dtype=float32, numpy=\n",
       "array([[[-4.8681116],\n",
       "        [-5.8733225]],\n",
       "\n",
       "       [[-3.7062087],\n",
       "        [-4.810455 ]],\n",
       "\n",
       "       [[-4.3748903],\n",
       "        [-5.3849773]],\n",
       "\n",
       "       [[-3.6069574],\n",
       "        [-5.03947  ]],\n",
       "\n",
       "       [[-5.6348534],\n",
       "        [-6.529839 ]]], dtype=float32)>"
      ]
     },
     "execution_count": 23,
     "metadata": {},
     "output_type": "execute_result"
    }
   ],
   "source": [
    "# Now, passing a rank 5 input to the log prob method\n",
    "\n",
    "ind_exp.log_prob(tf.random.uniform((5, 1, 1, 2, 1)))"
   ]
  },
  {
   "cell_type": "code",
   "execution_count": null,
   "id": "center-coverage",
   "metadata": {},
   "outputs": [],
   "source": []
  }
 ],
 "metadata": {
  "kernelspec": {
   "display_name": "Python 3",
   "language": "python",
   "name": "python3"
  },
  "language_info": {
   "codemirror_mode": {
    "name": "ipython",
    "version": 3
   },
   "file_extension": ".py",
   "mimetype": "text/x-python",
   "name": "python",
   "nbconvert_exporter": "python",
   "pygments_lexer": "ipython3",
   "version": "3.8.5"
  }
 },
 "nbformat": 4,
 "nbformat_minor": 5
}
