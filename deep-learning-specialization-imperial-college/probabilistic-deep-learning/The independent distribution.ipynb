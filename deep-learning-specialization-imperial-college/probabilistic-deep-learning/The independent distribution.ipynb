{
 "cells": [
  {
   "cell_type": "code",
   "execution_count": 2,
   "id": "interesting-income",
   "metadata": {},
   "outputs": [],
   "source": [
    "import tensorflow as tf\n",
    "import tensorflow_probability as tfp\n",
    "tfd = tfp.distributions"
   ]
  },
  {
   "cell_type": "code",
   "execution_count": 3,
   "id": "destroyed-township",
   "metadata": {},
   "outputs": [],
   "source": [
    "batched_normal = tfd.Normal(loc=[-1., 0.5], scale=[1., 1.5])"
   ]
  },
  {
   "cell_type": "code",
   "execution_count": 5,
   "id": "caring-kelly",
   "metadata": {},
   "outputs": [
    {
     "name": "stdout",
     "output_type": "stream",
     "text": [
      "tfp.distributions.Independent(\"IndependentNormal\", batch_shape=[], event_shape=[2], dtype=float32)\n"
     ]
    }
   ],
   "source": [
    "independent_normal = tfd.Independent(batched_normal, reinterpreted_batch_ndims=1)\n",
    "print(independent_normal)"
   ]
  },
  {
   "cell_type": "markdown",
   "id": "classified-alliance",
   "metadata": {},
   "source": [
    "We start by defining two independent normal distributions. By using the independent distribution and the `reinterpreted_batch_ndims` argument we create a multivariate gaussian distribution with diagonal covariance matrix, i.e. the random variable is independent across dimensions."
   ]
  },
  {
   "cell_type": "code",
   "execution_count": 6,
   "id": "collected-mixer",
   "metadata": {},
   "outputs": [
    {
     "data": {
      "text/plain": [
       "<tf.Tensor: shape=(), dtype=float32, numpy=-3.3388977>"
      ]
     },
     "execution_count": 6,
     "metadata": {},
     "output_type": "execute_result"
    }
   ],
   "source": [
    "independent_normal.log_prob([0.2, 1.8])"
   ]
  },
  {
   "cell_type": "markdown",
   "id": "saved-hardwood",
   "metadata": {},
   "source": [
    "We see that now the result of `log_prob` is a scalar, which means that this is one realization of a two-dimensional independent gaussian distribution."
   ]
  },
  {
   "cell_type": "markdown",
   "id": "hollywood-palestine",
   "metadata": {},
   "source": [
    "We can do the same for higher dimensional batched normal distributions."
   ]
  },
  {
   "cell_type": "code",
   "execution_count": 7,
   "id": "caring-shareware",
   "metadata": {},
   "outputs": [
    {
     "name": "stdout",
     "output_type": "stream",
     "text": [
      "tfp.distributions.Normal(\"Normal\", batch_shape=[3, 2], event_shape=[], dtype=float32)\n"
     ]
    }
   ],
   "source": [
    "batched_normal = tfd.Normal(loc=[[-1., 0.5], [0., 1.], [0.3, 0.1]],\n",
    "                           scale=[[1., 1.5], [0.2, 0.8], [2., 1.]])\n",
    "print(batched_normal)"
   ]
  },
  {
   "cell_type": "code",
   "execution_count": 9,
   "id": "passive-peninsula",
   "metadata": {},
   "outputs": [
    {
     "name": "stdout",
     "output_type": "stream",
     "text": [
      "tfp.distributions.Independent(\"IndependentNormal\", batch_shape=[3], event_shape=[2], dtype=float32)\n"
     ]
    }
   ],
   "source": [
    "independent_normal = tfd.Independent(batched_normal, reinterpreted_batch_ndims=1)\n",
    "print(independent_normal)"
   ]
  },
  {
   "cell_type": "code",
   "execution_count": null,
   "id": "killing-fiber",
   "metadata": {},
   "outputs": [],
   "source": []
  }
 ],
 "metadata": {
  "kernelspec": {
   "display_name": "Python 3",
   "language": "python",
   "name": "python3"
  },
  "language_info": {
   "codemirror_mode": {
    "name": "ipython",
    "version": 3
   },
   "file_extension": ".py",
   "mimetype": "text/x-python",
   "name": "python",
   "nbconvert_exporter": "python",
   "pygments_lexer": "ipython3",
   "version": "3.8.5"
  }
 },
 "nbformat": 4,
 "nbformat_minor": 5
}
