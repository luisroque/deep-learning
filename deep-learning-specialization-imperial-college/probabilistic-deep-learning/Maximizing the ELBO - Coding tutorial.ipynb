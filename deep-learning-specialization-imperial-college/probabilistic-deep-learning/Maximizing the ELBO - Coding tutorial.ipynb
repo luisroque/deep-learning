{
 "cells": [
  {
   "cell_type": "markdown",
   "id": "thick-gibson",
   "metadata": {},
   "source": [
    "# Maximizing the ELBO\n",
    "\n",
    "Review of terminology:\n",
    "\n",
    "* p(z) = prior\n",
    "* q(z|x) = encoding distribution\n",
    "* p(x|z) = decoding distribution\n",
    "\n",
    "$$\\begin{align}\n",
    "\\log p(x) & \\geq E_{Z~q(z|x}[-\\log q(z|x) + \\log p(x,z)] \\\\\n",
    "&= -\\text{KL} [q(z|x) || p(z)] + E_{z~q(z|x)}[\\log p(x|z]\n",
    "\\end{align}$$"
   ]
  },
  {
   "cell_type": "markdown",
   "id": "macro-fifteen",
   "metadata": {},
   "source": [
    "The loss that we estimate and optimize is the ELBO, which is maximized. On the left end side we have the log evidence or log `p(x)` and on the right side we have the ELBO, with the KL divergence between the posterior and the prior as well as the expected reconstruction loss."
   ]
  },
  {
   "cell_type": "code",
   "execution_count": 16,
   "id": "increasing-schema",
   "metadata": {},
   "outputs": [],
   "source": [
    "import tensorflow as tf\n",
    "import tensorflow_probability as tfp\n",
    "tfd = tfp.distributions\n",
    "tfl = tfp.layers\n",
    "from tensorflow.keras.models import Sequential, Model\n",
    "from tensorflow.keras.layers import Dense, Flatten, Reshape\n",
    "import matplotlib.pyplot as plt\n",
    "import numpy as np"
   ]
  },
  {
   "cell_type": "code",
   "execution_count": 21,
   "id": "mexican-titanium",
   "metadata": {},
   "outputs": [],
   "source": [
    "# Import Fashion MNIST, make it a Tensorflow dataset\n",
    "\n",
    "(x_train, _), (x_test, _) = tf.keras.datasets.fashion_mnist.load_data()\n",
    "x_train = x_train.astype('float32')/255\n",
    "x_test = x_test.astype('float32')/255\n",
    "example_x = x_test[:16]\n",
    "\n",
    "batch_size = 64\n",
    "x_train = tf.data.Dataset.from_tensor_slices(x_train).batch(batch_size)"
   ]
  },
  {
   "cell_type": "code",
   "execution_count": 22,
   "id": "geographic-specialist",
   "metadata": {},
   "outputs": [],
   "source": [
    "# Define the encoding distribution, q(z|x)\n",
    "\n",
    "latent_size = 2\n",
    "event_shape=(28,28)\n",
    "\n",
    "encoder = Sequential([\n",
    "    Flatten(input_shape=event_shape),\n",
    "    Dense(256, activation='relu'),\n",
    "    Dense(128, activation='relu'),\n",
    "    Dense(64, activation='relu'),\n",
    "    Dense(32, activation='relu'),\n",
    "    Dense(2*latent_size),\n",
    "    tfl.DistributionLambda(\n",
    "        lambda t: tfd.MultivariateNormalDiag(\n",
    "            loc=t[..., :latent_size],\n",
    "            scale_diag=tf.math.exp(t[..., latent_size:])))\n",
    "])"
   ]
  },
  {
   "cell_type": "code",
   "execution_count": 23,
   "id": "loving-waste",
   "metadata": {},
   "outputs": [
    {
     "data": {
      "text/plain": [
       "<tfp.distributions.MultivariateNormalDiag 'sequential_1_distribution_lambda_1_MultivariateNormalDiag' batch_shape=[16] event_shape=[2] dtype=float32>"
      ]
     },
     "execution_count": 23,
     "metadata": {},
     "output_type": "execute_result"
    }
   ],
   "source": [
    "# Pass an example image through the network - should return a batch of MultivariateNormalDiag\n",
    "\n",
    "encoder(example_x)"
   ]
  },
  {
   "cell_type": "code",
   "execution_count": 25,
   "id": "weighted-cleaners",
   "metadata": {},
   "outputs": [],
   "source": [
    "# Define the decoding distribution, p(x|z)\n",
    "\n",
    "decoder = Sequential([\n",
    "    Dense(32, activation='relu'),\n",
    "    Dense(64, activation='relu'),\n",
    "    Dense(128, activation='relu'),\n",
    "    Dense(256, activation='relu'),\n",
    "    Dense(tfl.IndependentBernoulli.params_size(event_shape)),\n",
    "    tfl.IndependentBernoulli(event_shape)\n",
    "])"
   ]
  },
  {
   "cell_type": "code",
   "execution_count": 26,
   "id": "collaborative-portable",
   "metadata": {},
   "outputs": [
    {
     "data": {
      "text/plain": [
       "<tfp.distributions.Independent 'sequential_2_independent_bernoulli_IndependentBernoulli_Independentsequential_2_independent_bernoulli_IndependentBernoulli_Bernoulli' batch_shape=[16] event_shape=[28, 28] dtype=float32>"
      ]
     },
     "execution_count": 26,
     "metadata": {},
     "output_type": "execute_result"
    }
   ],
   "source": [
    "# Pass a batch of examples to the decoder\n",
    "\n",
    "decoder(tf.random.normal([16, latent_size]))"
   ]
  },
  {
   "cell_type": "code",
   "execution_count": 27,
   "id": "breathing-release",
   "metadata": {},
   "outputs": [],
   "source": [
    "# Define the prior, p(z) - a standard bivariate Gaussian\n",
    "\n",
    "prior = tfd.MultivariateNormalDiag(loc=tf.zeros(latent_size))"
   ]
  },
  {
   "cell_type": "markdown",
   "id": "impossible-format",
   "metadata": {},
   "source": [
    "The loss function that we need to estimate is\n",
    "\n",
    "$$\\begin{align}\n",
    "- ELBO = \\text{KL} [q(z|x) || p(z)] -E_{z~q(z|x)}[\\log p(x|z]\n",
    "\\end{align}$$\n",
    "\n",
    "where $x = (x_1, x_2, ..., x_n$ refers to all observations, $z = (z_1, z_2, ..., z_n)$ refers to the corresponding latent variables.\n",
    "\n",
    "Assumed independence of examples implies that we can write this as \n",
    "\n",
    "$$\\begin{align}\n",
    "\\sum_j \\text{KL} [q(z_j|x_j) || p(z_j)] -E_{z_j~q(z_j|x_j)}[\\log p(x_j|z_j]\n",
    "\\end{align}$$"
   ]
  },
  {
   "cell_type": "markdown",
   "id": "joined-shadow",
   "metadata": {},
   "source": [
    "Our model will compute the KL divergence analytically, but the second term will be computed using $\\log p(x_j| z_j)$ where $z_j$ is a single sample from $q(z_j|x_j)$. This is a Monte Carlo estimate using only 1 sample."
   ]
  },
  {
   "cell_type": "code",
   "execution_count": 28,
   "id": "systematic-institute",
   "metadata": {},
   "outputs": [],
   "source": [
    "# Specify the loss function, an estimate of the -ELBO\n",
    "\n",
    "def loss(x, encoding_dist, sampled_decoding_dist, prior):\n",
    "    return tf.reduce_sum(\n",
    "        tfd.kl_divergence(encoding_dist, prior) - sampled_decoding_dist.log_prob(x))"
   ]
  },
  {
   "cell_type": "code",
   "execution_count": 31,
   "id": "immediate-award",
   "metadata": {},
   "outputs": [],
   "source": [
    "# Define a function that returns the loss and its gradients\n",
    "\n",
    "@tf.function\n",
    "def get_loss_and_grads(x):\n",
    "    with tf.GradientTape() as tape:\n",
    "        encoding_dist = encoder(x)\n",
    "        sampled_z = encoding_dist.sample()\n",
    "        sampled_decoding_dist = decoder(sampled_z)\n",
    "        current_loss = loss(x, encoding_dist, sampled_decoding_dist, prior)\n",
    "        \n",
    "    grads = tape.gradient(current_loss,\n",
    "                         encoder.trainable_variables + decoder.trainable_variables)\n",
    "    return current_loss, grads"
   ]
  },
  {
   "cell_type": "markdown",
   "id": "stopped-purse",
   "metadata": {},
   "source": [
    "If we want make a lower variance estimate of the reconstruction error, we can draw more than one sampling from each encoding distribution."
   ]
  },
  {
   "cell_type": "code",
   "execution_count": 32,
   "id": "circular-climb",
   "metadata": {},
   "outputs": [
    {
     "name": "stdout",
     "output_type": "stream",
     "text": [
      "-ELBO after epoch 5: 8727\n"
     ]
    }
   ],
   "source": [
    "# Compile and train the model\n",
    "\n",
    "num_epochs = 5\n",
    "opt = tf.keras.optimizers.Adam()\n",
    "for i in range(num_epochs):\n",
    "    for train_batch in x_train:\n",
    "        current_loss, grads = get_loss_and_grads(train_batch)\n",
    "        opt.apply_gradients(zip(grads, encoder.trainable_variables + decoder.trainable_variables))\n",
    "        \n",
    "    print('-ELBO after epoch {}: {:.0f}'.format(i+1, current_loss.numpy()))"
   ]
  },
  {
   "cell_type": "code",
   "execution_count": 34,
   "id": "boolean-romantic",
   "metadata": {},
   "outputs": [],
   "source": [
    "# Connect encoder and decoder, compute a reconstruction\n",
    "\n",
    "def vae(inputs):\n",
    "    approx_posterior = encoder(inputs)\n",
    "    decoding_dist = decoder(approx_posterior.sample())\n",
    "    return decoding_dist.sample()\n",
    "\n",
    "example_reconstruction = vae(example_x)"
   ]
  },
  {
   "cell_type": "code",
   "execution_count": 35,
   "id": "eastern-youth",
   "metadata": {},
   "outputs": [
    {
     "data": {
      "image/png": "[encoded data removed]",
      "text/plain": [
       "<Figure size 1152x360 with 12 Axes>"
      ]
     },
     "metadata": {
      "needs_background": "light"
     },
     "output_type": "display_data"
    }
   ],
   "source": [
    "# Plot examples against reconstructions\n",
    "\n",
    "f, axs = plt.subplots(2, 6, figsize=(16, 5))\n",
    "\n",
    "for j in range(6):\n",
    "    axs[0, j].imshow(example_x[j, :, :].squeeze(), cmap='binary')\n",
    "    axs[1, j].imshow(example_reconstruction[j, :, :], cmap='binary')\n",
    "    axs[0, j].axis('off')\n",
    "    axs[0, j].axis('off')"
   ]
  },
  {
   "cell_type": "markdown",
   "id": "infrared-philip",
   "metadata": {},
   "source": [
    "Because the decoding distribution is only over binary values it is quite limited in its ability to produce grey scale images."
   ]
  },
  {
   "cell_type": "code",
   "execution_count": 37,
   "id": "temporal-religious",
   "metadata": {},
   "outputs": [],
   "source": [
    "# Connect encoder and decoder, compute a reconstruction\n",
    "\n",
    "def vae(inputs):\n",
    "    approx_posterior = encoder(inputs)\n",
    "    decoding_dist = decoder(approx_posterior.sample())\n",
    "    return decoding_dist.mean()\n",
    "\n",
    "example_reconstruction = vae(example_x)"
   ]
  },
  {
   "cell_type": "code",
   "execution_count": 38,
   "id": "vertical-paragraph",
   "metadata": {},
   "outputs": [
    {
     "data": {
      "image/png": "[encoded data removed]",
      "text/plain": [
       "<Figure size 1152x360 with 12 Axes>"
      ]
     },
     "metadata": {
      "needs_background": "light"
     },
     "output_type": "display_data"
    }
   ],
   "source": [
    "# Plot examples against reconstructions\n",
    "\n",
    "f, axs = plt.subplots(2, 6, figsize=(16, 5))\n",
    "\n",
    "for j in range(6):\n",
    "    axs[0, j].imshow(example_x[j, :, :].squeeze(), cmap='binary')\n",
    "    axs[1, j].imshow(example_reconstruction[j, :, :], cmap='binary')\n",
    "    axs[0, j].axis('off')\n",
    "    axs[0, j].axis('off')"
   ]
  },
  {
   "cell_type": "markdown",
   "id": "ordered-porter",
   "metadata": {},
   "source": [
    "This is possible to achieve by computing the mean of the decoding distribution."
   ]
  },
  {
   "cell_type": "code",
   "execution_count": 40,
   "id": "renewable-academy",
   "metadata": {},
   "outputs": [],
   "source": [
    "# Generate an example - sample a z value, then sample a reconstruction from p(x|z)\n",
    "\n",
    "z = prior.sample(6)\n",
    "generated_x = decoder(z).sample()"
   ]
  },
  {
   "cell_type": "code",
   "execution_count": 41,
   "id": "danish-separate",
   "metadata": {},
   "outputs": [
    {
     "data": {
      "image/png": "[encoded data removed]",
      "text/plain": [
       "<Figure size 1152x360 with 6 Axes>"
      ]
     },
     "metadata": {
      "needs_background": "light"
     },
     "output_type": "display_data"
    }
   ],
   "source": [
    "# Display generated x\n",
    "\n",
    "f, axs = plt.subplots(1, 6, figsize=(16, 5))\n",
    "for j in range(6):\n",
    "    axs[j].imshow(generated_x[j, :, :].numpy().squeeze(), cmap='binary')\n",
    "    axs[j].axis('off')"
   ]
  },
  {
   "cell_type": "code",
   "execution_count": 43,
   "id": "associate-shark",
   "metadata": {},
   "outputs": [],
   "source": [
    "# Generate an example - sample a z value, then sample a reconstruction from p(x|z)\n",
    "\n",
    "z = prior.sample(6)\n",
    "generated_x = decoder(z).mean()"
   ]
  },
  {
   "cell_type": "code",
   "execution_count": 44,
   "id": "nominated-statement",
   "metadata": {},
   "outputs": [
    {
     "data": {
      "image/png": "[encoded data removed]",
      "text/plain": [
       "<Figure size 1152x360 with 6 Axes>"
      ]
     },
     "metadata": {
      "needs_background": "light"
     },
     "output_type": "display_data"
    }
   ],
   "source": [
    "# Display generated x\n",
    "\n",
    "f, axs = plt.subplots(1, 6, figsize=(16, 5))\n",
    "for j in range(6):\n",
    "    axs[j].imshow(generated_x[j, :, :].numpy().squeeze(), cmap='binary')\n",
    "    axs[j].axis('off')"
   ]
  }
 ],
 "metadata": {
  "kernelspec": {
   "display_name": "Python 3",
   "language": "python",
   "name": "python3"
  },
  "language_info": {
   "codemirror_mode": {
    "name": "ipython",
    "version": 3
   },
   "file_extension": ".py",
   "mimetype": "text/x-python",
   "name": "python",
   "nbconvert_exporter": "python",
   "pygments_lexer": "ipython3",
   "version": "3.8.5"
  }
 },
 "nbformat": 4,
 "nbformat_minor": 5
}
