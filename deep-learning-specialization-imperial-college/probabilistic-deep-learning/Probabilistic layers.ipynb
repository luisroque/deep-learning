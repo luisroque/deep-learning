{
 "cells": [
  {
   "cell_type": "markdown",
   "id": "arbitrary-questionnaire",
   "metadata": {},
   "source": [
    "# Reminder of DistributionLambda"
   ]
  },
  {
   "cell_type": "code",
   "execution_count": 13,
   "id": "incredible-grant",
   "metadata": {},
   "outputs": [],
   "source": [
    "import tensorflow as tf\n",
    "from tensorflow.keras.models import Sequential\n",
    "from tensorflow.keras.layers import Dense\n",
    "import tensorflow_probability as tfp\n",
    "tfd = tfp.distributions\n",
    "tfpl = tfp.layers\n",
    "import numpy as np\n",
    "import matplotlib.pyplot as plt"
   ]
  },
  {
   "cell_type": "code",
   "execution_count": 29,
   "id": "reflected-gospel",
   "metadata": {},
   "outputs": [],
   "source": [
    "model = Sequential([\n",
    "    Dense(16, activation='relu', input_shape=(2,)),\n",
    "    Dense(2),  \n",
    "    # the previous dense layer outputs a tensor with shape (batch_size, 2)\n",
    "    # and this tensor is then used to parameterize the normal distribution\n",
    "    tfpl.DistributionLambda(\n",
    "        lambda t: tfd.Independent(tfd.Normal(loc=t[..., :1],\n",
    "                                             # by using the softplus function we ensure that the\n",
    "                                             # tensor is a positive value as it needs to be as it is \n",
    "                                             # the standard deviation of the distribution\n",
    "                                            scale=tf.math.softplus(t[..., 1:]))))\n",
    "])"
   ]
  },
  {
   "cell_type": "code",
   "execution_count": 26,
   "id": "refined-criminal",
   "metadata": {},
   "outputs": [
    {
     "data": {
      "image/png": "[encoded data removed]",
      "text/plain": [
       "<Figure size 432x288 with 1 Axes>"
      ]
     },
     "metadata": {
      "needs_background": "light"
     },
     "output_type": "display_data"
    }
   ],
   "source": [
    "a = np.linspace(-5, 5, 500)\n",
    "b = tf.keras.activations.softplus(a) \n",
    "c = tf.keras.activations.relu(a) \n",
    "d = tf.keras.activations.sigmoid(a) \n",
    "plt.plot(a, b.numpy(), label='softplus')\n",
    "plt.plot(a, c.numpy(), label='relu')\n",
    "plt.plot(a, d.numpy(), label='sigmoid')\n",
    "plt.legend();"
   ]
  },
  {
   "cell_type": "code",
   "execution_count": 38,
   "id": "shared-sacrifice",
   "metadata": {},
   "outputs": [],
   "source": [
    "x_sample_mu = tfd.Normal(0, 1).sample(16)\n",
    "x_sample_std = tfd.HalfNormal(1).sample(16)\n",
    "x_sample = np.concatenate((x_sample_mu.numpy().reshape(-1,1), x_sample_std.numpy().reshape(-1,1)), axis=1)"
   ]
  },
  {
   "cell_type": "code",
   "execution_count": 39,
   "id": "green-option",
   "metadata": {},
   "outputs": [
    {
     "data": {
      "text/plain": [
       "(16, 2)"
      ]
     },
     "execution_count": 39,
     "metadata": {},
     "output_type": "execute_result"
    }
   ],
   "source": [
    "x_sample.shape"
   ]
  },
  {
   "cell_type": "code",
   "execution_count": 40,
   "id": "mathematical-bangladesh",
   "metadata": {},
   "outputs": [
    {
     "data": {
      "text/plain": [
       "<tfp.distributions.Independent 'sequential_5_distribution_lambda_5_Independentsequential_5_distribution_lambda_5_Normal' batch_shape=[16] event_shape=[1] dtype=float32>"
      ]
     },
     "execution_count": 40,
     "metadata": {},
     "output_type": "execute_result"
    }
   ],
   "source": [
    "model(x_sample)"
   ]
  },
  {
   "cell_type": "code",
   "execution_count": 41,
   "id": "boxed-harrison",
   "metadata": {},
   "outputs": [],
   "source": [
    "# Another equivalent way to write our previous model \n",
    "\n",
    "model = Sequential([\n",
    "    Dense(16, activation='relu', input_shape=(2,)),\n",
    "    Dense(2),\n",
    "    tfpl.IndependentNormal(1) # This 1 here represents the event shape of the distribution\n",
    "])"
   ]
  },
  {
   "cell_type": "code",
   "execution_count": 42,
   "id": "essential-cricket",
   "metadata": {},
   "outputs": [
    {
     "data": {
      "text/plain": [
       "<tfp.distributions.Independent 'sequential_6_independent_normal_IndependentNormal_Independentsequential_6_independent_normal_IndependentNormal_Normal' batch_shape=[16] event_shape=[1] dtype=float32>"
      ]
     },
     "execution_count": 42,
     "metadata": {},
     "output_type": "execute_result"
    }
   ],
   "source": [
    "model(x_sample)"
   ]
  },
  {
   "cell_type": "code",
   "execution_count": 43,
   "id": "durable-zimbabwe",
   "metadata": {},
   "outputs": [],
   "source": [
    "# Now we have an Independent Normal with an event shape of 2, which represents a \n",
    "# two-dimensional multivariate normal with a diagonal covariance matrix\n",
    "# So the mean now is two-dimensional and we also need two parameters to specify\n",
    "# the std of the two components\n",
    "\n",
    "model = Sequential([\n",
    "    Dense(16, activation='relu', input_shape=(2,)),\n",
    "    Dense(4),\n",
    "    tfpl.IndependentNormal(2) \n",
    "])"
   ]
  },
  {
   "cell_type": "code",
   "execution_count": 46,
   "id": "eight-kidney",
   "metadata": {},
   "outputs": [],
   "source": [
    "# We can also specify an event shape with a rank that is greater than 1\n",
    "# which means that in total we have 4 normally distributed random variables\n",
    "# that are independent from each other.\n",
    "# That requires 8 parameters, that is why the previous dense layer now has 8 units\n",
    "\n",
    "model = Sequential([\n",
    "    Dense(16, activation='relu', input_shape=(2,)),\n",
    "    Dense(8),\n",
    "    tfpl.IndependentNormal([2,2]) \n",
    "])"
   ]
  },
  {
   "cell_type": "code",
   "execution_count": 47,
   "id": "hungarian-portfolio",
   "metadata": {},
   "outputs": [
    {
     "data": {
      "text/plain": [
       "<tfp.distributions.Independent 'sequential_9_independent_normal_3_IndependentNormal_Independentsequential_9_independent_normal_3_IndependentNormal_Normal' batch_shape=[16] event_shape=[2, 2] dtype=float32>"
      ]
     },
     "execution_count": 47,
     "metadata": {},
     "output_type": "execute_result"
    }
   ],
   "source": [
    "model(x_sample)"
   ]
  },
  {
   "cell_type": "code",
   "execution_count": 50,
   "id": "russian-culture",
   "metadata": {},
   "outputs": [],
   "source": [
    "# When we are parameterizing the previous layer we can make use of the following static method\n",
    "\n",
    "event_shape=2\n",
    "\n",
    "model = Sequential([\n",
    "    Dense(16, activation='relu', input_shape=(2,)),\n",
    "    Dense(tfpl.IndependentNormal.params_size(event_shape)),\n",
    "    tfpl.IndependentNormal(event_shape,\n",
    "    # remember that we can specify functions to model the way the tensor\n",
    "    # is outputed from this layer\n",
    "                           convert_to_tensor_fn=tfd.Distribution.sample)\n",
    "])"
   ]
  },
  {
   "cell_type": "code",
   "execution_count": 53,
   "id": "competitive-catering",
   "metadata": {},
   "outputs": [],
   "source": [
    "# We can use these layers with other models, here we can see an example\n",
    "# with a standard convolution neural network\n",
    "\n",
    "from tensorflow.keras.layers import Flatten, Dense, Conv2D, MaxPooling2D\n",
    "\n",
    "# This is a classifier model for a dataset with 10 classes\n",
    "num_classes = 10\n",
    "\n",
    "model = Sequential([\n",
    "    Conv2D(16, (3, 3), activation='relu', input_shape=(32, 32, 3)),\n",
    "    MaxPooling2D((3, 3)),\n",
    "    Flatten(),\n",
    "    Dense(64, activation='relu'),\n",
    "    Dense(tfpl.OneHotCategorical.params_size(num_classes)),\n",
    "    tfpl.OneHotCategorical(num_classes)\n",
    "])"
   ]
  },
  {
   "cell_type": "code",
   "execution_count": null,
   "id": "built-marathon",
   "metadata": {},
   "outputs": [],
   "source": [
    "# This model can be trained with the same principle of log likelihood\n",
    "\n",
    "model.compile(loss=lambda y_true, y_pred: -y_pred.log_prob(y_true))\n",
    "model.fit(x_train, y_train, epochs=20)"
   ]
  },
  {
   "cell_type": "code",
   "execution_count": null,
   "id": "human-pillow",
   "metadata": {},
   "outputs": [],
   "source": [
    "# At test time\n",
    "\n",
    "# We can get the probabilities for each class from the categorical distribution\n",
    "# using the mean method\n",
    "model(x_test).mean()  # x_test: (1, 32, 32, 3) The first dimension is the batch size\n",
    "\n",
    "# We also can simply sample from this distribution using the sample method\n",
    "model(x_test).sample()"
   ]
  }
 ],
 "metadata": {
  "kernelspec": {
   "display_name": "Python 3",
   "language": "python",
   "name": "python3"
  },
  "language_info": {
   "codemirror_mode": {
    "name": "ipython",
    "version": 3
   },
   "file_extension": ".py",
   "mimetype": "text/x-python",
   "name": "python",
   "nbconvert_exporter": "python",
   "pygments_lexer": "ipython3",
   "version": "3.8.5"
  }
 },
 "nbformat": 4,
 "nbformat_minor": 5
}
