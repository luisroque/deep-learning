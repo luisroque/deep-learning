{
 "cells": [
  {
   "cell_type": "code",
   "execution_count": 1,
   "id": "least-reproduction",
   "metadata": {},
   "outputs": [],
   "source": [
    "import tensorflow_probability as tfp\n",
    "tfd = tfp.distributions"
   ]
  },
  {
   "cell_type": "code",
   "execution_count": 3,
   "id": "basic-metro",
   "metadata": {},
   "outputs": [
    {
     "name": "stdout",
     "output_type": "stream",
     "text": [
      "tfp.distributions.MultivariateNormalDiag(\"MultivariateNormalDiag\", batch_shape=[], event_shape=[2], dtype=float32)\n"
     ]
    }
   ],
   "source": [
    "# Create a two dimensional diagonal Gaussian dist\n",
    "\n",
    "mv_normal = tfd.MultivariateNormalDiag(loc=[-1., 0.5], scale_diag=[1., 1.5])\n",
    "print(mv_normal)"
   ]
  },
  {
   "cell_type": "code",
   "execution_count": 4,
   "id": "respiratory-march",
   "metadata": {},
   "outputs": [
    {
     "data": {
      "text/plain": [
       "TensorShape([2])"
      ]
     },
     "execution_count": 4,
     "metadata": {},
     "output_type": "execute_result"
    }
   ],
   "source": [
    "mv_normal.event_shape"
   ]
  },
  {
   "cell_type": "markdown",
   "id": "governmental-fifty",
   "metadata": {},
   "source": [
    "The fact that the event_shape=2 indicates that the random variable created is two-dimensional"
   ]
  },
  {
   "cell_type": "code",
   "execution_count": 7,
   "id": "noticed-bubble",
   "metadata": {},
   "outputs": [
    {
     "data": {
      "text/plain": [
       "<tf.Tensor: shape=(3, 2), dtype=float32, numpy=\n",
       "array([[-0.40149927,  0.94770396],\n",
       "       [-2.0028892 ,  1.6918546 ],\n",
       "       [-1.2507302 ,  2.4528666 ]], dtype=float32)>"
      ]
     },
     "execution_count": 7,
     "metadata": {},
     "output_type": "execute_result"
    }
   ],
   "source": [
    "# Produce 3 independent samples from the multivariate distribution\n",
    "\n",
    "mv_normal.sample(3)"
   ]
  },
  {
   "cell_type": "markdown",
   "id": "respiratory-nurse",
   "metadata": {},
   "source": [
    "Notice that each of the 3 samples is two-dimensional."
   ]
  },
  {
   "cell_type": "code",
   "execution_count": 8,
   "id": "brilliant-jenny",
   "metadata": {},
   "outputs": [],
   "source": [
    "# Let's compare with a batched normal\n",
    "\n",
    "batched_normal = tfd.Normal(loc=[-1., 0.5], scale=[1., 1.5])"
   ]
  },
  {
   "cell_type": "code",
   "execution_count": 9,
   "id": "foreign-owner",
   "metadata": {},
   "outputs": [
    {
     "name": "stdout",
     "output_type": "stream",
     "text": [
      "tfp.distributions.Normal(\"Normal\", batch_shape=[2], event_shape=[], dtype=float32)\n"
     ]
    }
   ],
   "source": [
    "print(batched_normal)"
   ]
  },
  {
   "cell_type": "markdown",
   "id": "latter-fundamentals",
   "metadata": {},
   "source": [
    "Notice that the batched normal has a batch_shape of 2 and a blank event shape. This happens because the normal distribution is univariate."
   ]
  },
  {
   "cell_type": "code",
   "execution_count": 10,
   "id": "adopted-malawi",
   "metadata": {},
   "outputs": [
    {
     "data": {
      "text/plain": [
       "<tf.Tensor: shape=(3, 2), dtype=float32, numpy=\n",
       "array([[-1.2561183 ,  0.47626746],\n",
       "       [-0.7919155 ,  0.2661795 ],\n",
       "       [-0.5263653 ,  1.6373231 ]], dtype=float32)>"
      ]
     },
     "execution_count": 10,
     "metadata": {},
     "output_type": "execute_result"
    }
   ],
   "source": [
    "# Sampling from the batched_normal\n",
    "\n",
    "batched_normal.sample(3)"
   ]
  },
  {
   "cell_type": "markdown",
   "id": "therapeutic-tuner",
   "metadata": {},
   "source": [
    "Notice that when we sample we get a (3,2) matrix, since the 3 is our sample size and 2 is the batch size. Despite the result having the same shape as the multivariate case, there is an important distinction between the two. The multivariate case is a two-dimensional random variable, while the normal distribution is a batch of two distributions of a single random variable, i.e. we create two random variables normally distributed."
   ]
  },
  {
   "cell_type": "code",
   "execution_count": 11,
   "id": "impossible-orchestra",
   "metadata": {},
   "outputs": [
    {
     "data": {
      "text/plain": [
       "<tf.Tensor: shape=(), dtype=float32, numpy=-2.9388978>"
      ]
     },
     "execution_count": 11,
     "metadata": {},
     "output_type": "execute_result"
    }
   ],
   "source": [
    "# Computing log probs for the mv normal\n",
    "\n",
    "mv_normal.log_prob([-0.2, 1.8])"
   ]
  },
  {
   "cell_type": "code",
   "execution_count": 13,
   "id": "cosmetic-possibility",
   "metadata": {},
   "outputs": [
    {
     "data": {
      "text/plain": [
       "<tf.Tensor: shape=(2,), dtype=float32, numpy=array([-1.2389386, -1.699959 ], dtype=float32)>"
      ]
     },
     "execution_count": 13,
     "metadata": {},
     "output_type": "execute_result"
    }
   ],
   "source": [
    "# Computing log probs for the batched normal\n",
    "\n",
    "batched_normal.log_prob([-0.2, 1.8])"
   ]
  },
  {
   "cell_type": "markdown",
   "id": "marine-diameter",
   "metadata": {},
   "source": [
    "For the mv normal when we pass a two dimensional array for the log prob method, this array represents a single realization of the two-dimensional random variable and correspondly the tensor that is returned contains a single log prob value.\n",
    "\n",
    "On the other hand, in the case of the batched normal distribution, the input array represents a value for each of the random variables for the two normal distributions in the batch. The log probs for each of the two realizations are evaluated and returned as a length two tensor.\n",
    "\n",
    "In this particular example, the two components of the  multivariate diagonal gaussian are independent, so the log_prob value for the mv normal is just the sum of the two returned values for the independent gaussian distributions defined on the batched_normal."
   ]
  },
  {
   "cell_type": "code",
   "execution_count": 20,
   "id": "advance-catholic",
   "metadata": {},
   "outputs": [
    {
     "name": "stdout",
     "output_type": "stream",
     "text": [
      "mv_normal: \n",
      "-2.9388978\n",
      "batched_normal: \n",
      "-2.9388976\n"
     ]
    }
   ],
   "source": [
    "print('mv_normal: ')\n",
    "print(mv_normal.log_prob([-0.2, 1.8]).numpy())\n",
    "\n",
    "print('batched_normal: ')\n",
    "print((batched_normal.log_prob([-0.2, 1.8])[0] + batched_normal.log_prob([-0.2, 1.8])[1]).numpy())"
   ]
  },
  {
   "cell_type": "code",
   "execution_count": 21,
   "id": "amended-burke",
   "metadata": {},
   "outputs": [],
   "source": [
    "# Batched multivariate distribution\n",
    "\n",
    "batched_mv_normal = tfd.MultivariateNormalDiag(loc=[[-1., 0.5],\n",
    "                                                    [2., 0.],\n",
    "                                                    [-0.5, 1.5]],\n",
    "                                              scale_diag = [[1., 1.5],\n",
    "                                                            [2., 0.5],\n",
    "                                                            [1., 1.]])"
   ]
  },
  {
   "cell_type": "code",
   "execution_count": 22,
   "id": "tamil-thickness",
   "metadata": {},
   "outputs": [
    {
     "name": "stdout",
     "output_type": "stream",
     "text": [
      "tfp.distributions.MultivariateNormalDiag(\"MultivariateNormalDiag\", batch_shape=[3], event_shape=[2], dtype=float32)\n"
     ]
    }
   ],
   "source": [
    "print(batched_mv_normal)"
   ]
  },
  {
   "cell_type": "code",
   "execution_count": 23,
   "id": "floppy-drama",
   "metadata": {},
   "outputs": [
    {
     "data": {
      "text/plain": [
       "<tf.Tensor: shape=(2, 3, 2), dtype=float32, numpy=\n",
       "array([[[ 0.42425132, -1.1782391 ],\n",
       "        [-0.09813643,  0.32067573],\n",
       "        [ 0.17918658,  3.6430721 ]],\n",
       "\n",
       "       [[-2.3836815 ,  2.0172658 ],\n",
       "        [ 1.7220739 ,  0.5960695 ],\n",
       "        [-1.6641382 ,  2.4435616 ]]], dtype=float32)>"
      ]
     },
     "execution_count": 23,
     "metadata": {},
     "output_type": "execute_result"
    }
   ],
   "source": [
    "# Sample from these distributions\n",
    "\n",
    "batched_mv_normal.sample(2)"
   ]
  },
  {
   "cell_type": "markdown",
   "id": "seasonal-fashion",
   "metadata": {},
   "source": [
    "It is a (2, 3, 2) tensor. The first 2 is the sample size, the 3 is the batch_shape and the last 2 is the event_size or the number of dimensions of the random variable."
   ]
  },
  {
   "cell_type": "code",
   "execution_count": null,
   "id": "institutional-israeli",
   "metadata": {},
   "outputs": [],
   "source": []
  }
 ],
 "metadata": {
  "kernelspec": {
   "display_name": "Python 3",
   "language": "python",
   "name": "python3"
  },
  "language_info": {
   "codemirror_mode": {
    "name": "ipython",
    "version": 3
   },
   "file_extension": ".py",
   "mimetype": "text/x-python",
   "name": "python",
   "nbconvert_exporter": "python",
   "pygments_lexer": "ipython3",
   "version": "3.8.5"
  }
 },
 "nbformat": 4,
 "nbformat_minor": 5
}
