{
 "cells": [
  {
   "cell_type": "code",
   "execution_count": 1,
   "id": "demonstrated-atlantic",
   "metadata": {},
   "outputs": [],
   "source": [
    "import tensorflow as tf\n",
    "from tensorflow.keras.models import Sequential\n",
    "from tensorflow.keras.layers import Dense"
   ]
  },
  {
   "cell_type": "code",
   "execution_count": 42,
   "id": "improved-heater",
   "metadata": {},
   "outputs": [],
   "source": [
    "import tensorflow_probability as tfp\n",
    "tfd = tfp.distributions\n",
    "tfpl = tfp.layers\n",
    "import matplotlib.pyplot as plt"
   ]
  },
  {
   "cell_type": "code",
   "execution_count": 38,
   "id": "hazardous-acquisition",
   "metadata": {},
   "outputs": [],
   "source": [
    "x_train = tfd.Normal(loc=[0, 2], scale=1).sample(1000)\n",
    "w = 5\n",
    "b = 1\n",
    "eps = tfd.Normal(0,10).sample(1000)\n",
    "y_train = x_train * w + b + tf.reshape(eps, (-1,1))"
   ]
  },
  {
   "cell_type": "code",
   "execution_count": 39,
   "id": "challenging-strip",
   "metadata": {},
   "outputs": [
    {
     "data": {
      "text/plain": [
       "<matplotlib.collections.PathCollection at 0x7f5e2e18ed00>"
      ]
     },
     "execution_count": 39,
     "metadata": {},
     "output_type": "execute_result"
    },
    {
     "data": {
      "image/png": "[encoded data removed]",
      "text/plain": [
       "<Figure size 432x288 with 1 Axes>"
      ]
     },
     "metadata": {
      "needs_background": "light"
     },
     "output_type": "display_data"
    }
   ],
   "source": [
    "plt.scatter(x_train[:,1], y_train[:,1])"
   ]
  },
  {
   "cell_type": "code",
   "execution_count": 65,
   "id": "exclusive-progressive",
   "metadata": {},
   "outputs": [],
   "source": [
    "model = Sequential([\n",
    "    Dense(1, input_shape=(2,)),\n",
    "    tfpl.DistributionLambda(lambda t: tfd.Normal(loc=t, scale=1))\n",
    "])"
   ]
  },
  {
   "cell_type": "code",
   "execution_count": 66,
   "id": "unnecessary-transfer",
   "metadata": {},
   "outputs": [
    {
     "name": "stdout",
     "output_type": "stream",
     "text": [
      "Epoch 1/10\n",
      "32/32 [==============================] - 0s 596us/step - loss: 204.6985\n",
      "Epoch 2/10\n",
      "32/32 [==============================] - 0s 688us/step - loss: 177.7334\n",
      "Epoch 3/10\n",
      "32/32 [==============================] - 0s 620us/step - loss: 196.0063\n",
      "Epoch 4/10\n",
      "32/32 [==============================] - 0s 532us/step - loss: 180.7732\n",
      "Epoch 5/10\n",
      "32/32 [==============================] - 0s 540us/step - loss: 188.0046\n",
      "Epoch 6/10\n",
      "32/32 [==============================] - 0s 552us/step - loss: 198.4132\n",
      "Epoch 7/10\n",
      "32/32 [==============================] - 0s 666us/step - loss: 187.5046\n",
      "Epoch 8/10\n",
      "32/32 [==============================] - 0s 599us/step - loss: 196.9378\n",
      "Epoch 9/10\n",
      "32/32 [==============================] - 0s 599us/step - loss: 170.3921\n",
      "Epoch 10/10\n",
      "32/32 [==============================] - 0s 688us/step - loss: 191.6393\n"
     ]
    },
    {
     "data": {
      "text/plain": [
       "<tensorflow.python.keras.callbacks.History at 0x7f5e2c05f2b0>"
      ]
     },
     "execution_count": 66,
     "metadata": {},
     "output_type": "execute_result"
    }
   ],
   "source": [
    "model.compile(loss='mse', optimizer='rmsprop')\n",
    "model.fit(x_train, y_train, epochs=10)"
   ]
  },
  {
   "cell_type": "code",
   "execution_count": 67,
   "id": "eleven-planning",
   "metadata": {},
   "outputs": [
    {
     "data": {
      "text/plain": [
       "<tfp.distributions.Normal 'sequential_8_distribution_lambda_3_Normal' batch_shape=[16, 1] event_shape=[] dtype=float32>"
      ]
     },
     "execution_count": 67,
     "metadata": {},
     "output_type": "execute_result"
    }
   ],
   "source": [
    "x_test = tfd.Normal(loc=[0, 2], scale=1).sample(16)\n",
    "model(x_test)"
   ]
  },
  {
   "cell_type": "code",
   "execution_count": 68,
   "id": "surprised-warrior",
   "metadata": {},
   "outputs": [],
   "source": [
    "def nll(y_true, y_pred):\n",
    "    return -y_pred.log_prob(y_true)"
   ]
  },
  {
   "cell_type": "code",
   "execution_count": 69,
   "id": "editorial-bhutan",
   "metadata": {},
   "outputs": [
    {
     "name": "stdout",
     "output_type": "stream",
     "text": [
      "Epoch 1/10\n",
      "32/32 [==============================] - 0s 540us/step - loss: 94.3796\n",
      "Epoch 2/10\n",
      "32/32 [==============================] - 0s 591us/step - loss: 90.8206\n",
      "Epoch 3/10\n",
      "32/32 [==============================] - 0s 558us/step - loss: 89.0245\n",
      "Epoch 4/10\n",
      "32/32 [==============================] - 0s 607us/step - loss: 92.0867\n",
      "Epoch 5/10\n",
      "32/32 [==============================] - 0s 596us/step - loss: 88.3506\n",
      "Epoch 6/10\n",
      "32/32 [==============================] - 0s 613us/step - loss: 86.4404\n",
      "Epoch 7/10\n",
      "32/32 [==============================] - 0s 601us/step - loss: 86.3152\n",
      "Epoch 8/10\n",
      "32/32 [==============================] - 0s 618us/step - loss: 87.8089\n",
      "Epoch 9/10\n",
      "32/32 [==============================] - 0s 653us/step - loss: 83.8307\n",
      "Epoch 10/10\n",
      "32/32 [==============================] - 0s 615us/step - loss: 85.5902\n"
     ]
    },
    {
     "data": {
      "text/plain": [
       "<tensorflow.python.keras.callbacks.History at 0x7f5e09f9b250>"
      ]
     },
     "execution_count": 69,
     "metadata": {},
     "output_type": "execute_result"
    }
   ],
   "source": [
    "# This is equivalent to the cell above where we compile the model with 'mse' loss\n",
    "# but now our model is probabilistic\n",
    "model.compile(loss=nll, optimizer='rmsprop')\n",
    "model.fit(x_train, y_train, epochs=10)"
   ]
  },
  {
   "cell_type": "code",
   "execution_count": 71,
   "id": "frozen-constitutional",
   "metadata": {
    "scrolled": true
   },
   "outputs": [
    {
     "data": {
      "text/plain": [
       "<tf.Tensor: shape=(5, 16, 1), dtype=float32, numpy=\n",
       "array([[[ 2.9059088 ],\n",
       "        [ 0.90893036],\n",
       "        [ 2.6543064 ],\n",
       "        [ 0.11188948],\n",
       "        [ 2.6580715 ],\n",
       "        [ 3.5059662 ],\n",
       "        [-0.11039269],\n",
       "        [ 4.6228395 ],\n",
       "        [ 2.271117  ],\n",
       "        [ 2.0711694 ],\n",
       "        [ 1.7520448 ],\n",
       "        [ 2.054507  ],\n",
       "        [ 1.5865448 ],\n",
       "        [ 1.8012009 ],\n",
       "        [-0.5217096 ],\n",
       "        [-0.41085225]],\n",
       "\n",
       "       [[ 1.669672  ],\n",
       "        [ 0.02627671],\n",
       "        [ 2.345519  ],\n",
       "        [ 1.4944527 ],\n",
       "        [ 0.30473375],\n",
       "        [ 1.3959577 ],\n",
       "        [ 1.6399044 ],\n",
       "        [ 3.132041  ],\n",
       "        [ 0.54037774],\n",
       "        [ 2.1369975 ],\n",
       "        [ 3.2062907 ],\n",
       "        [ 1.8701863 ],\n",
       "        [ 1.5113091 ],\n",
       "        [ 1.0612047 ],\n",
       "        [-0.26092118],\n",
       "        [-0.83601767]],\n",
       "\n",
       "       [[ 0.4854982 ],\n",
       "        [ 1.4018571 ],\n",
       "        [ 3.108728  ],\n",
       "        [ 1.9772842 ],\n",
       "        [ 2.8287473 ],\n",
       "        [ 0.64296675],\n",
       "        [ 1.4824259 ],\n",
       "        [ 2.4077656 ],\n",
       "        [ 1.5983753 ],\n",
       "        [ 1.3412113 ],\n",
       "        [ 1.17225   ],\n",
       "        [ 1.9558985 ],\n",
       "        [ 1.2653136 ],\n",
       "        [ 1.6340046 ],\n",
       "        [ 0.14901948],\n",
       "        [ 1.2737039 ]],\n",
       "\n",
       "       [[ 1.6837362 ],\n",
       "        [ 1.3346058 ],\n",
       "        [ 1.9819223 ],\n",
       "        [ 1.1152506 ],\n",
       "        [ 1.0150249 ],\n",
       "        [ 3.250391  ],\n",
       "        [-1.5873587 ],\n",
       "        [ 2.9284644 ],\n",
       "        [ 0.8749183 ],\n",
       "        [ 1.8872844 ],\n",
       "        [ 2.212262  ],\n",
       "        [ 0.07099152],\n",
       "        [ 2.604856  ],\n",
       "        [ 0.34382796],\n",
       "        [ 1.4248255 ],\n",
       "        [-0.28532475]],\n",
       "\n",
       "       [[ 2.1348383 ],\n",
       "        [ 1.2917752 ],\n",
       "        [ 0.32271838],\n",
       "        [-0.9226929 ],\n",
       "        [ 3.0996237 ],\n",
       "        [ 1.4688646 ],\n",
       "        [ 1.8046377 ],\n",
       "        [ 3.235134  ],\n",
       "        [ 1.7685353 ],\n",
       "        [-0.3967706 ],\n",
       "        [ 0.9336736 ],\n",
       "        [ 1.9887    ],\n",
       "        [ 3.3706665 ],\n",
       "        [ 0.7964844 ],\n",
       "        [ 3.571255  ],\n",
       "        [ 0.87958413]]], dtype=float32)>"
      ]
     },
     "execution_count": 71,
     "metadata": {},
     "output_type": "execute_result"
    }
   ],
   "source": [
    "# We can get predictions by sampling from this distribution\n",
    "model(x_test).sample(5)"
   ]
  },
  {
   "cell_type": "code",
   "execution_count": null,
   "id": "ahead-willow",
   "metadata": {},
   "outputs": [],
   "source": []
  },
  {
   "cell_type": "code",
   "execution_count": null,
   "id": "revised-patrick",
   "metadata": {},
   "outputs": [],
   "source": []
  },
  {
   "cell_type": "code",
   "execution_count": null,
   "id": "danish-humor",
   "metadata": {},
   "outputs": [],
   "source": []
  }
 ],
 "metadata": {
  "kernelspec": {
   "display_name": "Python 3",
   "language": "python",
   "name": "python3"
  },
  "language_info": {
   "codemirror_mode": {
    "name": "ipython",
    "version": 3
   },
   "file_extension": ".py",
   "mimetype": "text/x-python",
   "name": "python",
   "nbconvert_exporter": "python",
   "pygments_lexer": "ipython3",
   "version": "3.8.5"
  }
 },
 "nbformat": 4,
 "nbformat_minor": 5
}
