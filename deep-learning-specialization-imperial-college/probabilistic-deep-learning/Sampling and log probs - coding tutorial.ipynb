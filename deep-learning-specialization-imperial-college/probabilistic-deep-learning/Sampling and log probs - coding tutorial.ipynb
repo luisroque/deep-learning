{
 "cells": [
  {
   "cell_type": "code",
   "execution_count": 2,
   "id": "casual-brush",
   "metadata": {},
   "outputs": [],
   "source": [
    "import tensorflow as tf\n",
    "import tensorflow_probability as tfp\n",
    "tfd = tfp.distributions"
   ]
  },
  {
   "cell_type": "code",
   "execution_count": 5,
   "id": "wooden-explorer",
   "metadata": {},
   "outputs": [
    {
     "data": {
      "text/plain": [
       "<tfp.distributions.MultivariateNormalDiag 'MultivariateNormalDiag' batch_shape=[3] event_shape=[2] dtype=float32>"
      ]
     },
     "execution_count": 5,
     "metadata": {},
     "output_type": "execute_result"
    }
   ],
   "source": [
    "# Make multivariate Distribution\n",
    "\n",
    "normal_distribution = tfd.MultivariateNormalDiag(loc=[[0.5, 1.], [0.1, 0], [0, 0.2]],\n",
    "                                                scale_diag=[[2, 3], [1, 3], [4, 4]])\n",
    "normal_distribution"
   ]
  },
  {
   "cell_type": "code",
   "execution_count": 6,
   "id": "prime-accommodation",
   "metadata": {},
   "outputs": [
    {
     "data": {
      "text/plain": [
       "<tf.Tensor: shape=(5, 3, 2), dtype=float32, numpy=\n",
       "array([[[ 0.809603  , -4.3343606 ],\n",
       "        [-0.5144393 , -3.8310034 ],\n",
       "        [-1.5013548 ,  4.2068233 ]],\n",
       "\n",
       "       [[-2.1317112 ,  8.458184  ],\n",
       "        [ 0.8523676 , -5.365728  ],\n",
       "        [ 1.831659  ,  7.0399384 ]],\n",
       "\n",
       "       [[ 0.901067  ,  0.8922256 ],\n",
       "        [ 0.17544934,  5.216042  ],\n",
       "        [ 0.31113783, -2.0891843 ]],\n",
       "\n",
       "       [[ 2.9185498 ,  2.9119256 ],\n",
       "        [ 0.19371161, -1.3805535 ],\n",
       "        [-0.02062214,  2.4009593 ]],\n",
       "\n",
       "       [[-0.47351587,  1.4214468 ],\n",
       "        [-1.047671  ,  5.4978595 ],\n",
       "        [ 0.65695685, -3.8748133 ]]], dtype=float32)>"
      ]
     },
     "execution_count": 6,
     "metadata": {},
     "output_type": "execute_result"
    }
   ],
   "source": [
    "# Sample\n",
    "\n",
    "normal_distribution.sample(5)"
   ]
  },
  {
   "cell_type": "code",
   "execution_count": 7,
   "id": "contained-pollution",
   "metadata": {},
   "outputs": [
    {
     "data": {
      "text/plain": [
       "<tfp.distributions.MultivariateNormalDiag 'MultivariateNormalDiag' batch_shape=[2, 2] event_shape=[3] dtype=float32>"
      ]
     },
     "execution_count": 7,
     "metadata": {},
     "output_type": "execute_result"
    }
   ],
   "source": [
    "# Multivariate Normal batched distribution\n",
    "# We are broadcasting batch shapes of 'loc' and 'scale_diag'\n",
    "# against each other\n",
    "\n",
    "loc = [[[0.3, 1.5, 1.], [0.2, 0.4, 2.8]],\n",
    "      [[2., 2.3, 8.], [1.4, 1,1.3]]]\n",
    "scale_diag = [0.4, 1., 0.7]\n",
    "normal_distribution = tfd.MultivariateNormalDiag(loc=loc, scale_diag=scale_diag)\n",
    "normal_distribution"
   ]
  },
  {
   "cell_type": "code",
   "execution_count": 9,
   "id": "resistant-avatar",
   "metadata": {},
   "outputs": [
    {
     "data": {
      "text/plain": [
       "<tfp.distributions.Independent 'IndependentMultivariateNormalDiag' batch_shape=[2] event_shape=[2, 3] dtype=float32>"
      ]
     },
     "execution_count": 9,
     "metadata": {},
     "output_type": "execute_result"
    }
   ],
   "source": [
    "# Use independent to move part of the batch shape\n",
    "\n",
    "ind_normal_distributions = tfd.Independent(normal_distribution,\n",
    "                                          reinterpreted_batch_ndims=1)\n",
    "ind_normal_distributions"
   ]
  },
  {
   "cell_type": "code",
   "execution_count": 12,
   "id": "psychological-tractor",
   "metadata": {},
   "outputs": [
    {
     "data": {
      "text/plain": [
       "TensorShape([5, 2, 2, 3])"
      ]
     },
     "execution_count": 12,
     "metadata": {},
     "output_type": "execute_result"
    }
   ],
   "source": [
    "# Draw some samples\n",
    "\n",
    "samples = ind_normal_distributions.sample(5)\n",
    "samples.shape"
   ]
  },
  {
   "cell_type": "code",
   "execution_count": 13,
   "id": "monetary-roommate",
   "metadata": {},
   "outputs": [
    {
     "data": {
      "text/plain": [
       "<tf.Tensor: shape=(2,), dtype=float32, numpy=array([-11.014406, -67.21721 ], dtype=float32)>"
      ]
     },
     "execution_count": 13,
     "metadata": {},
     "output_type": "execute_result"
    }
   ],
   "source": [
    "# '[B, E]' shaped input\n",
    "\n",
    "inp = tf.random.uniform((2, 2, 3))\n",
    "ind_normal_distributions.log_prob(inp)"
   ]
  },
  {
   "cell_type": "code",
   "execution_count": 16,
   "id": "instant-battery",
   "metadata": {},
   "outputs": [
    {
     "data": {
      "text/plain": [
       "<tf.Tensor: shape=(2,), dtype=float32, numpy=array([-11.905516, -68.43455 ], dtype=float32)>"
      ]
     },
     "execution_count": 16,
     "metadata": {},
     "output_type": "execute_result"
    }
   ],
   "source": [
    "# '[E]' shaped input (broadcasting over batch size)\n",
    "\n",
    "inp = tf.random.uniform((2, 3))\n",
    "ind_normal_distributions.log_prob(inp)"
   ]
  },
  {
   "cell_type": "code",
   "execution_count": 17,
   "id": "behind-liechtenstein",
   "metadata": {},
   "outputs": [
    {
     "data": {
      "text/plain": [
       "<tf.Tensor: shape=(5, 2), dtype=float32, numpy=\n",
       "array([[ -8.453414, -79.14973 ],\n",
       "       [ -9.594481, -83.12004 ],\n",
       "       [-11.334316, -81.84296 ],\n",
       "       [ -8.279422, -70.33672 ],\n",
       "       [ -9.213768, -79.41513 ]], dtype=float32)>"
      ]
     },
     "execution_count": 17,
     "metadata": {},
     "output_type": "execute_result"
    }
   ],
   "source": [
    "# '[S, B, E]' shaped input (broadcasting over batch size)\n",
    "\n",
    "inp = tf.random.uniform((5, 2, 2, 3))\n",
    "ind_normal_distributions.log_prob(inp)"
   ]
  },
  {
   "cell_type": "code",
   "execution_count": 22,
   "id": "detected-stanley",
   "metadata": {},
   "outputs": [
    {
     "name": "stdout",
     "output_type": "stream",
     "text": [
      "WARNING: Nested component \"MultivariateNormalDiag_scale_matvec_linear_operator\" in composition \"MultivariateNormalDiag_chain_of_MultivariateNormalDiag_shift_of_MultivariateNormalDiag_scale_matvec_linear_operator\" operates on inputs with increased degrees of freedom. This may result in an incorrect log_det_jacobian.\n"
     ]
    },
    {
     "data": {
      "text/plain": [
       "<tf.Tensor: shape=(5, 2), dtype=float32, numpy=\n",
       "array([[ -9.840872, -58.58171 ],\n",
       "       [-12.37376 , -83.1953  ],\n",
       "       [-11.041252, -85.17639 ],\n",
       "       [ -9.692735, -59.609215],\n",
       "       [-10.273886, -69.077835]], dtype=float32)>"
      ]
     },
     "execution_count": 22,
     "metadata": {},
     "output_type": "execute_result"
    }
   ],
   "source": [
    "# '[s, b, e]' shaped input, where [b, e] is broadcastable over [B, E]\n",
    "\n",
    "inp = tf.random.uniform((5, 1, 2, 1))\n",
    "ind_normal_distributions.log_prob(inp)"
   ]
  },
  {
   "cell_type": "code",
   "execution_count": null,
   "id": "earlier-differential",
   "metadata": {},
   "outputs": [],
   "source": []
  }
 ],
 "metadata": {
  "kernelspec": {
   "display_name": "Python 3",
   "language": "python",
   "name": "python3"
  },
  "language_info": {
   "codemirror_mode": {
    "name": "ipython",
    "version": 3
   },
   "file_extension": ".py",
   "mimetype": "text/x-python",
   "name": "python",
   "nbconvert_exporter": "python",
   "pygments_lexer": "ipython3",
   "version": "3.8.5"
  }
 },
 "nbformat": 4,
 "nbformat_minor": 5
}
